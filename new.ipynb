{
 "cells": [
  {
   "cell_type": "code",
   "execution_count": 0,
   "metadata": {
    "application/vnd.databricks.v1+cell": {
     "cellMetadata": {
      "byteLimit": 2048000,
      "rowLimit": 10000
     },
     "inputWidgets": {},
     "nuid": "13902d88-ddc4-4053-aabc-fb45255d990c",
     "showTitle": false,
     "tableResultSettingsMap": {},
     "title": ""
    }
   },
   "outputs": [
    {
     "data": {
      "text/html": [
       "\n",
       "            <div>\n",
       "                <p><b>SparkSession - hive</b></p>\n",
       "                \n",
       "        <div>\n",
       "            <p><b>SparkContext</b></p>\n",
       "\n",
       "            <p><a href=\"/?o=3563187848450763#setting/sparkui/0703-063527-psq2ebfd/driver-6806429961416214809\">Spark UI</a></p>\n",
       "\n",
       "            <dl>\n",
       "              <dt>Version</dt>\n",
       "                <dd><code>v3.5.0</code></dd>\n",
       "              <dt>Master</dt>\n",
       "                <dd><code>local[*, 4]</code></dd>\n",
       "              <dt>AppName</dt>\n",
       "                <dd><code>Databricks Shell</code></dd>\n",
       "            </dl>\n",
       "        </div>\n",
       "        \n",
       "            </div>\n",
       "        "
      ],
      "text/plain": [
       "<pyspark.sql.session.SparkSession at 0x756dc05e8850>"
      ]
     },
     "execution_count": 20,
     "metadata": {},
     "output_type": "execute_result"
    }
   ],
   "source": [
    "spark"
   ]
  },
  {
   "cell_type": "code",
   "execution_count": 0,
   "metadata": {
    "application/vnd.databricks.v1+cell": {
     "cellMetadata": {
      "byteLimit": 2048000,
      "rowLimit": 10000
     },
     "inputWidgets": {},
     "nuid": "ba329884-1cbc-489e-a376-ac66f5040e62",
     "showTitle": false,
     "tableResultSettingsMap": {},
     "title": ""
    }
   },
   "outputs": [],
   "source": [
    "container_name = \"mycontainer\"\n",
    "storage_account_name = \"bhushanrkashyap\"\n",
    "# SAS token of the container\n",
    "sas_token = \"enterSasTokenHere\"\n",
    "\n",
    "\n",
    "\n",
    "\n"
   ]
  },
  {
   "cell_type": "code",
   "execution_count": 0,
   "metadata": {
    "application/vnd.databricks.v1+cell": {
     "cellMetadata": {
      "byteLimit": 2048000,
      "rowLimit": 10000
     },
     "inputWidgets": {},
     "nuid": "f97ca427-9d33-45b2-bf52-40d7b94b51c9",
     "showTitle": false,
     "tableResultSettingsMap": {},
     "title": ""
    }
   },
   "outputs": [],
   "source": [
    "spark.conf.set(\n",
    "    \"fs.azure.sas.mycontainer.bhushanrkashyap.blob.core.windows.net\",\n",
    "    \"sp=rl&st=2025-07-01T16:30:15Z&se=2035-07-02T00:30:15Z&spr=https&sv=2024-11-04&sr=c&sig=98PQ6vTNP9NJ5aMt8UX4F%2F3mYrYRKaLyUz1NkIF2vTw%3D\"\n",
    ")\n"
   ]
  },
  {
   "cell_type": "code",
   "execution_count": 0,
   "metadata": {
    "application/vnd.databricks.v1+cell": {
     "cellMetadata": {
      "byteLimit": 2048000,
      "rowLimit": 10000
     },
     "inputWidgets": {},
     "nuid": "1d4387fe-5e7b-4a17-99ef-dab05348ac69",
     "showTitle": false,
     "tableResultSettingsMap": {},
     "title": ""
    }
   },
   "outputs": [],
   "source": [
    "from pyspark.sql.types import StructField , StructType , IntegerType , StringType , DateType , DecimalType , NumericType , DoubleType , FloatType \n",
    "from pyspark.sql import Row\n",
    "from pyspark.sql.functions import avg, sum , when , col\n",
    "from pyspark.sql.window import Window"
   ]
  },
  {
   "cell_type": "code",
   "execution_count": 0,
   "metadata": {
    "application/vnd.databricks.v1+cell": {
     "cellMetadata": {
      "byteLimit": 2048000,
      "rowLimit": 10000
     },
     "inputWidgets": {},
     "nuid": "9557e1ac-453f-4964-8cd7-9b366a080a99",
     "showTitle": false,
     "tableResultSettingsMap": {},
     "title": ""
    }
   },
   "outputs": [],
   "source": [
    "#Designing schema for ball_by_ball_df\n",
    "ball_by_ball_schema = StructType([\n",
    "    StructField(\"MatcH_id\", IntegerType(), True),\n",
    "    StructField(\"Over_id\", IntegerType(), True),\n",
    "    StructField(\"Ball_id\", IntegerType(), True),\n",
    "    StructField(\"Innings_No\", IntegerType(), True),\n",
    "    StructField(\"Team_Batting\", StringType(), True),\n",
    "    StructField(\"Team_Bowling\", StringType(), True),\n",
    "    StructField(\"Striker_Batting_Position\", DoubleType(), True), \n",
    "    StructField(\"Extra_Type\", StringType(), True),\n",
    "    StructField(\"Runs_Scored\", IntegerType(), True),\n",
    "    StructField(\"Extra_runs\", IntegerType(), True),\n",
    "    StructField(\"Wides\", IntegerType(), True),\n",
    "    StructField(\"Legbyes\", IntegerType(), True),\n",
    "    StructField(\"Byes\", IntegerType(), True),\n",
    "    StructField(\"Noballs\", IntegerType(), True),\n",
    "    StructField(\"Penalty\", IntegerType(), True),\n",
    "    StructField(\"Bowler_Extras\", IntegerType(), True),\n",
    "    StructField(\"Out_type\", StringType(), True),\n",
    "    StructField(\"Caught\", IntegerType(), True),\n",
    "    StructField(\"Bowled\", IntegerType(), True),\n",
    "    StructField(\"Run_out\", IntegerType(), True),\n",
    "    StructField(\"LBW\", IntegerType(), True),\n",
    "    StructField(\"Retired_hurt\", IntegerType(), True),\n",
    "    StructField(\"Stumped\", IntegerType(), True),\n",
    "    StructField(\"caught_and_bowled\", IntegerType(), True),\n",
    "    StructField(\"hit_wicket\", IntegerType(), True),\n",
    "    StructField(\"ObstructingFeild\", IntegerType(), True),\n",
    "    StructField(\"Bowler_Wicket\", IntegerType(), True),\n",
    "    StructField(\"Match_Date\", StringType(), True), \n",
    "    StructField(\"Season\", IntegerType(), True),\n",
    "    StructField(\"Striker\", IntegerType(), True),\n",
    "    StructField(\"Non_Striker\", IntegerType(), True),\n",
    "    StructField(\"Bowler\", IntegerType(), True),\n",
    "    StructField(\"Player_Out\", DoubleType(), True), # Can be null\n",
    "    StructField(\"Fielders\", DoubleType(), True), # Can be null\n",
    "    StructField(\"Striker_match_SK\", IntegerType(), True),\n",
    "    StructField(\"StrikerSK\", IntegerType(), True),\n",
    "    StructField(\"NonStriker_match_SK\", IntegerType(), True),\n",
    "    StructField(\"NONStriker_SK\", IntegerType(), True),\n",
    "    StructField(\"Fielder_match_SK\", IntegerType(), True),\n",
    "    StructField(\"Fielder_SK\", IntegerType(), True),\n",
    "    StructField(\"Bowler_match_SK\", IntegerType(), True),\n",
    "    StructField(\"BOWLER_SK\", IntegerType(), True),\n",
    "    StructField(\"PlayerOut_match_SK\", IntegerType(), True),\n",
    "    StructField(\"BattingTeam_SK\", IntegerType(), True),\n",
    "    StructField(\"BowlingTeam_SK\", IntegerType(), True),\n",
    "    StructField(\"Keeper_Catch\", IntegerType(), True),\n",
    "    StructField(\"Player_out_sk\", IntegerType(), True),\n",
    "    StructField(\"MatchDateSK\", IntegerType(), True)\n",
    "])"
   ]
  },
  {
   "cell_type": "code",
   "execution_count": 0,
   "metadata": {
    "application/vnd.databricks.v1+cell": {
     "cellMetadata": {
      "byteLimit": 2048000,
      "rowLimit": 10000
     },
     "inputWidgets": {},
     "nuid": "c11a928c-0606-42a9-8327-46af9da0af9a",
     "showTitle": false,
     "tableResultSettingsMap": {},
     "title": ""
    }
   },
   "outputs": [],
   "source": [
    "#Read the dataset from existing Blob.\n",
    "ball_by_ball_df = spark.read.format(\"csv\").option(\"header\", \"true\").schema(ball_by_ball_schema).load(\"wasbs://mycontainer@bhushanrkashyap.blob.core.windows.net/Ball_By_Ball.csv\")"
   ]
  },
  {
   "cell_type": "code",
   "execution_count": 0,
   "metadata": {
    "application/vnd.databricks.v1+cell": {
     "cellMetadata": {
      "byteLimit": 2048000,
      "rowLimit": 10000
     },
     "inputWidgets": {},
     "nuid": "42cbcdd0-70a0-4e1b-bb9e-3a1367a30671",
     "showTitle": false,
     "tableResultSettingsMap": {},
     "title": ""
    }
   },
   "outputs": [],
   "source": [
    "#Designing schema for match_df\n",
    "match_schema = StructType([\n",
    "    StructField(\"Match_SK\", IntegerType(), True),\n",
    "    StructField(\"match_id\", IntegerType(), True),\n",
    "    StructField(\"Team1\", StringType(), True),\n",
    "    StructField(\"Team2\", StringType(), True),\n",
    "    StructField(\"match_date\", StringType(), True),\n",
    "    StructField(\"Season_Year\", IntegerType(), True),\n",
    "    StructField(\"Venue_Name\", StringType(), True),\n",
    "    StructField(\"City_Name\", StringType(), True),\n",
    "    StructField(\"Country_Name\", StringType(), True),\n",
    "    StructField(\"Toss_Winner\", StringType(), True),\n",
    "    StructField(\"match_winner\", StringType(), True),\n",
    "    StructField(\"Toss_Name\", StringType(), True),\n",
    "    StructField(\"Win_Type\", StringType(), True),\n",
    "    StructField(\"Outcome_Type\", StringType(), True),\n",
    "    StructField(\"ManOfMach\", StringType(), True),\n",
    "    StructField(\"Win_Margin\", DoubleType(), True), # Can be null\n",
    "    StructField(\"Country_id\", IntegerType(), True)\n",
    "])"
   ]
  },
  {
   "cell_type": "code",
   "execution_count": 0,
   "metadata": {
    "application/vnd.databricks.v1+cell": {
     "cellMetadata": {
      "byteLimit": 2048000,
      "rowLimit": 10000
     },
     "inputWidgets": {},
     "nuid": "21656e7c-f2b5-47ea-a6d9-163289f5c088",
     "showTitle": false,
     "tableResultSettingsMap": {},
     "title": ""
    }
   },
   "outputs": [],
   "source": [
    "#Read the dataset from existing Blob\n",
    "match_df = spark.read.format(\"csv\").option(\"header\" , \"True\").schema(match_schema).load(\"wasbs://mycontainer@bhushanrkashyap.blob.core.windows.net/Match.csv\")"
   ]
  },
  {
   "cell_type": "code",
   "execution_count": 0,
   "metadata": {
    "application/vnd.databricks.v1+cell": {
     "cellMetadata": {
      "byteLimit": 2048000,
      "rowLimit": 10000
     },
     "inputWidgets": {},
     "nuid": "fe545cc7-129b-4cd8-9658-04aa9064dc52",
     "showTitle": false,
     "tableResultSettingsMap": {},
     "title": ""
    }
   },
   "outputs": [],
   "source": [
    "#Design schema for Player_match csv\n",
    "player_match_schema = StructType([\n",
    "    StructField(\"Player_match_SK\", IntegerType(), True),\n",
    "    StructField(\"PlayerMatch_key\", DoubleType(), True), # Can be null\n",
    "    StructField(\"Match_Id\", IntegerType(), True),\n",
    "    StructField(\"Player_Id\", IntegerType(), True),\n",
    "    StructField(\"Player_Name\", StringType(), True),\n",
    "    StructField(\"DOB\", StringType(), True), # Can be converted to DateType after reading if needed.\n",
    "    StructField(\"Batting_hand\", StringType(), True),\n",
    "    StructField(\"Bowling_skill\", StringType(), True), # Can be null\n",
    "    StructField(\"Country_Name\", StringType(), True),\n",
    "    StructField(\"Role_Desc\", StringType(), True),\n",
    "    StructField(\"Player_team\", StringType(), True),\n",
    "    StructField(\"Opposit_Team\", StringType(), True),\n",
    "    StructField(\"Season_year\", DoubleType(), True), # Can be null\n",
    "    StructField(\"is_manofThematch\", DoubleType(), True), # Can be null\n",
    "    StructField(\"Age_As_on_match\", DoubleType(), True), # Can be null\n",
    "    StructField(\"IsPlayers_Team_won\", DoubleType(), True), # Can be null\n",
    "    StructField(\"Batting_Status\", DoubleType(), True), # All null\n",
    "    StructField(\"Bowling_Status\", DoubleType(), True), # All null\n",
    "    StructField(\"Player_Captain\", StringType(), True),\n",
    "    StructField(\"Opposit_captain\", StringType(), True),\n",
    "    StructField(\"Player_keeper\", StringType(), True),\n",
    "    StructField(\"Opposit_keeper\", StringType(), True)\n",
    "])"
   ]
  },
  {
   "cell_type": "code",
   "execution_count": 0,
   "metadata": {
    "application/vnd.databricks.v1+cell": {
     "cellMetadata": {
      "byteLimit": 2048000,
      "rowLimit": 10000
     },
     "inputWidgets": {},
     "nuid": "d34cd823-5921-42ed-aabe-e87681dce2d0",
     "showTitle": false,
     "tableResultSettingsMap": {},
     "title": ""
    }
   },
   "outputs": [],
   "source": [
    "player_match_df = spark.read.format(\"csv\").option(\"header\", \"true\").schema(player_match_schema).load(\"wasbs://mycontainer@bhushanrkashyap.blob.core.windows.net/Player_match.csv\")"
   ]
  },
  {
   "cell_type": "code",
   "execution_count": 0,
   "metadata": {
    "application/vnd.databricks.v1+cell": {
     "cellMetadata": {
      "byteLimit": 2048000,
      "rowLimit": 10000
     },
     "inputWidgets": {},
     "nuid": "29425d50-4e91-49e7-9c2a-34a94929766f",
     "showTitle": false,
     "tableResultSettingsMap": {},
     "title": ""
    }
   },
   "outputs": [],
   "source": [
    "#Design schema for Player.csv\n",
    "player_schema = StructType([\n",
    "    StructField(\"PLAYER_SK\", IntegerType(), True),\n",
    "    StructField(\"Player_Id\", IntegerType(), True),\n",
    "    StructField(\"Player_Name\", StringType(), True),\n",
    "    StructField(\"DOB\", StringType(), True), # Can be converted to DateType after reading if needed.\n",
    "    StructField(\"Batting_hand\", StringType(), True),\n",
    "    StructField(\"Bowling_skill\", StringType(), True), # Can be null\n",
    "    StructField(\"Country_Name\", StringType(), True)\n",
    "])"
   ]
  },
  {
   "cell_type": "code",
   "execution_count": 0,
   "metadata": {
    "application/vnd.databricks.v1+cell": {
     "cellMetadata": {
      "byteLimit": 2048000,
      "rowLimit": 10000
     },
     "inputWidgets": {},
     "nuid": "cdb9b47a-1765-4331-b29f-05b9b55064e6",
     "showTitle": false,
     "tableResultSettingsMap": {},
     "title": ""
    }
   },
   "outputs": [],
   "source": [
    "#Read the dataset from existing Blob\n",
    "player_df = spark.read.format(\"csv\").option(\"header\" , \"True\").schema(player_schema).load(\"wasbs://mycontainer@bhushanrkashyap.blob.core.windows.net/Player.csv\")"
   ]
  },
  {
   "cell_type": "code",
   "execution_count": 0,
   "metadata": {
    "application/vnd.databricks.v1+cell": {
     "cellMetadata": {
      "byteLimit": 2048000,
      "rowLimit": 10000
     },
     "inputWidgets": {},
     "nuid": "f70d4004-e884-4416-adf4-7016cdbcf17f",
     "showTitle": false,
     "tableResultSettingsMap": {},
     "title": ""
    }
   },
   "outputs": [],
   "source": [
    "#Design schema for Team.csv\n",
    "team_schema = StructType([\n",
    "    StructField(\"Team_SK\", IntegerType(), True),\n",
    "    StructField(\"Team_Id\", IntegerType(), True),\n",
    "    StructField(\"Team_Name\", StringType(), True)\n",
    "])"
   ]
  },
  {
   "cell_type": "code",
   "execution_count": 0,
   "metadata": {
    "application/vnd.databricks.v1+cell": {
     "cellMetadata": {
      "byteLimit": 2048000,
      "rowLimit": 10000
     },
     "inputWidgets": {},
     "nuid": "5f5f3abf-0009-4e92-a569-4cae86baf09a",
     "showTitle": false,
     "tableResultSettingsMap": {},
     "title": ""
    }
   },
   "outputs": [],
   "source": [
    "#Read team_df\n",
    "team_df = spark.read.format(\"csv\").option(\"header\" , \"true\").schema(team_schema).load(\"wasbs://mycontainer@bhushanrkashyap.blob.core.windows.net/Team.csv\")"
   ]
  },
  {
   "cell_type": "code",
   "execution_count": 0,
   "metadata": {
    "application/vnd.databricks.v1+cell": {
     "cellMetadata": {
      "byteLimit": 2048000,
      "rowLimit": 10000
     },
     "inputWidgets": {},
     "nuid": "45df78f1-6a89-4c67-809b-4190761c78c1",
     "showTitle": false,
     "tableResultSettingsMap": {},
     "title": ""
    }
   },
   "outputs": [],
   "source": [
    "# filter to include only valid deliveries\n",
    "ball_by_ball_df = ball_by_ball_df.filter((col(\"wides\") == 0) & (col(\"noballs\") == 0))\n",
    "#average and total runs scored\n",
    "total_and_avg_runs = ball_by_ball_df.groupBy(\"MatcH_id\" , \"innings_no\").agg(sum(\"runs_scored\").alias(\"total_runs\"),\n",
    "avg(\"runs_scored\").alias(\"avg_runs\"))\n"
   ]
  },
  {
   "cell_type": "code",
   "execution_count": 0,
   "metadata": {
    "application/vnd.databricks.v1+cell": {
     "cellMetadata": {
      "byteLimit": 2048000,
      "rowLimit": 10000
     },
     "inputWidgets": {},
     "nuid": "1a865d40-1e17-4aad-95c0-1a4c6cc31037",
     "showTitle": false,
     "tableResultSettingsMap": {},
     "title": ""
    }
   },
   "outputs": [],
   "source": [
    "# Use of Window function to calculate runs scored by running between the wickets.\n",
    "window1 = Window.partitionBy(\"MatcH_id\", \"innings_no\").orderBy(\"over_id\")\n",
    "\n",
    "ball_by_ball_df = ball_by_ball_df.withColumn('running_total_runs', sum(\"runs_scored\").over(window1))\n",
    "\n"
   ]
  },
  {
   "cell_type": "code",
   "execution_count": 0,
   "metadata": {
    "application/vnd.databricks.v1+cell": {
     "cellMetadata": {
      "byteLimit": 2048000,
      "rowLimit": 10000
     },
     "inputWidgets": {},
     "nuid": "6cb03d81-41c0-450a-905a-e0fdce1a7b06",
     "showTitle": false,
     "tableResultSettingsMap": {},
     "title": ""
    }
   },
   "outputs": [],
   "source": [
    "#Filter out the high impact balls i.e balls with more than  6 runs or a wicket\n",
    "ball_by_ball_df = ball_by_ball_df.withColumn(\"high_impact_balls\",\n",
    "    when((col(\"runs_scored\") >= 6) | (col(\"bowler_wicket\") == True), True).otherwise(False))"
   ]
  },
  {
   "cell_type": "code",
   "execution_count": 0,
   "metadata": {
    "application/vnd.databricks.v1+cell": {
     "cellMetadata": {
      "byteLimit": 2048000,
      "rowLimit": 10000
     },
     "inputWidgets": {},
     "nuid": "a000833b-74b8-4024-b2e0-f66845cf6508",
     "showTitle": false,
     "tableResultSettingsMap": {},
     "title": ""
    }
   },
   "outputs": [],
   "source": [
    "window2 = Window.partitionBy(\"MatcH_id\" , \"innings_no\" ,\"Over_id\").orderBy(\"over_id\")\n"
   ]
  },
  {
   "cell_type": "code",
   "execution_count": 0,
   "metadata": {
    "application/vnd.databricks.v1+cell": {
     "cellMetadata": {
      "byteLimit": 2048000,
      "rowLimit": 10000
     },
     "inputWidgets": {},
     "nuid": "828a5679-2a0b-4e10-8600-5d8250cc3d02",
     "showTitle": false,
     "tableResultSettingsMap": {},
     "title": ""
    }
   },
   "outputs": [],
   "source": [
    "#calculate runs scored on each ball\n",
    "ball_by_ball_df = ball_by_ball_df.withColumn(\"Total_runs_on_a_ball\", col(\"Runs_Scored\") + col(\"Extra_runs\"))\n",
    "\n"
   ]
  },
  {
   "cell_type": "code",
   "execution_count": 0,
   "metadata": {
    "application/vnd.databricks.v1+cell": {
     "cellMetadata": {
      "byteLimit": 2048000,
      "rowLimit": 10000
     },
     "inputWidgets": {},
     "nuid": "97c06cb5-f78e-4324-b84a-71eaec7d0de2",
     "showTitle": false,
     "tableResultSettingsMap": {},
     "title": ""
    }
   },
   "outputs": [],
   "source": [
    "window2 = Window.partitionBy(\"MatcH_id\", \"Innings_no\").orderBy(\"Over_id\", \"Ball_id\")"
   ]
  },
  {
   "cell_type": "code",
   "execution_count": 0,
   "metadata": {
    "application/vnd.databricks.v1+cell": {
     "cellMetadata": {
      "byteLimit": 2048000,
      "rowLimit": 10000
     },
     "inputWidgets": {},
     "nuid": "b9581c6c-c65a-4dd0-b9f4-5a7597de0846",
     "showTitle": false,
     "tableResultSettingsMap": {},
     "title": ""
    }
   },
   "outputs": [],
   "source": [
    "#calculate Innings total\n",
    "ball_by_ball_df = ball_by_ball_df.withColumn(\"Innings_Total\", sum(\"Total_runs_on_a_ball\").over(window2))"
   ]
  },
  {
   "cell_type": "code",
   "execution_count": 0,
   "metadata": {
    "application/vnd.databricks.v1+cell": {
     "cellMetadata": {
      "byteLimit": 2048000,
      "rowLimit": 10000
     },
     "inputWidgets": {},
     "nuid": "c96ff9b7-e789-49c0-9a46-4afefae55749",
     "showTitle": false,
     "tableResultSettingsMap": {},
     "title": ""
    }
   },
   "outputs": [],
   "source": [
    "from pyspark.sql.functions import year , month , when , dayofmonth\n",
    "#categorize the match_date column into date , month , year\n",
    "match_df = match_df.withColumn(\"Year\", year(\"match_date\"))\n",
    "match_df = match_df.withColumn(\"Month\", month(\"match_date\"))\n",
    "match_df = match_df.withColumn(\"Day\", dayofmonth(\"match_date\"))\n"
   ]
  },
  {
   "cell_type": "code",
   "execution_count": 0,
   "metadata": {
    "application/vnd.databricks.v1+cell": {
     "cellMetadata": {
      "byteLimit": 2048000,
      "rowLimit": 10000
     },
     "inputWidgets": {},
     "nuid": "24671e86-2813-44b3-b35b-523c1678022e",
     "showTitle": false,
     "tableResultSettingsMap": {},
     "title": ""
    }
   },
   "outputs": [],
   "source": [
    "#Categorize Win_margin as High , Medium , Low\n",
    "match_df = match_df.withColumn(\"Win_margin\", \n",
    "    when (col(\"Win_margin\")>= 100, \"High\")\n",
    "    .when((col(\"Win_margin\")>=50) & (col(\"Win_margin\")<100),\"Medium\").otherwise(\"Low\")\n",
    ")"
   ]
  },
  {
   "cell_type": "code",
   "execution_count": 0,
   "metadata": {
    "application/vnd.databricks.v1+cell": {
     "cellMetadata": {
      "byteLimit": 2048000,
      "rowLimit": 10000
     },
     "inputWidgets": {},
     "nuid": "3c2c8b2c-7c6d-4ff8-8c9d-0aa724496330",
     "showTitle": false,
     "tableResultSettingsMap": {},
     "title": ""
    }
   },
   "outputs": [],
   "source": [
    "#Analyze the impact of toss\n",
    "match_df = match_df.withColumn(\"toss_and_match_winner\", \n",
    "    when(col(\"Toss_Winner\") == col(\"match_winner\"),\"Yes\").otherwise(\"No\"))"
   ]
  },
  {
   "cell_type": "code",
   "execution_count": 0,
   "metadata": {
    "application/vnd.databricks.v1+cell": {
     "cellMetadata": {
      "byteLimit": 2048000,
      "rowLimit": 10000
     },
     "inputWidgets": {},
     "nuid": "3b107946-ebdd-435e-b228-2139ef37fa79",
     "showTitle": false,
     "tableResultSettingsMap": {},
     "title": ""
    }
   },
   "outputs": [],
   "source": [
    "from pyspark.sql.functions import lower, regexp_replace\n",
    "#clean the player names\n",
    "player_df = player_df.withColumn(\"Player_Name\", lower(regexp_replace(col(\"Player_Name\"), r\"[^a-zA-Z0-9]\", \"\")))"
   ]
  },
  {
   "cell_type": "code",
   "execution_count": 0,
   "metadata": {
    "application/vnd.databricks.v1+cell": {
     "cellMetadata": {
      "byteLimit": 2048000,
      "rowLimit": 10000
     },
     "inputWidgets": {},
     "nuid": "8437bc61-1b44-415b-97fd-45e1617612c3",
     "showTitle": false,
     "tableResultSettingsMap": {},
     "title": ""
    }
   },
   "outputs": [],
   "source": [
    "#Handling missing values\n",
    "player_df = player_df.na.fill({\"Batting_hand\" : \"unknown\" , \n",
    "                               \"Bowling_skill\" : \"unknown\"})"
   ]
  },
  {
   "cell_type": "code",
   "execution_count": 0,
   "metadata": {
    "application/vnd.databricks.v1+cell": {
     "cellMetadata": {
      "byteLimit": 2048000,
      "rowLimit": 10000
     },
     "inputWidgets": {},
     "nuid": "d5f50912-2d26-47c1-b7d1-708902ea4d2f",
     "showTitle": false,
     "tableResultSettingsMap": {},
     "title": ""
    }
   },
   "outputs": [],
   "source": [
    "player_df = player_df.withColumn(\"Batting_style\",\n",
    "when(col(\"Batting_hand\").contains(\"left\"),\"Left-Handed\").otherwise(\"Right-Handed\"))"
   ]
  },
  {
   "cell_type": "code",
   "execution_count": 0,
   "metadata": {
    "application/vnd.databricks.v1+cell": {
     "cellMetadata": {
      "byteLimit": 2048000,
      "rowLimit": 10000
     },
     "inputWidgets": {},
     "nuid": "67755c69-1097-44fa-901d-8eb176bd69ff",
     "showTitle": false,
     "tableResultSettingsMap": {},
     "title": ""
    }
   },
   "outputs": [
    {
     "name": "stdout",
     "output_type": "stream",
     "text": [
      "+---------+---------+-----------+----------+--------------+----------------+------------+-------------+\n",
      "|PLAYER_SK|Player_Id|Player_Name|       DOB|  Batting_hand|   Bowling_skill|Country_Name|Batting_style|\n",
      "+---------+---------+-----------+----------+--------------+----------------+------------+-------------+\n",
      "|        0|        1|  scganguly|  7/8/1972| Left-hand bat|Right-arm medium|       India| Right-Handed|\n",
      "|        1|        2| bbmccullum| 9/27/1981|Right-hand bat|Right-arm medium| New Zealand| Right-Handed|\n",
      "|        2|        3|  rtponting|12/19/1974|Right-hand bat|Right-arm medium|   Australia| Right-Handed|\n",
      "+---------+---------+-----------+----------+--------------+----------------+------------+-------------+\n",
      "only showing top 3 rows\n",
      "\n"
     ]
    }
   ],
   "source": [
    "player_df.show(3)"
   ]
  },
  {
   "cell_type": "code",
   "execution_count": 0,
   "metadata": {
    "application/vnd.databricks.v1+cell": {
     "cellMetadata": {
      "byteLimit": 2048000,
      "rowLimit": 10000
     },
     "inputWidgets": {},
     "nuid": "37ca6b0c-7144-4b68-8825-894e586dca20",
     "showTitle": false,
     "tableResultSettingsMap": {},
     "title": ""
    }
   },
   "outputs": [
    {
     "name": "stdout",
     "output_type": "stream",
     "text": [
      "root\n",
      " |-- PLAYER_SK: integer (nullable = true)\n",
      " |-- Player_Id: integer (nullable = true)\n",
      " |-- Player_Name: string (nullable = true)\n",
      " |-- DOB: string (nullable = true)\n",
      " |-- Batting_hand: string (nullable = false)\n",
      " |-- Bowling_skill: string (nullable = false)\n",
      " |-- Country_Name: string (nullable = true)\n",
      " |-- Batting_style: string (nullable = false)\n",
      "\n"
     ]
    }
   ],
   "source": [
    "player_df.printSchema()"
   ]
  },
  {
   "cell_type": "code",
   "execution_count": 0,
   "metadata": {
    "application/vnd.databricks.v1+cell": {
     "cellMetadata": {
      "byteLimit": 2048000,
      "rowLimit": 10000
     },
     "inputWidgets": {},
     "nuid": "5138f714-b829-4075-a552-56a5e91f8047",
     "showTitle": false,
     "tableResultSettingsMap": {},
     "title": ""
    }
   },
   "outputs": [
    {
     "data": {
      "text/plain": [
       "DataFrame[PLAYER_SK: int, Player_Id: int, Player_Name: string, DOB: string, Batting_hand: string, Bowling_skill: string, Country_Name: string, Batting_style: string]"
      ]
     },
     "execution_count": 49,
     "metadata": {},
     "output_type": "execute_result"
    }
   ],
   "source": [
    "player_df.drop(\"Bowling_arm\")"
   ]
  },
  {
   "cell_type": "code",
   "execution_count": 0,
   "metadata": {
    "application/vnd.databricks.v1+cell": {
     "cellMetadata": {
      "byteLimit": 2048000,
      "rowLimit": 10000
     },
     "inputWidgets": {},
     "nuid": "f2d10d0d-4db4-42a7-b2af-441c4384006d",
     "showTitle": false,
     "tableResultSettingsMap": {},
     "title": ""
    }
   },
   "outputs": [],
   "source": [
    "#Classify players based opn their bolwing-variations\n",
    "player_df = player_df.withColumn(\n",
    "    \"Bowling_variations\",\n",
    "    when(col(\"Bowling_skill\").contains(\"fast-medium\"), \"Fast-medium\")\n",
    "    .when(col(\"Bowling_skill\").contains(\"fast\"), \"Fast\")             \n",
    "    .when(col(\"Bowling_skill\").contains(\"medium\"), \"Medium\")        \n",
    "    .when(col(\"Bowling_skill\").contains(\"offbreak\"), \"Offbreak\")    \n",
    "    .when(col(\"Bowling_skill\").contains(\"legbreak\"), \"Legbreak\")    \n",
    "    .when(col(\"Bowling_skill\").contains(\"orthodox\"), \"Orthodox\")   \n",
    "    .when(col(\"Bowling_skill\").contains(\"googly\"), \"Googly\")         \n",
    "    .when(col(\"Bowling_skill\").contains(\"chinaman\"), \"Chinaman\")     \n",
    "    .otherwise(\"Unknown\")  \n",
    ")"
   ]
  },
  {
   "cell_type": "code",
   "execution_count": 0,
   "metadata": {
    "application/vnd.databricks.v1+cell": {
     "cellMetadata": {
      "byteLimit": 2048000,
      "rowLimit": 10000
     },
     "inputWidgets": {},
     "nuid": "114c6b9b-ff22-43ec-8fb5-af8ff3b32336",
     "showTitle": false,
     "tableResultSettingsMap": {},
     "title": ""
    }
   },
   "outputs": [
    {
     "name": "stdout",
     "output_type": "stream",
     "text": [
      "+---------+---------+-----------+--------+-------------+----------------+------------+-------------+------------------+\n",
      "|PLAYER_SK|Player_Id|Player_Name|     DOB| Batting_hand|   Bowling_skill|Country_Name|Batting_style|Bowling_variations|\n",
      "+---------+---------+-----------+--------+-------------+----------------+------------+-------------+------------------+\n",
      "|        0|        1|  scganguly|7/8/1972|Left-hand bat|Right-arm medium|       India| Right-Handed|            Medium|\n",
      "+---------+---------+-----------+--------+-------------+----------------+------------+-------------+------------------+\n",
      "only showing top 1 row\n",
      "\n"
     ]
    }
   ],
   "source": [
    "player_df.show (1)\n",
    "    "
   ]
  },
  {
   "cell_type": "code",
   "execution_count": 0,
   "metadata": {
    "application/vnd.databricks.v1+cell": {
     "cellMetadata": {
      "byteLimit": 2048000,
      "rowLimit": 10000
     },
     "inputWidgets": {},
     "nuid": "15acd332-4301-4401-b7e4-af52a9d269a6",
     "showTitle": false,
     "tableResultSettingsMap": {},
     "title": ""
    }
   },
   "outputs": [],
   "source": [
    "#Classify players based on their age.\n",
    "player_match_df = player_match_df.withColumn(\"veteran\", when(col(\"Age_As_on_match\")>=35 , \"Veteran\").otherwise(\"Non-Veteran\"))"
   ]
  },
  {
   "cell_type": "code",
   "execution_count": 0,
   "metadata": {
    "application/vnd.databricks.v1+cell": {
     "cellMetadata": {
      "byteLimit": 2048000,
      "rowLimit": 10000
     },
     "inputWidgets": {},
     "nuid": "99af3be2-85b3-4fc2-b8c1-0418395e9d50",
     "showTitle": false,
     "tableResultSettingsMap": {},
     "title": ""
    }
   },
   "outputs": [],
   "source": [
    "#calculate No of years played\n",
    "from pyspark.sql.functions import col , current_date , expr\n",
    "player_match_df = player_match_df.withColumn(\"Years in the IPL\", \n",
    "(year(current_date()) - (col(\"Season_year\"))))"
   ]
  },
  {
   "cell_type": "code",
   "execution_count": 0,
   "metadata": {
    "application/vnd.databricks.v1+cell": {
     "cellMetadata": {
      "byteLimit": 2048000,
      "rowLimit": 10000
     },
     "inputWidgets": {},
     "nuid": "3d6bccba-446b-46b9-a44f-78dbefbb3d50",
     "showTitle": false,
     "tableResultSettingsMap": {},
     "title": ""
    }
   },
   "outputs": [],
   "source": [
    "\n",
    "ball_by_ball_df.createOrReplaceTempView(\"ball_by_ball\")\n",
    "player_df.createOrReplaceTempView(\"player\")\n",
    "player_match_df.createOrReplaceTempView(\"player_match\")\n",
    "match_df.createOrReplaceTempView(\"match\")     \n",
    "team_df.createOrReplaceTempView(\"team\")"
   ]
  },
  {
   "cell_type": "code",
   "execution_count": 0,
   "metadata": {
    "application/vnd.databricks.v1+cell": {
     "cellMetadata": {
      "byteLimit": 2048000,
      "rowLimit": 10000
     },
     "inputWidgets": {},
     "nuid": "9190f605-775e-4cc4-9145-48e7292b4633",
     "showTitle": false,
     "tableResultSettingsMap": {},
     "title": ""
    }
   },
   "outputs": [
    {
     "data": {
      "text/html": [
       "<style scoped>\n",
       "  .table-result-container {\n",
       "    max-height: 300px;\n",
       "    overflow: auto;\n",
       "  }\n",
       "  table, th, td {\n",
       "    border: 1px solid black;\n",
       "    border-collapse: collapse;\n",
       "  }\n",
       "  th, td {\n",
       "    padding: 5px;\n",
       "  }\n",
       "  th {\n",
       "    text-align: left;\n",
       "  }\n",
       "</style><div class='table-result-container'><table class='table-result'><thead style='background-color: white'><tr><th>player_name</th><th>season_year</th><th>total_runs</th></tr></thead><tbody><tr><td>semarsh</td><td>2008</td><td>614</td></tr><tr><td>ggambhir</td><td>2008</td><td>532</td></tr><tr><td>stjayasuriya</td><td>2008</td><td>508</td></tr><tr><td>srwatson</td><td>2008</td><td>463</td></tr><tr><td>gcsmith</td><td>2008</td><td>437</td></tr><tr><td>acgilchrist</td><td>2008</td><td>431</td></tr><tr><td>ykpathan</td><td>2008</td><td>430</td></tr><tr><td>skraina</td><td>2008</td><td>420</td></tr><tr><td>msdhoni</td><td>2008</td><td>414</td></tr><tr><td>vsehwag</td><td>2008</td><td>399</td></tr><tr><td>rgsharma</td><td>2008</td><td>399</td></tr><tr><td>rdravid</td><td>2008</td><td>370</td></tr><tr><td>scganguly</td><td>2008</td><td>349</td></tr><tr><td>sdhawan</td><td>2008</td><td>340</td></tr><tr><td>kcsangakkara</td><td>2008</td><td>319</td></tr><tr><td>djhussey</td><td>2008</td><td>318</td></tr><tr><td>rvuthappa</td><td>2008</td><td>316</td></tr><tr><td>saasnodkar</td><td>2008</td><td>311</td></tr><tr><td>yuvrajsingh</td><td>2008</td><td>299</td></tr><tr><td>papatel</td><td>2008</td><td>297</td></tr><tr><td>yvenugopalrao</td><td>2008</td><td>283</td></tr><tr><td>jamorkel</td><td>2008</td><td>235</td></tr><tr><td>mvboucher</td><td>2008</td><td>225</td></tr><tr><td>jrhopes</td><td>2008</td><td>221</td></tr><tr><td>amnayar</td><td>2008</td><td>205</td></tr><tr><td>jhkallis</td><td>2008</td><td>199</td></tr><tr><td>salmanbutt</td><td>2008</td><td>192</td></tr><tr><td>sbadrinath</td><td>2008</td><td>192</td></tr><tr><td>spfleming</td><td>2008</td><td>192</td></tr><tr><td>srtendulkar</td><td>2008</td><td>188</td></tr><tr><td>bbmccullum</td><td>2008</td><td>188</td></tr><tr><td>dpmdjayawardene</td><td>2008</td><td>179</td></tr><tr><td>mlhayden</td><td>2008</td><td>179</td></tr><tr><td>mkaif</td><td>2008</td><td>176</td></tr><tr><td>djbravo</td><td>2008</td><td>175</td></tr><tr><td>mekhussey</td><td>2008</td><td>168</td></tr><tr><td>hhgibbs</td><td>2008</td><td>167</td></tr><tr><td>vkohli</td><td>2008</td><td>165</td></tr><tr><td>asymonds</td><td>2008</td><td>161</td></tr><tr><td>wpsaha</td><td>2008</td><td>159</td></tr><tr><td>lrshukla</td><td>2008</td><td>157</td></tr><tr><td>vvslaxman</td><td>2008</td><td>155</td></tr><tr><td>lapomersbach</td><td>2008</td><td>152</td></tr><tr><td>lrpltaylor</td><td>2008</td><td>149</td></tr><tr><td>smpollock</td><td>2008</td><td>147</td></tr><tr><td>kdkarthik</td><td>2008</td><td>145</td></tr><tr><td>svidyut</td><td>2008</td><td>145</td></tr><tr><td>rajadeja</td><td>2008</td><td>134</td></tr><tr><td>ikpathan</td><td>2008</td><td>130</td></tr><tr><td>mfmaharoof</td><td>2008</td><td>125</td></tr><tr><td>kamranakmal</td><td>2008</td><td>124</td></tr><tr><td>misbahulhaq</td><td>2008</td><td>117</td></tr><tr><td>wjaffer</td><td>2008</td><td>115</td></tr><tr><td>sbstyris</td><td>2008</td><td>112</td></tr><tr><td>pkumar</td><td>2008</td><td>112</td></tr><tr><td>clwhite</td><td>2008</td><td>109</td></tr><tr><td>dbraviteja</td><td>2008</td><td>108</td></tr><tr><td>mktiwary</td><td>2008</td><td>104</td></tr><tr><td>dbdas</td><td>2008</td><td>103</td></tr><tr><td>nkpatel</td><td>2008</td><td>103</td></tr><tr><td>tmdilshan</td><td>2008</td><td>102</td></tr><tr><td>abdevilliers</td><td>2008</td><td>95</td></tr><tr><td>smkatich</td><td>2008</td><td>95</td></tr><tr><td>ppchawla</td><td>2008</td><td>89</td></tr><tr><td>spgoswami</td><td>2008</td><td>82</td></tr><tr><td>shahidafridi</td><td>2008</td><td>81</td></tr><tr><td>kgoel</td><td>2008</td><td>76</td></tr><tr><td>rrsarwan</td><td>2008</td><td>73</td></tr><tr><td>yvtakawale</td><td>2008</td><td>69</td></tr><tr><td>skwarne</td><td>2008</td><td>69</td></tr><tr><td>mohammadhafeez</td><td>2008</td><td>64</td></tr><tr><td>abagarkar</td><td>2008</td><td>54</td></tr><tr><td>shoaibmalik</td><td>2008</td><td>51</td></tr><tr><td>utyadav</td><td>2008</td><td>49</td></tr><tr><td>sbbangar</td><td>2008</td><td>47</td></tr><tr><td>bakhil</td><td>2008</td><td>46</td></tr><tr><td>drsmith</td><td>2008</td><td>45</td></tr><tr><td>achopra</td><td>2008</td><td>42</td></tr><tr><td>lpcsilva</td><td>2008</td><td>40</td></tr><tr><td>djthornely</td><td>2008</td><td>39</td></tr><tr><td>umargul</td><td>2008</td><td>39</td></tr><tr><td>rtponting</td><td>2008</td><td>39</td></tr><tr><td>amishra</td><td>2008</td><td>37</td></tr><tr><td>msgony</td><td>2008</td><td>35</td></tr><tr><td>sohailtanvir</td><td>2008</td><td>35</td></tr><tr><td>rbhatia</td><td>2008</td><td>34</td></tr><tr><td>lronchi</td><td>2008</td><td>34</td></tr><tr><td>mrawat</td><td>2008</td><td>34</td></tr><tr><td>dsalunkhe</td><td>2008</td><td>33</td></tr><tr><td>zkhan</td><td>2008</td><td>33</td></tr><tr><td>prshah</td><td>2008</td><td>32</td></tr><tr><td>ttaibu</td><td>2008</td><td>31</td></tr><tr><td>harbhajansingh</td><td>2008</td><td>30</td></tr><tr><td>mkartik</td><td>2008</td><td>30</td></tr><tr><td>rrpowar</td><td>2008</td><td>28</td></tr><tr><td>rpsingh</td><td>2008</td><td>27</td></tr><tr><td>sstiwary</td><td>2008</td><td>26</td></tr><tr><td>wamota</td><td>2008</td><td>26</td></tr><tr><td>rvinaykumar</td><td>2008</td><td>25</td></tr><tr><td>schanderpaul</td><td>2008</td><td>25</td></tr><tr><td>makhote</td><td>2008</td><td>24</td></tr><tr><td>jarunkumar</td><td>2008</td><td>23</td></tr><tr><td>bchipli</td><td>2008</td><td>20</td></tr><tr><td>jdporam</td><td>2008</td><td>18</td></tr><tr><td>dslehmann</td><td>2008</td><td>18</td></tr><tr><td>blee</td><td>2008</td><td>17</td></tr><tr><td>jogindersharma</td><td>2008</td><td>16</td></tr><tr><td>ckkapugedera</td><td>2008</td><td>16</td></tr><tr><td>wpujcvaas</td><td>2008</td><td>15</td></tr><tr><td>vymahesh</td><td>2008</td><td>15</td></tr><tr><td>dtpatil</td><td>2008</td><td>13</td></tr><tr><td>akumble</td><td>2008</td><td>13</td></tr><tr><td>sdchitnis</td><td>2008</td><td>12</td></tr><tr><td>bjhodge</td><td>2008</td><td>12</td></tr><tr><td>dntzoysa</td><td>2008</td><td>11</td></tr><tr><td>isharma</td><td>2008</td><td>11</td></tr><tr><td>mntini</td><td>2008</td><td>11</td></tr><tr><td>tkohli</td><td>2008</td><td>10</td></tr><tr><td>admascarenhas</td><td>2008</td><td>9</td></tr><tr><td>aanoffke</td><td>2008</td><td>9</td></tr><tr><td>rrraje</td><td>2008</td><td>8</td></tr><tr><td>tmsrivastava</td><td>2008</td><td>8</td></tr><tr><td>sbjoshi</td><td>2008</td><td>6</td></tr><tr><td>pankajsingh</td><td>2008</td><td>5</td></tr><tr><td>sktrivedi</td><td>2008</td><td>5</td></tr><tr><td>amrahane</td><td>2008</td><td>4</td></tr><tr><td>gdmcgrath</td><td>2008</td><td>4</td></tr><tr><td>ssohal</td><td>2008</td><td>4</td></tr><tr><td>vrvsingh</td><td>2008</td><td>4</td></tr><tr><td>dkalyankrishna</td><td>2008</td><td>3</td></tr><tr><td>mohammadasif</td><td>2008</td><td>3</td></tr><tr><td>mkpandey</td><td>2008</td><td>3</td></tr><tr><td>youniskhan</td><td>2008</td><td>3</td></tr><tr><td>ppojha</td><td>2008</td><td>2</td></tr><tr><td>anehra</td><td>2008</td><td>2</td></tr><tr><td>dskulkarni</td><td>2008</td><td>2</td></tr><tr><td>hdas</td><td>2008</td><td>2</td></tr><tr><td>pjsangwan</td><td>2008</td><td>2</td></tr><tr><td>vsyeligati</td><td>2008</td><td>2</td></tr><tr><td>crdfernando</td><td>2008</td><td>2</td></tr><tr><td>dwsteyn</td><td>2008</td><td>2</td></tr><tr><td>abdinda</td><td>2008</td><td>2</td></tr><tr><td>shoaibakhtar</td><td>2008</td><td>2</td></tr><tr><td>dpvijaykumar</td><td>2008</td><td>1</td></tr><tr><td>pmsarveshkumar</td><td>2008</td><td>1</td></tr><tr><td>sanirudha</td><td>2008</td><td>1</td></tr><tr><td>iqbalabdulla</td><td>2008</td><td>1</td></tr><tr><td>ukaul</td><td>2008</td><td>0</td></tr><tr><td>abdurrazzak</td><td>2008</td><td>0</td></tr><tr><td>lbalaji</td><td>2008</td><td>0</td></tr><tr><td>amukund</td><td>2008</td><td>0</td></tr><tr><td>mmuralitharan</td><td>2008</td><td>0</td></tr><tr><td>ssreesanth</td><td>2008</td><td>0</td></tr><tr><td>mmpatel</td><td>2008</td><td>0</td></tr><tr><td>mlhayden</td><td>2009</td><td>571</td></tr><tr><td>acgilchrist</td><td>2009</td><td>486</td></tr><tr><td>abdevilliers</td><td>2009</td><td>459</td></tr><tr><td>skraina</td><td>2009</td><td>433</td></tr><tr><td>tmdilshan</td><td>2009</td><td>414</td></tr><tr><td>jpduminy</td><td>2009</td><td>372</td></tr><tr><td>hhgibbs</td><td>2009</td><td>371</td></tr><tr><td>bjhodge</td><td>2009</td><td>365</td></tr><tr><td>srtendulkar</td><td>2009</td><td>363</td></tr><tr><td>jhkallis</td><td>2009</td><td>360</td></tr><tr><td>rgsharma</td><td>2009</td><td>354</td></tr><tr><td>yuvrajsingh</td><td>2009</td><td>340</td></tr><tr><td>msdhoni</td><td>2009</td><td>332</td></tr><tr><td>kcsangakkara</td><td>2009</td><td>332</td></tr><tr><td>rajadeja</td><td>2009</td><td>293</td></tr><tr><td>kdkarthik</td><td>2009</td><td>288</td></tr><tr><td>ggambhir</td><td>2009</td><td>284</td></tr><tr><td>bbmccullum</td><td>2009</td><td>278</td></tr><tr><td>lrpltaylor</td><td>2009</td><td>274</td></tr><tr><td>rdravid</td><td>2009</td><td>271</td></tr><tr><td>ykpathan</td><td>2009</td><td>261</td></tr><tr><td>asymonds</td><td>2009</td><td>248</td></tr><tr><td>vkohli</td><td>2009</td><td>246</td></tr><tr><td>tlsuman</td><td>2009</td><td>237</td></tr><tr><td>stjayasuriya</td><td>2009</td><td>219</td></tr><tr><td>dpmdjayawardene</td><td>2009</td><td>219</td></tr><tr><td>djbravo</td><td>2009</td><td>217</td></tr><tr><td>drsmith</td><td>2009</td><td>215</td></tr><tr><td>gcsmith</td><td>2009</td><td>208</td></tr><tr><td>ikpathan</td><td>2009</td><td>196</td></tr><tr><td>vsehwag</td><td>2009</td><td>195</td></tr><tr><td>amnayar</td><td>2009</td><td>191</td></tr><tr><td>chgayle</td><td>2009</td><td>184</td></tr><tr><td>scganguly</td><td>2009</td><td>183</td></tr><tr><td>sbadrinath</td><td>2009</td><td>177</td></tr><tr><td>rvuthappa</td><td>2009</td><td>175</td></tr><tr><td>nvojha</td><td>2009</td><td>168</td></tr><tr><td>mkpandey</td><td>2009</td><td>167</td></tr><tr><td>mnvanwyk</td><td>2009</td><td>163</td></tr><tr><td>dawarner</td><td>2009</td><td>163</td></tr><tr><td>mvboucher</td><td>2009</td><td>143</td></tr><tr><td>amrahane</td><td>2009</td><td>143</td></tr><tr><td>papatel</td><td>2009</td><td>142</td></tr><tr><td>smkatich</td><td>2009</td><td>141</td></tr><tr><td>rsbopara</td><td>2009</td><td>138</td></tr><tr><td>yvenugopalrao</td><td>2009</td><td>124</td></tr><tr><td>kgoel</td><td>2009</td><td>124</td></tr><tr><td>revandermerwe</td><td>2009</td><td>122</td></tr><tr><td>ssohal</td><td>2009</td><td>115</td></tr><tr><td>skwarne</td><td>2009</td><td>108</td></tr><tr><td>rjquiney</td><td>2009</td><td>103</td></tr><tr><td>saasnodkar</td><td>2009</td><td>98</td></tr><tr><td>jamorkel</td><td>2009</td><td>97</td></tr><tr><td>djhussey</td><td>2009</td><td>93</td></tr><tr><td>kppietersen</td><td>2009</td><td>92</td></tr><tr><td>jdporam</td><td>2009</td><td>88</td></tr><tr><td>harbhajansingh</td><td>2009</td><td>84</td></tr><tr><td>lrshukla</td><td>2009</td><td>83</td></tr><tr><td>lacarseldine</td><td>2009</td><td>80</td></tr><tr><td>asraut</td><td>2009</td><td>78</td></tr><tr><td>mmanhas</td><td>2009</td><td>75</td></tr><tr><td>wpsaha</td><td>2009</td><td>72</td></tr><tr><td>aabilakhia</td><td>2009</td><td>67</td></tr><tr><td>abagarkar</td><td>2009</td><td>66</td></tr><tr><td>dbraviteja</td><td>2009</td><td>65</td></tr><tr><td>pkumar</td><td>2009</td><td>65</td></tr><tr><td>aflintoff</td><td>2009</td><td>62</td></tr><tr><td>mvijay</td><td>2009</td><td>60</td></tr><tr><td>jdryder</td><td>2009</td><td>56</td></tr><tr><td>spgoswami</td><td>2009</td><td>53</td></tr><tr><td>prshah</td><td>2009</td><td>53</td></tr><tr><td>rvinaykumar</td><td>2009</td><td>47</td></tr><tr><td>yashpalsingh</td><td>2009</td><td>47</td></tr><tr><td>jbotha</td><td>2009</td><td>46</td></tr><tr><td>gjbailey</td><td>2009</td><td>45</td></tr><tr><td>sdhawan</td><td>2009</td><td>40</td></tr><tr><td>lapomersbach</td><td>2009</td><td>40</td></tr><tr><td>admascarenhas</td><td>2009</td><td>39</td></tr><tr><td>mchenriques</td><td>2009</td><td>38</td></tr><tr><td>dlvettori</td><td>2009</td><td>34</td></tr><tr><td>mmpatel</td><td>2009</td><td>33</td></tr><tr><td>ppchawla</td><td>2009</td><td>31</td></tr><tr><td>wpujcvaas</td><td>2009</td><td>30</td></tr><tr><td>wamota</td><td>2009</td><td>30</td></tr><tr><td>blee</td><td>2009</td><td>28</td></tr><tr><td>amishra</td><td>2009</td><td>26</td></tr><tr><td>rrpowar</td><td>2009</td><td>23</td></tr><tr><td>rjharris</td><td>2009</td><td>21</td></tr><tr><td>mkartik</td><td>2009</td><td>21</td></tr><tr><td>mfmaharoof</td><td>2009</td><td>21</td></tr><tr><td>sbjakati</td><td>2009</td><td>20</td></tr><tr><td>jogindersharma</td><td>2009</td><td>20</td></tr><tr><td>ynagar</td><td>2009</td><td>20</td></tr><tr><td>vvslaxman</td><td>2009</td><td>19</td></tr><tr><td>rbishnoi</td><td>2009</td><td>19</td></tr><tr><td>yvtakawale</td><td>2009</td><td>18</td></tr><tr><td>nkpatel</td><td>2009</td><td>18</td></tr><tr><td>bakhil</td><td>2009</td><td>17</td></tr><tr><td>admathews</td><td>2009</td><td>16</td></tr><tr><td>mrawat</td><td>2009</td><td>16</td></tr><tr><td>akumble</td><td>2009</td><td>16</td></tr><tr><td>isharma</td><td>2009</td><td>16</td></tr><tr><td>wjaffer</td><td>2009</td><td>15</td></tr><tr><td>grnapier</td><td>2009</td><td>15</td></tr><tr><td>sbstyris</td><td>2009</td><td>14</td></tr><tr><td>sstiwary</td><td>2009</td><td>13</td></tr><tr><td>msgony</td><td>2009</td><td>13</td></tr><tr><td>rrraje</td><td>2009</td><td>12</td></tr><tr><td>achopra</td><td>2009</td><td>11</td></tr><tr><td>thenderson</td><td>2009</td><td>11</td></tr><tr><td>ddupreez</td><td>2009</td><td>10</td></tr><tr><td>dskulkarni</td><td>2009</td><td>9</td></tr><tr><td>sktrivedi</td><td>2009</td><td>9</td></tr><tr><td>mktiwary</td><td>2009</td><td>9</td></tr><tr><td>rpsingh</td><td>2009</td><td>8</td></tr><tr><td>rashwin</td><td>2009</td><td>8</td></tr><tr><td>zkhan</td><td>2009</td><td>8</td></tr><tr><td>mmuralitharan</td><td>2009</td><td>8</td></tr><tr><td>rbhatia</td><td>2009</td><td>8</td></tr><tr><td>mmorkel</td><td>2009</td><td>8</td></tr><tr><td>smharwood</td><td>2009</td><td>8</td></tr><tr><td>anghosh</td><td>2009</td><td>7</td></tr><tr><td>ssshaikh</td><td>2009</td><td>6</td></tr><tr><td>pcvalthaty</td><td>2009</td><td>6</td></tr><tr><td>pjsangwan</td><td>2009</td><td>6</td></tr><tr><td>sdchitnis</td><td>2009</td><td>6</td></tr><tr><td>ssreesanth</td><td>2009</td><td>5</td></tr><tr><td>fhedwards</td><td>2009</td><td>4</td></tr><tr><td>lbalaji</td><td>2009</td><td>4</td></tr><tr><td>kamrankhan</td><td>2009</td><td>3</td></tr><tr><td>abmcdonald</td><td>2009</td><td>3</td></tr><tr><td>mohammadashraful</td><td>2009</td><td>2</td></tr><tr><td>abdinda</td><td>2009</td><td>2</td></tr><tr><td>tthushara</td><td>2009</td><td>2</td></tr><tr><td>mashrafemortaza</td><td>2009</td><td>2</td></tr><tr><td>sbbangar</td><td>2009</td><td>2</td></tr><tr><td>shoaibahmed</td><td>2009</td><td>1</td></tr><tr><td>ppojha</td><td>2009</td><td>1</td></tr><tr><td>kvsharma</td><td>2009</td><td>1</td></tr><tr><td>pankajsingh</td><td>2009</td><td>1</td></tr><tr><td>anehra</td><td>2009</td><td>1</td></tr><tr><td>tkohli</td><td>2009</td><td>1</td></tr><tr><td>asingh</td><td>2009</td><td>1</td></tr><tr><td>slmalinga</td><td>2009</td><td>0</td></tr><tr><td>dwsteyn</td><td>2009</td><td>0</td></tr><tr><td>lronchi</td><td>2009</td><td>0</td></tr><tr><td>cnanda</td><td>2009</td><td>0</td></tr><tr><td>kpappanna</td><td>2009</td><td>0</td></tr><tr><td>tmsrivastava</td><td>2009</td><td>0</td></tr><tr><td>bawmendis</td><td>2009</td><td>0</td></tr><tr><td>srtendulkar</td><td>2010</td><td>615</td></tr><tr><td>jhkallis</td><td>2010</td><td>566</td></tr><tr><td>skraina</td><td>2010</td><td>520</td></tr><tr><td>scganguly</td><td>2010</td><td>493</td></tr><tr><td>mvijay</td><td>2010</td><td>458</td></tr><tr><td>dpmdjayawardene</td><td>2010</td><td>443</td></tr><tr><td>asymonds</td><td>2010</td><td>429</td></tr><tr><td>sstiwary</td><td>2010</td><td>417</td></tr><tr><td>rgsharma</td><td>2010</td><td>403</td></tr><tr><td>nvojha</td><td>2010</td><td>376</td></tr><tr><td>rvuthappa</td><td>2010</td><td>374</td></tr><tr><td>kcsangakkara</td><td>2010</td><td>357</td></tr><tr><td>sbadrinath</td><td>2010</td><td>355</td></tr><tr><td>atrayudu</td><td>2010</td><td>354</td></tr><tr><td>vsehwag</td><td>2010</td><td>352</td></tr><tr><td>mlhayden</td><td>2010</td><td>346</td></tr><tr><td>ykpathan</td><td>2010</td><td>332</td></tr><tr><td>tlsuman</td><td>2010</td><td>307</td></tr><tr><td>vkohli</td><td>2010</td><td>306</td></tr><tr><td>chgayle</td><td>2010</td><td>290</td></tr><tr><td>msdhoni</td><td>2010</td><td>287</td></tr><tr><td>acgilchrist</td><td>2010</td><td>285</td></tr><tr><td>mjlumb</td><td>2010</td><td>278</td></tr><tr><td>kdkarthik</td><td>2010</td><td>278</td></tr><tr><td>ggambhir</td><td>2010</td><td>277</td></tr><tr><td>ikpathan</td><td>2010</td><td>276</td></tr><tr><td>dawarner</td><td>2010</td><td>276</td></tr><tr><td>kapollard</td><td>2010</td><td>273</td></tr><tr><td>hhgibbs</td><td>2010</td><td>267</td></tr><tr><td>yuvrajsingh</td><td>2010</td><td>258</td></tr><tr><td>rdravid</td><td>2010</td><td>256</td></tr><tr><td>mkpandey</td><td>2010</td><td>248</td></tr><tr><td>rsbopara</td><td>2010</td><td>248</td></tr><tr><td>kppietersen</td><td>2010</td><td>236</td></tr><tr><td>mktiwary</td><td>2010</td><td>236</td></tr><tr><td>admathews</td><td>2010</td><td>232</td></tr><tr><td>msbisla</td><td>2010</td><td>214</td></tr><tr><td>pdcollingwood</td><td>2010</td><td>203</td></tr><tr><td>jamorkel</td><td>2010</td><td>198</td></tr><tr><td>sdhawan</td><td>2010</td><td>187</td></tr><tr><td>aajhunjhunwala</td><td>2010</td><td>183</td></tr><tr><td>srwatson</td><td>2010</td><td>181</td></tr><tr><td>acvoges</td><td>2010</td><td>181</td></tr><tr><td>fyfazal</td><td>2010</td><td>164</td></tr><tr><td>mdmishra</td><td>2010</td><td>164</td></tr><tr><td>mmanhas</td><td>2010</td><td>157</td></tr><tr><td>jpduminy</td><td>2010</td><td>157</td></tr><tr><td>semarsh</td><td>2010</td><td>147</td></tr><tr><td>capujara</td><td>2010</td><td>122</td></tr><tr><td>oashah</td><td>2010</td><td>115</td></tr><tr><td>bbmccullum</td><td>2010</td><td>114</td></tr><tr><td>rsathish</td><td>2010</td><td>112</td></tr><tr><td>abdevilliers</td><td>2010</td><td>111</td></tr><tr><td>pdogra</td><td>2010</td><td>107</td></tr><tr><td>bjhodge</td><td>2010</td><td>99</td></tr><tr><td>harbhajansingh</td><td>2010</td><td>97</td></tr><tr><td>djhussey</td><td>2010</td><td>94</td></tr><tr><td>lrpltaylor</td><td>2010</td><td>88</td></tr><tr><td>kmjadhav</td><td>2010</td><td>76</td></tr><tr><td>papatel</td><td>2010</td><td>72</td></tr><tr><td>wpsaha</td><td>2010</td><td>67</td></tr><tr><td>rmclaren</td><td>2010</td><td>66</td></tr><tr><td>abmcdonald</td><td>2010</td><td>65</td></tr><tr><td>vvslaxman</td><td>2010</td><td>64</td></tr><tr><td>anirudhsingh</td><td>2010</td><td>63</td></tr><tr><td>ppchawla</td><td>2010</td><td>62</td></tr><tr><td>djbravo</td><td>2010</td><td>61</td></tr><tr><td>amnayar</td><td>2010</td><td>58</td></tr><tr><td>asraut</td><td>2010</td><td>56</td></tr><tr><td>aptare</td><td>2010</td><td>50</td></tr><tr><td>clwhite</td><td>2010</td><td>48</td></tr><tr><td>rjharris</td><td>2010</td><td>45</td></tr><tr><td>tmdilshan</td><td>2010</td><td>44</td></tr><tr><td>gcsmith</td><td>2010</td><td>44</td></tr><tr><td>abbarath</td><td>2010</td><td>42</td></tr><tr><td>abagarkar</td><td>2010</td><td>39</td></tr><tr><td>amishra</td><td>2010</td><td>38</td></tr><tr><td>mekhussey</td><td>2010</td><td>37</td></tr><tr><td>lrshukla</td><td>2010</td><td>36</td></tr><tr><td>ejgmorgan</td><td>2010</td><td>35</td></tr><tr><td>bsumanth</td><td>2010</td><td>35</td></tr><tr><td>apdole</td><td>2010</td><td>34</td></tr><tr><td>yvenugopalrao</td><td>2010</td><td>34</td></tr><tr><td>stjayasuriya</td><td>2010</td><td>33</td></tr><tr><td>dlvettori</td><td>2010</td><td>33</td></tr><tr><td>mfmaharoof</td><td>2010</td><td>31</td></tr><tr><td>sanirudha</td><td>2010</td><td>30</td></tr><tr><td>rashwin</td><td>2010</td><td>30</td></tr><tr><td>wpujcvaas</td><td>2010</td><td>30</td></tr><tr><td>rsharma</td><td>2010</td><td>29</td></tr><tr><td>mkaif</td><td>2010</td><td>28</td></tr><tr><td>mrmarsh</td><td>2010</td><td>28</td></tr><tr><td>rvinaykumar</td><td>2010</td><td>27</td></tr><tr><td>ssriram</td><td>2010</td><td>27</td></tr><tr><td>ssreesanth</td><td>2010</td><td>27</td></tr><tr><td>jmkemp</td><td>2010</td><td>26</td></tr><tr><td>rbhatia</td><td>2010</td><td>24</td></tr><tr><td>zkhan</td><td>2010</td><td>24</td></tr><tr><td>mkartik</td><td>2010</td><td>22</td></tr><tr><td>anehra</td><td>2010</td><td>22</td></tr><tr><td>drsmith</td><td>2010</td><td>22</td></tr><tr><td>ajfinch</td><td>2010</td><td>21</td></tr><tr><td>sktrivedi</td><td>2010</td><td>20</td></tr><tr><td>drmartyn</td><td>2010</td><td>19</td></tr><tr><td>debollinger</td><td>2010</td><td>18</td></tr><tr><td>lbalaji</td><td>2010</td><td>18</td></tr><tr><td>kgoel</td><td>2010</td><td>18</td></tr><tr><td>gjbailey</td><td>2010</td><td>18</td></tr><tr><td>snarwal</td><td>2010</td><td>14</td></tr><tr><td>cmadan</td><td>2010</td><td>14</td></tr><tr><td>mvboucher</td><td>2010</td><td>13</td></tr><tr><td>dwsteyn</td><td>2010</td><td>13</td></tr><tr><td>swtait</td><td>2010</td><td>12</td></tr><tr><td>admascarenhas</td><td>2010</td><td>12</td></tr><tr><td>blee</td><td>2010</td><td>11</td></tr><tr><td>mchenriques</td><td>2010</td><td>11</td></tr><tr><td>tthushara</td><td>2010</td><td>10</td></tr><tr><td>skwarne</td><td>2010</td><td>10</td></tr><tr><td>pjsangwan</td><td>2010</td><td>10</td></tr><tr><td>kajroach</td><td>2010</td><td>10</td></tr><tr><td>bipulsharma</td><td>2010</td><td>9</td></tr><tr><td>mmorkel</td><td>2010</td><td>9</td></tr><tr><td>rpsingh</td><td>2010</td><td>9</td></tr><tr><td>spgoswami</td><td>2010</td><td>8</td></tr><tr><td>strbinny</td><td>2010</td><td>8</td></tr><tr><td>jaskaransingh</td><td>2010</td><td>8</td></tr><tr><td>isharma</td><td>2010</td><td>6</td></tr><tr><td>akumble</td><td>2010</td><td>6</td></tr><tr><td>vsmalik</td><td>2010</td><td>6</td></tr><tr><td>amithun</td><td>2010</td><td>5</td></tr><tr><td>rrpowar</td><td>2010</td><td>5</td></tr><tr><td>saasnodkar</td><td>2010</td><td>5</td></tr><tr><td>pkumar</td><td>2010</td><td>4</td></tr><tr><td>mandeepsingh</td><td>2010</td><td>4</td></tr><tr><td>mmpatel</td><td>2010</td><td>4</td></tr><tr><td>rssodhi</td><td>2010</td><td>4</td></tr><tr><td>auniyal</td><td>2010</td><td>4</td></tr><tr><td>dpnannes</td><td>2010</td><td>4</td></tr><tr><td>anahmed</td><td>2010</td><td>4</td></tr><tr><td>kbarunkarthik</td><td>2010</td><td>3</td></tr><tr><td>styagi</td><td>2010</td><td>3</td></tr><tr><td>utyadav</td><td>2010</td><td>3</td></tr><tr><td>ppojha</td><td>2010</td><td>3</td></tr><tr><td>kpappanna</td><td>2010</td><td>2</td></tr><tr><td>rsgavaskar</td><td>2010</td><td>2</td></tr><tr><td>msgony</td><td>2010</td><td>2</td></tr><tr><td>jtheron</td><td>2010</td><td>2</td></tr><tr><td>crdfernando</td><td>2010</td><td>2</td></tr><tr><td>aabilakhia</td><td>2010</td><td>2</td></tr><tr><td>revandermerwe</td><td>2010</td><td>1</td></tr><tr><td>pankajsingh</td><td>2010</td><td>1</td></tr><tr><td>bawmendis</td><td>2010</td><td>1</td></tr><tr><td>sebond</td><td>2010</td><td>1</td></tr><tr><td>sjsrivastava</td><td>2010</td><td>1</td></tr><tr><td>mmuralitharan</td><td>2010</td><td>1</td></tr><tr><td>slmalinga</td><td>2010</td><td>1</td></tr><tr><td>ynagar</td><td>2010</td><td>1</td></tr><tr><td>iqbalabdulla</td><td>2010</td><td>0</td></tr><tr><td>abdinda</td><td>2010</td><td>0</td></tr><tr><td>cklangeveldt</td><td>2010</td><td>0</td></tr><tr><td>yaabdulla</td><td>2010</td><td>0</td></tr><tr><td>agpaunikar</td><td>2010</td><td>0</td></tr><tr><td>sladda</td><td>2010</td><td>0</td></tr><tr><td>harmeetsingh</td><td>2010</td><td>0</td></tr><tr><td>chgayle</td><td>2011</td><td>598</td></tr><tr><td>vkohli</td><td>2011</td><td>557</td></tr><tr><td>srtendulkar</td><td>2011</td><td>553</td></tr><tr><td>semarsh</td><td>2011</td><td>500</td></tr><tr><td>mekhussey</td><td>2011</td><td>492</td></tr><tr><td>pcvalthaty</td><td>2011</td><td>453</td></tr><tr><td>skraina</td><td>2011</td><td>437</td></tr><tr><td>mvijay</td><td>2011</td><td>434</td></tr><tr><td>jhkallis</td><td>2011</td><td>424</td></tr><tr><td>vsehwag</td><td>2011</td><td>424</td></tr><tr><td>sdhawan</td><td>2011</td><td>400</td></tr><tr><td>sbadrinath</td><td>2011</td><td>394</td></tr><tr><td>atrayudu</td><td>2011</td><td>394</td></tr><tr><td>msdhoni</td><td>2011</td><td>391</td></tr><tr><td>acgilchrist</td><td>2011</td><td>378</td></tr><tr><td>ggambhir</td><td>2011</td><td>373</td></tr><tr><td>rgsharma</td><td>2011</td><td>372</td></tr><tr><td>kcsangakkara</td><td>2011</td><td>358</td></tr><tr><td>mktiwary</td><td>2011</td><td>354</td></tr><tr><td>bbmccullum</td><td>2011</td><td>351</td></tr><tr><td>yuvrajsingh</td><td>2011</td><td>343</td></tr><tr><td>rdravid</td><td>2011</td><td>339</td></tr><tr><td>yvenugopalrao</td><td>2011</td><td>336</td></tr><tr><td>srwatson</td><td>2011</td><td>329</td></tr><tr><td>dawarner</td><td>2011</td><td>324</td></tr><tr><td>abdevilliers</td><td>2011</td><td>306</td></tr><tr><td>dpmdjayawardene</td><td>2011</td><td>299</td></tr><tr><td>jdryder</td><td>2011</td><td>288</td></tr><tr><td>bjhodge</td><td>2011</td><td>285</td></tr><tr><td>ykpathan</td><td>2011</td><td>283</td></tr><tr><td>rajadeja</td><td>2011</td><td>282</td></tr><tr><td>kdkarthik</td><td>2011</td><td>282</td></tr><tr><td>rvuthappa</td><td>2011</td><td>263</td></tr><tr><td>ssohal</td><td>2011</td><td>249</td></tr><tr><td>mkpandey</td><td>2011</td><td>246</td></tr><tr><td>jbotha</td><td>2011</td><td>230</td></tr><tr><td>tmdilshan</td><td>2011</td><td>226</td></tr><tr><td>bchipli</td><td>2011</td><td>207</td></tr><tr><td>jpduminy</td><td>2011</td><td>204</td></tr><tr><td>papatel</td><td>2011</td><td>202</td></tr><tr><td>jrhopes</td><td>2011</td><td>196</td></tr><tr><td>sstiwary</td><td>2011</td><td>187</td></tr><tr><td>dtchristian</td><td>2011</td><td>183</td></tr><tr><td>dbraviteja</td><td>2011</td><td>182</td></tr><tr><td>almenaria</td><td>2011</td><td>180</td></tr><tr><td>lrpltaylor</td><td>2011</td><td>180</td></tr><tr><td>nvojha</td><td>2011</td><td>160</td></tr><tr><td>ikpathan</td><td>2011</td><td>150</td></tr><tr><td>kapollard</td><td>2011</td><td>145</td></tr><tr><td>maagarwal</td><td>2011</td><td>137</td></tr><tr><td>ejgmorgan</td><td>2011</td><td>137</td></tr><tr><td>jamorkel</td><td>2011</td><td>137</td></tr><tr><td>asymonds</td><td>2011</td><td>135</td></tr><tr><td>amrahane</td><td>2011</td><td>120</td></tr><tr><td>acblizzard</td><td>2011</td><td>120</td></tr><tr><td>mmanhas</td><td>2011</td><td>114</td></tr><tr><td>ynagar</td><td>2011</td><td>111</td></tr><tr><td>rntendoeschate</td><td>2011</td><td>107</td></tr><tr><td>jecfranklin</td><td>2011</td><td>107</td></tr><tr><td>clwhite</td><td>2011</td><td>104</td></tr><tr><td>harbhajansingh</td><td>2011</td><td>103</td></tr><tr><td>djjacobs</td><td>2011</td><td>92</td></tr><tr><td>rmclaren</td><td>2011</td><td>90</td></tr><tr><td>sanirudha</td><td>2011</td><td>83</td></tr><tr><td>trbirt</td><td>2011</td><td>75</td></tr><tr><td>msbisla</td><td>2011</td><td>72</td></tr><tr><td>mklinger</td><td>2011</td><td>72</td></tr><tr><td>wpsaha</td><td>2011</td><td>68</td></tr><tr><td>amishra</td><td>2011</td><td>68</td></tr><tr><td>mdmishra</td><td>2011</td><td>67</td></tr><tr><td>tlsuman</td><td>2011</td><td>65</td></tr><tr><td>djhussey</td><td>2011</td><td>64</td></tr><tr><td>asraut</td><td>2011</td><td>60</td></tr><tr><td>amnayar</td><td>2011</td><td>60</td></tr><tr><td>lapomersbach</td><td>2011</td><td>51</td></tr><tr><td>scganguly</td><td>2011</td><td>50</td></tr><tr><td>mrmarsh</td><td>2011</td><td>50</td></tr><tr><td>rvinaykumar</td><td>2011</td><td>50</td></tr><tr><td>cjferguson</td><td>2011</td><td>48</td></tr><tr><td>ppchawla</td><td>2011</td><td>48</td></tr><tr><td>agpaunikar</td><td>2011</td><td>48</td></tr><tr><td>mandeepsingh</td><td>2011</td><td>47</td></tr><tr><td>ajfinch</td><td>2011</td><td>47</td></tr><tr><td>rvgomez</td><td>2011</td><td>46</td></tr><tr><td>sunnysingh</td><td>2011</td><td>43</td></tr><tr><td>gcsmith</td><td>2011</td><td>42</td></tr><tr><td>mkaif</td><td>2011</td><td>41</td></tr><tr><td>vvslaxman</td><td>2011</td><td>38</td></tr><tr><td>wdparnell</td><td>2011</td><td>37</td></tr><tr><td>strbinny</td><td>2011</td><td>37</td></tr><tr><td>mmorkel</td><td>2011</td><td>36</td></tr><tr><td>dwsteyn</td><td>2011</td><td>36</td></tr><tr><td>capujara</td><td>2011</td><td>34</td></tr><tr><td>aukpathan</td><td>2011</td><td>33</td></tr><tr><td>rjharris</td><td>2011</td><td>30</td></tr><tr><td>spgoswami</td><td>2011</td><td>29</td></tr><tr><td>shakibalhasan</td><td>2011</td><td>29</td></tr><tr><td>irjaggi</td><td>2011</td><td>28</td></tr><tr><td>amithun</td><td>2011</td><td>27</td></tr><tr><td>pkumar</td><td>2011</td><td>27</td></tr><tr><td>nlmccullum</td><td>2011</td><td>26</td></tr><tr><td>oashah</td><td>2011</td><td>26</td></tr><tr><td>rbhatia</td><td>2011</td><td>25</td></tr><tr><td>rsathish</td><td>2011</td><td>25</td></tr><tr><td>rsharma</td><td>2011</td><td>24</td></tr><tr><td>dlvettori</td><td>2011</td><td>23</td></tr><tr><td>nltcperera</td><td>2011</td><td>23</td></tr><tr><td>bipulsharma</td><td>2011</td><td>23</td></tr><tr><td>mswade</td><td>2011</td><td>22</td></tr><tr><td>zkhan</td><td>2011</td><td>21</td></tr><tr><td>caingram</td><td>2011</td><td>21</td></tr><tr><td>fyfazal</td><td>2011</td><td>19</td></tr><tr><td>ygnaneswararao</td><td>2011</td><td>19</td></tr><tr><td>jjvanderwath</td><td>2011</td><td>18</td></tr><tr><td>kmjadhav</td><td>2011</td><td>18</td></tr><tr><td>anahmed</td><td>2011</td><td>18</td></tr><tr><td>bjhaddin</td><td>2011</td><td>18</td></tr><tr><td>srana</td><td>2011</td><td>16</td></tr><tr><td>iqbalabdulla</td><td>2011</td><td>15</td></tr><tr><td>jsyedmohammad</td><td>2011</td><td>15</td></tr><tr><td>dhyagnik</td><td>2011</td><td>15</td></tr><tr><td>harpreetsingh</td><td>2011</td><td>14</td></tr><tr><td>revandermerwe</td><td>2011</td><td>14</td></tr><tr><td>lrshukla</td><td>2011</td><td>14</td></tr><tr><td>saravind</td><td>2011</td><td>13</td></tr><tr><td>bakhil</td><td>2011</td><td>13</td></tr><tr><td>djbravo</td><td>2011</td><td>11</td></tr><tr><td>mkartik</td><td>2011</td><td>11</td></tr><tr><td>rrpowar</td><td>2011</td><td>11</td></tr><tr><td>tdpaine</td><td>2011</td><td>10</td></tr><tr><td>aajhunjhunwala</td><td>2011</td><td>10</td></tr><tr><td>swtait</td><td>2011</td><td>10</td></tr><tr><td>skwarne</td><td>2011</td><td>10</td></tr><tr><td>sdchitnis</td><td>2011</td><td>9</td></tr><tr><td>saasnodkar</td><td>2011</td><td>9</td></tr><tr><td>cklangeveldt</td><td>2011</td><td>8</td></tr><tr><td>abmcdonald</td><td>2011</td><td>8</td></tr><tr><td>slmalinga</td><td>2011</td><td>8</td></tr><tr><td>kbarunkarthik</td><td>2011</td><td>7</td></tr><tr><td>imalhotra</td><td>2011</td><td>7</td></tr><tr><td>mvboucher</td><td>2011</td><td>6</td></tr><tr><td>abagarkar</td><td>2011</td><td>6</td></tr><tr><td>sbstyris</td><td>2011</td><td>5</td></tr><tr><td>blee</td><td>2011</td><td>5</td></tr><tr><td>mmuralitharan</td><td>2011</td><td>5</td></tr><tr><td>prshah</td><td>2011</td><td>5</td></tr><tr><td>lbalaji</td><td>2011</td><td>4</td></tr><tr><td>ssriram</td><td>2011</td><td>4</td></tr><tr><td>sjsrivastava</td><td>2011</td><td>4</td></tr><tr><td>isharma</td><td>2011</td><td>4</td></tr><tr><td>rninan</td><td>2011</td><td>3</td></tr><tr><td>jetaylor</td><td>2011</td><td>3</td></tr><tr><td>sbwagh</td><td>2011</td><td>2</td></tr><tr><td>rashwin</td><td>2011</td><td>2</td></tr><tr><td>srandiv</td><td>2011</td><td>2</td></tr><tr><td>rpsingh</td><td>2011</td><td>2</td></tr><tr><td>dskulkarni</td><td>2011</td><td>2</td></tr><tr><td>agmurtaza</td><td>2011</td><td>2</td></tr><tr><td>ubtchand</td><td>2011</td><td>2</td></tr><tr><td>acthomas</td><td>2011</td><td>1</td></tr><tr><td>bkumar</td><td>2011</td><td>1</td></tr><tr><td>aachavan</td><td>2011</td><td>1</td></tr><tr><td>asingh</td><td>2011</td><td>1</td></tr><tr><td>utyadav</td><td>2011</td><td>1</td></tr><tr><td>ssreesanth</td><td>2011</td><td>1</td></tr><tr><td>njrimmington</td><td>2011</td><td>1</td></tr><tr><td>pparameswaran</td><td>2011</td><td>1</td></tr><tr><td>debollinger</td><td>2011</td><td>0</td></tr><tr><td>jogindersharma</td><td>2011</td><td>0</td></tr><tr><td>babhatt</td><td>2011</td><td>0</td></tr><tr><td>sktrivedi</td><td>2011</td><td>0</td></tr><tr><td>jdporam</td><td>2011</td><td>0</td></tr><tr><td>vraaron</td><td>2011</td><td>0</td></tr><tr><td>nddoshi</td><td>2011</td><td>0</td></tr><tr><td>lablish</td><td>2011</td><td>0</td></tr><tr><td>mmpatel</td><td>2011</td><td>0</td></tr><tr><td>mjlumb</td><td>2011</td><td>0</td></tr><tr><td>abdinda</td><td>2011</td><td>0</td></tr><tr><td>msgony</td><td>2011</td><td>0</td></tr><tr><td>snadeem</td><td>2011</td><td>0</td></tr><tr><td>chgayle</td><td>2012</td><td>720</td></tr><tr><td>ggambhir</td><td>2012</td><td>590</td></tr><tr><td>sdhawan</td><td>2012</td><td>568</td></tr><tr><td>amrahane</td><td>2012</td><td>560</td></tr><tr><td>vsehwag</td><td>2012</td><td>495</td></tr><tr><td>clwhite</td><td>2012</td><td>475</td></tr><tr><td>rdravid</td><td>2012</td><td>462</td></tr><tr><td>skraina</td><td>2012</td><td>440</td></tr><tr><td>rgsharma</td><td>2012</td><td>432</td></tr><tr><td>mandeepsingh</td><td>2012</td><td>431</td></tr><tr><td>jhkallis</td><td>2012</td><td>408</td></tr><tr><td>rvuthappa</td><td>2012</td><td>404</td></tr><tr><td>fduplessis</td><td>2012</td><td>397</td></tr><tr><td>djhussey</td><td>2012</td><td>396</td></tr><tr><td>djbravo</td><td>2012</td><td>367</td></tr><tr><td>vkohli</td><td>2012</td><td>358</td></tr><tr><td>msdhoni</td><td>2012</td><td>354</td></tr><tr><td>spdsmith</td><td>2012</td><td>350</td></tr><tr><td>oashah</td><td>2012</td><td>339</td></tr><tr><td>mvijay</td><td>2012</td><td>336</td></tr><tr><td>semarsh</td><td>2012</td><td>336</td></tr><tr><td>dpmdjayawardene</td><td>2012</td><td>335</td></tr><tr><td>atrayudu</td><td>2012</td><td>333</td></tr><tr><td>srtendulkar</td><td>2012</td><td>324</td></tr><tr><td>abdevilliers</td><td>2012</td><td>318</td></tr><tr><td>kppietersen</td><td>2012</td><td>305</td></tr><tr><td>bbmccullum</td><td>2012</td><td>289</td></tr><tr><td>tmdilshan</td><td>2012</td><td>283</td></tr><tr><td>scganguly</td><td>2012</td><td>268</td></tr><tr><td>mekhussey</td><td>2012</td><td>261</td></tr><tr><td>mktiwary</td><td>2012</td><td>260</td></tr><tr><td>srwatson</td><td>2012</td><td>255</td></tr><tr><td>jdryder</td><td>2012</td><td>252</td></tr><tr><td>dawarner</td><td>2012</td><td>252</td></tr><tr><td>nvojha</td><td>2012</td><td>251</td></tr><tr><td>bjhodge</td><td>2012</td><td>245</td></tr><tr><td>jpduminy</td><td>2012</td><td>244</td></tr><tr><td>kdkarthik</td><td>2012</td><td>238</td></tr><tr><td>maagarwal</td><td>2012</td><td>225</td></tr><tr><td>kapollard</td><td>2012</td><td>220</td></tr><tr><td>jecfranklin</td><td>2012</td><td>214</td></tr><tr><td>almenaria</td><td>2012</td><td>214</td></tr><tr><td>msbisla</td><td>2012</td><td>213</td></tr><tr><td>lrpltaylor</td><td>2012</td><td>197</td></tr><tr><td>sbadrinath</td><td>2012</td><td>196</td></tr><tr><td>kcsangakkara</td><td>2012</td><td>194</td></tr><tr><td>papatel</td><td>2012</td><td>193</td></tr><tr><td>ykpathan</td><td>2012</td><td>191</td></tr><tr><td>rajadeja</td><td>2012</td><td>191</td></tr><tr><td>azharmahmood</td><td>2012</td><td>186</td></tr><tr><td>sstiwary</td><td>2012</td><td>183</td></tr><tr><td>ikpathan</td><td>2012</td><td>176</td></tr><tr><td>acgilchrist</td><td>2012</td><td>168</td></tr><tr><td>drsmith</td><td>2012</td><td>156</td></tr><tr><td>ynagar</td><td>2012</td><td>153</td></tr><tr><td>dtchristian</td><td>2012</td><td>145</td></tr><tr><td>nsaini</td><td>2012</td><td>140</td></tr><tr><td>mkpandey</td><td>2012</td><td>138</td></tr><tr><td>yvenugopalrao</td><td>2012</td><td>132</td></tr><tr><td>admathews</td><td>2012</td><td>127</td></tr><tr><td>dbdas</td><td>2012</td><td>126</td></tr><tr><td>mnsamuels</td><td>2012</td><td>124</td></tr><tr><td>mmanhas</td><td>2012</td><td>120</td></tr><tr><td>djharris</td><td>2012</td><td>111</td></tr><tr><td>harbhajansingh</td><td>2012</td><td>108</td></tr><tr><td>jamorkel</td><td>2012</td><td>107</td></tr><tr><td>ppchawla</td><td>2012</td><td>106</td></tr><tr><td>mjclarke</td><td>2012</td><td>98</td></tr><tr><td>damiller</td><td>2012</td><td>98</td></tr><tr><td>strbinny</td><td>2012</td><td>90</td></tr><tr><td>shakibalhasan</td><td>2012</td><td>89</td></tr><tr><td>apmajumdar</td><td>2012</td><td>87</td></tr><tr><td>gurkeeratsingh</td><td>2012</td><td>86</td></tr><tr><td>relevi</td><td>2012</td><td>83</td></tr><tr><td>hhgibbs</td><td>2012</td><td>81</td></tr><tr><td>lrshukla</td><td>2012</td><td>75</td></tr><tr><td>pareddy</td><td>2012</td><td>73</td></tr><tr><td>bipulsharma</td><td>2012</td><td>72</td></tr><tr><td>spgoswami</td><td>2012</td><td>69</td></tr><tr><td>rvinaykumar</td><td>2012</td><td>68</td></tr><tr><td>sdchitnis</td><td>2012</td><td>66</td></tr><tr><td>jbotha</td><td>2012</td><td>58</td></tr><tr><td>slmalinga</td><td>2012</td><td>55</td></tr><tr><td>ajfinch</td><td>2012</td><td>55</td></tr><tr><td>cjferguson</td><td>2012</td><td>50</td></tr><tr><td>abmcdonald</td><td>2012</td><td>47</td></tr><tr><td>adrussell</td><td>2012</td><td>47</td></tr><tr><td>amnayar</td><td>2012</td><td>45</td></tr><tr><td>blee</td><td>2012</td><td>42</td></tr><tr><td>bkumar</td><td>2012</td><td>40</td></tr><tr><td>bchipli</td><td>2012</td><td>37</td></tr><tr><td>kkcooper</td><td>2012</td><td>37</td></tr><tr><td>pnegi</td><td>2012</td><td>36</td></tr><tr><td>ubtchand</td><td>2012</td><td>36</td></tr><tr><td>aashishreddy</td><td>2012</td><td>35</td></tr><tr><td>rbhatia</td><td>2012</td><td>35</td></tr><tr><td>pkumar</td><td>2012</td><td>35</td></tr><tr><td>rjpeterson</td><td>2012</td><td>32</td></tr><tr><td>dlvettori</td><td>2012</td><td>31</td></tr><tr><td>pcvalthaty</td><td>2012</td><td>30</td></tr><tr><td>mkartik</td><td>2012</td><td>26</td></tr><tr><td>dhyagnik</td><td>2012</td><td>25</td></tr><tr><td>aajhunjhunwala</td><td>2012</td><td>24</td></tr><tr><td>rntendoeschate</td><td>2012</td><td>21</td></tr><tr><td>acthomas</td><td>2012</td><td>19</td></tr><tr><td>wdparnell</td><td>2012</td><td>19</td></tr><tr><td>dwsteyn</td><td>2012</td><td>19</td></tr><tr><td>sanirudha</td><td>2012</td><td>19</td></tr><tr><td>ankitsharma</td><td>2012</td><td>18</td></tr><tr><td>rashwin</td><td>2012</td><td>18</td></tr><tr><td>rjharris</td><td>2012</td><td>18</td></tr><tr><td>capujara</td><td>2012</td><td>17</td></tr><tr><td>amishra</td><td>2012</td><td>16</td></tr><tr><td>hvpatel</td><td>2012</td><td>15</td></tr><tr><td>tlsuman</td><td>2012</td><td>15</td></tr><tr><td>irjaggi</td><td>2012</td><td>15</td></tr><tr><td>pdogra</td><td>2012</td><td>15</td></tr><tr><td>gbhogg</td><td>2012</td><td>15</td></tr><tr><td>harmeetsingh</td><td>2012</td><td>15</td></tr><tr><td>mkaif</td><td>2012</td><td>14</td></tr><tr><td>saravind</td><td>2012</td><td>14</td></tr><tr><td>jpfaulkner</td><td>2012</td><td>14</td></tr><tr><td>admascarenhas</td><td>2012</td><td>14</td></tr><tr><td>zkhan</td><td>2012</td><td>12</td></tr><tr><td>dajbracewell</td><td>2012</td><td>12</td></tr><tr><td>kupadhyay</td><td>2012</td><td>11</td></tr><tr><td>anehra</td><td>2012</td><td>11</td></tr><tr><td>aachavan</td><td>2012</td><td>11</td></tr><tr><td>dskulkarni</td><td>2012</td><td>10</td></tr><tr><td>spnarine</td><td>2012</td><td>9</td></tr><tr><td>cjmckay</td><td>2012</td><td>8</td></tr><tr><td>jtheron</td><td>2012</td><td>7</td></tr><tr><td>sbjakati</td><td>2012</td><td>7</td></tr><tr><td>harpreetsingh</td><td>2012</td><td>6</td></tr><tr><td>calynn</td><td>2012</td><td>6</td></tr><tr><td>aukpathan</td><td>2012</td><td>6</td></tr><tr><td>rpsingh</td><td>2012</td><td>6</td></tr><tr><td>mmuralitharan</td><td>2012</td><td>6</td></tr><tr><td>wpsaha</td><td>2012</td><td>6</td></tr><tr><td>babhatt</td><td>2012</td><td>6</td></tr><tr><td>gjmaxwell</td><td>2012</td><td>6</td></tr><tr><td>kmdnkulasekara</td><td>2012</td><td>5</td></tr><tr><td>sktrivedi</td><td>2012</td><td>5</td></tr><tr><td>mdmishra</td><td>2012</td><td>4</td></tr><tr><td>ppojha</td><td>2012</td><td>4</td></tr><tr><td>msgony</td><td>2012</td><td>4</td></tr><tr><td>dbraviteja</td><td>2012</td><td>4</td></tr><tr><td>jsyedmohammad</td><td>2012</td><td>4</td></tr><tr><td>pawana</td><td>2012</td><td>4</td></tr><tr><td>agmurtaza</td><td>2012</td><td>3</td></tr><tr><td>nltcperera</td><td>2012</td><td>3</td></tr><tr><td>debollinger</td><td>2012</td><td>3</td></tr><tr><td>mmorkel</td><td>2012</td><td>3</td></tr><tr><td>mmpatel</td><td>2012</td><td>2</td></tr><tr><td>abdinda</td><td>2012</td><td>2</td></tr><tr><td>bbsamantray</td><td>2012</td><td>2</td></tr><tr><td>rsharma</td><td>2012</td><td>2</td></tr><tr><td>iqbalabdulla</td><td>2012</td><td>2</td></tr><tr><td>utyadav</td><td>2012</td><td>2</td></tr><tr><td>vraaron</td><td>2012</td><td>1</td></tr><tr><td>djjacobs</td><td>2012</td><td>0</td></tr><tr><td>rrbhatkal</td><td>2012</td><td>0</td></tr><tr><td>sayadav</td><td>2012</td><td>0</td></tr><tr><td>vpratapsingh</td><td>2012</td><td>0</td></tr><tr><td>acblizzard</td><td>2012</td><td>0</td></tr><tr><td>pparameswaran</td><td>2012</td><td>0</td></tr><tr><td>snadeem</td><td>2012</td><td>0</td></tr><tr><td>asingh</td><td>2012</td><td>0</td></tr><tr><td>achandila</td><td>2012</td><td>0</td></tr><tr><td>sunnygupta</td><td>2012</td><td>0</td></tr><tr><td>mekhussey</td><td>2013</td><td>732</td></tr><tr><td>chgayle</td><td>2013</td><td>701</td></tr><tr><td>vkohli</td><td>2013</td><td>636</td></tr><tr><td>skraina</td><td>2013</td><td>546</td></tr><tr><td>srwatson</td><td>2013</td><td>542</td></tr><tr><td>rgsharma</td><td>2013</td><td>532</td></tr><tr><td>kdkarthik</td><td>2013</td><td>505</td></tr><tr><td>amrahane</td><td>2013</td><td>488</td></tr><tr><td>rdravid</td><td>2013</td><td>471</td></tr><tr><td>msdhoni</td><td>2013</td><td>458</td></tr><tr><td>ajfinch</td><td>2013</td><td>455</td></tr><tr><td>rvuthappa</td><td>2013</td><td>430</td></tr><tr><td>drsmith</td><td>2013</td><td>418</td></tr><tr><td>damiller</td><td>2013</td><td>417</td></tr><tr><td>kapollard</td><td>2013</td><td>414</td></tr><tr><td>dawarner</td><td>2013</td><td>410</td></tr><tr><td>ggambhir</td><td>2013</td><td>406</td></tr><tr><td>abdevilliers</td><td>2013</td><td>373</td></tr><tr><td>dpmdjayawardene</td><td>2013</td><td>331</td></tr><tr><td>ykpathan</td><td>2013</td><td>331</td></tr><tr><td>mvijay</td><td>2013</td><td>312</td></tr><tr><td>jhkallis</td><td>2013</td><td>311</td></tr><tr><td>sdhawan</td><td>2013</td><td>311</td></tr><tr><td>ejgmorgan</td><td>2013</td><td>307</td></tr><tr><td>semarsh</td><td>2013</td><td>300</td></tr><tr><td>vsehwag</td><td>2013</td><td>294</td></tr><tr><td>papatel</td><td>2013</td><td>294</td></tr><tr><td>acgilchrist</td><td>2013</td><td>294</td></tr><tr><td>strbinny</td><td>2013</td><td>293</td></tr><tr><td>bjhodge</td><td>2013</td><td>292</td></tr><tr><td>srtendulkar</td><td>2013</td><td>283</td></tr><tr><td>atrayudu</td><td>2013</td><td>264</td></tr><tr><td>mandeepsingh</td><td>2013</td><td>260</td></tr><tr><td>msbisla</td><td>2013</td><td>255</td></tr><tr><td>ghvihari</td><td>2013</td><td>239</td></tr><tr><td>yuvrajsingh</td><td>2013</td><td>238</td></tr><tr><td>djhussey</td><td>2013</td><td>235</td></tr><tr><td>nltcperera</td><td>2013</td><td>233</td></tr><tr><td>clwhite</td><td>2013</td><td>226</td></tr><tr><td>svsamson</td><td>2013</td><td>206</td></tr><tr><td>rajadeja</td><td>2013</td><td>200</td></tr><tr><td>azharmahmood</td><td>2013</td><td>196</td></tr><tr><td>bjrohrer</td><td>2013</td><td>193</td></tr><tr><td>djgsammy</td><td>2013</td><td>174</td></tr><tr><td>admathews</td><td>2013</td><td>172</td></tr><tr><td>mchenriques</td><td>2013</td><td>165</td></tr><tr><td>mvohra</td><td>2013</td><td>161</td></tr><tr><td>spdsmith</td><td>2013</td><td>159</td></tr><tr><td>ubtchand</td><td>2013</td><td>158</td></tr><tr><td>ikpathan</td><td>2013</td><td>153</td></tr><tr><td>kmjadhav</td><td>2013</td><td>148</td></tr><tr><td>mktiwary</td><td>2013</td><td>146</td></tr><tr><td>mrmarsh</td><td>2013</td><td>140</td></tr><tr><td>mkpandey</td><td>2013</td><td>136</td></tr><tr><td>mcjuneja</td><td>2013</td><td>125</td></tr><tr><td>aashishreddy</td><td>2013</td><td>125</td></tr><tr><td>dhyagnik</td><td>2013</td><td>124</td></tr><tr><td>sbadrinath</td><td>2013</td><td>124</td></tr><tr><td>aptare</td><td>2013</td><td>123</td></tr><tr><td>bbsamantray</td><td>2013</td><td>123</td></tr><tr><td>djbravo</td><td>2013</td><td>121</td></tr><tr><td>kcsangakkara</td><td>2013</td><td>120</td></tr><tr><td>harbhajansingh</td><td>2013</td><td>116</td></tr><tr><td>sstiwary</td><td>2013</td><td>109</td></tr><tr><td>gurkeeratsingh</td><td>2013</td><td>108</td></tr><tr><td>rsathish</td><td>2013</td><td>108</td></tr><tr><td>ljwright</td><td>2013</td><td>102</td></tr><tr><td>rbhatia</td><td>2013</td><td>99</td></tr><tr><td>capujara</td><td>2013</td><td>92</td></tr><tr><td>pareddy</td><td>2013</td><td>91</td></tr><tr><td>amishra</td><td>2013</td><td>89</td></tr><tr><td>rntendoeschate</td><td>2013</td><td>85</td></tr><tr><td>kvsharma</td><td>2013</td><td>85</td></tr><tr><td>dbdas</td><td>2013</td><td>75</td></tr><tr><td>tmdilshan</td><td>2013</td><td>75</td></tr><tr><td>rvinaykumar</td><td>2013</td><td>70</td></tr><tr><td>wpsaha</td><td>2013</td><td>70</td></tr><tr><td>maagarwal</td><td>2013</td><td>67</td></tr><tr><td>amnayar</td><td>2013</td><td>66</td></tr><tr><td>ppchawla</td><td>2013</td><td>64</td></tr><tr><td>lrpltaylor</td><td>2013</td><td>63</td></tr><tr><td>lapomersbach</td><td>2013</td><td>58</td></tr><tr><td>mmorkel</td><td>2013</td><td>57</td></tr><tr><td>jpfaulkner</td><td>2013</td><td>57</td></tr><tr><td>dwsteyn</td><td>2013</td><td>53</td></tr><tr><td>rtponting</td><td>2013</td><td>52</td></tr><tr><td>tlsuman</td><td>2013</td><td>52</td></tr><tr><td>bkumar</td><td>2013</td><td>52</td></tr><tr><td>jamorkel</td><td>2013</td><td>46</td></tr><tr><td>pkumar</td><td>2013</td><td>45</td></tr><tr><td>msgony</td><td>2013</td><td>45</td></tr><tr><td>cmgautam</td><td>2013</td><td>44</td></tr><tr><td>jbotha</td><td>2013</td><td>43</td></tr><tr><td>kbarunkarthik</td><td>2013</td><td>41</td></tr><tr><td>kkcooper</td><td>2013</td><td>39</td></tr><tr><td>mgjohnson</td><td>2013</td><td>39</td></tr><tr><td>utyadav</td><td>2013</td><td>38</td></tr><tr><td>rrampaul</td><td>2013</td><td>37</td></tr><tr><td>gjmaxwell</td><td>2013</td><td>36</td></tr><tr><td>rashwin</td><td>2013</td><td>35</td></tr><tr><td>kwrichardson</td><td>2013</td><td>34</td></tr><tr><td>oashah</td><td>2013</td><td>25</td></tr><tr><td>bmajmendis</td><td>2013</td><td>23</td></tr><tr><td>snarwal</td><td>2013</td><td>23</td></tr><tr><td>revandermerwe</td><td>2013</td><td>22</td></tr><tr><td>spnarine</td><td>2013</td><td>21</td></tr><tr><td>blee</td><td>2013</td><td>21</td></tr><tr><td>rdhawan</td><td>2013</td><td>21</td></tr><tr><td>klrahul</td><td>2013</td><td>20</td></tr><tr><td>amukund</td><td>2013</td><td>19</td></tr><tr><td>bchipli</td><td>2013</td><td>16</td></tr><tr><td>mdkjperera</td><td>2013</td><td>14</td></tr><tr><td>snadeem</td><td>2013</td><td>14</td></tr><tr><td>dbraviteja</td><td>2013</td><td>14</td></tr><tr><td>chmorris</td><td>2013</td><td>14</td></tr><tr><td>mmanhas</td><td>2013</td><td>13</td></tr><tr><td>abagarkar</td><td>2013</td><td>12</td></tr><tr><td>adrussell</td><td>2013</td><td>11</td></tr><tr><td>rsharma</td><td>2013</td><td>11</td></tr><tr><td>smsmsenanayake</td><td>2013</td><td>10</td></tr><tr><td>xthalaivansargunam</td><td>2013</td><td>10</td></tr><tr><td>jsyedmohammad</td><td>2013</td><td>10</td></tr><tr><td>nvojha</td><td>2013</td><td>9</td></tr><tr><td>abdinda</td><td>2013</td><td>9</td></tr><tr><td>lbalaji</td><td>2013</td><td>9</td></tr><tr><td>nmcoulternile</td><td>2013</td><td>9</td></tr><tr><td>slmalinga</td><td>2013</td><td>9</td></tr><tr><td>kknair</td><td>2013</td><td>9</td></tr><tr><td>iqbalabdulla</td><td>2013</td><td>8</td></tr><tr><td>mnsamuels</td><td>2013</td><td>8</td></tr><tr><td>skaul</td><td>2013</td><td>7</td></tr><tr><td>uabirla</td><td>2013</td><td>7</td></tr><tr><td>bbmccullum</td><td>2013</td><td>6</td></tr><tr><td>dtchristian</td><td>2013</td><td>6</td></tr><tr><td>qdekock</td><td>2013</td><td>6</td></tr><tr><td>pcvalthaty</td><td>2013</td><td>6</td></tr><tr><td>agmurtaza</td><td>2013</td><td>5</td></tr><tr><td>mrawat</td><td>2013</td><td>5</td></tr><tr><td>pdogra</td><td>2013</td><td>5</td></tr><tr><td>parvezrasool</td><td>2013</td><td>5</td></tr><tr><td>mohammedshami</td><td>2013</td><td>5</td></tr><tr><td>wdparnell</td><td>2013</td><td>5</td></tr><tr><td>admascarenhas</td><td>2013</td><td>5</td></tr><tr><td>pjsangwan</td><td>2013</td><td>4</td></tr><tr><td>blaughlin</td><td>2013</td><td>4</td></tr><tr><td>rvgomez</td><td>2013</td><td>4</td></tr><tr><td>achandila</td><td>2013</td><td>4</td></tr><tr><td>sktrivedi</td><td>2013</td><td>3</td></tr><tr><td>sachinbaby</td><td>2013</td><td>3</td></tr><tr><td>pvtambe</td><td>2013</td><td>3</td></tr><tr><td>lrshukla</td><td>2013</td><td>3</td></tr><tr><td>rmclaren</td><td>2013</td><td>3</td></tr><tr><td>harmeetsingh</td><td>2013</td><td>3</td></tr><tr><td>ppojha</td><td>2013</td><td>2</td></tr><tr><td>jdunadkat</td><td>2013</td><td>2</td></tr><tr><td>amithun</td><td>2013</td><td>2</td></tr><tr><td>mkartik</td><td>2013</td><td>2</td></tr><tr><td>bawmendis</td><td>2013</td><td>2</td></tr><tr><td>asrajpoot</td><td>2013</td><td>2</td></tr><tr><td>rjharris</td><td>2013</td><td>2</td></tr><tr><td>rshukla</td><td>2013</td><td>1</td></tr><tr><td>anehra</td><td>2013</td><td>1</td></tr><tr><td>almenaria</td><td>2013</td><td>1</td></tr><tr><td>kupadhyay</td><td>2013</td><td>1</td></tr><tr><td>ssreesanth</td><td>2013</td><td>1</td></tr><tr><td>pawana</td><td>2013</td><td>1</td></tr><tr><td>swtait</td><td>2013</td><td>1</td></tr><tr><td>icpandey</td><td>2013</td><td>0</td></tr><tr><td>abmcdonald</td><td>2013</td><td>0</td></tr><tr><td>mmsharma</td><td>2013</td><td>0</td></tr><tr><td>sanirudha</td><td>2013</td><td>0</td></tr><tr><td>sandeepsharma</td><td>2013</td><td>0</td></tr><tr><td>rvuthappa</td><td>2014</td><td>659</td></tr><tr><td>drsmith</td><td>2014</td><td>565</td></tr><tr><td>gjmaxwell</td><td>2014</td><td>552</td></tr><tr><td>dawarner</td><td>2014</td><td>528</td></tr><tr><td>skraina</td><td>2014</td><td>519</td></tr><tr><td>vsehwag</td><td>2014</td><td>455</td></tr><tr><td>damiller</td><td>2014</td><td>446</td></tr><tr><td>mkpandey</td><td>2014</td><td>409</td></tr><tr><td>jpduminy</td><td>2014</td><td>408</td></tr><tr><td>bbmccullum</td><td>2014</td><td>405</td></tr><tr><td>lmpsimmons</td><td>2014</td><td>394</td></tr><tr><td>rgsharma</td><td>2014</td><td>390</td></tr><tr><td>abdevilliers</td><td>2014</td><td>389</td></tr><tr><td>sdhawan</td><td>2014</td><td>373</td></tr><tr><td>msdhoni</td><td>2014</td><td>371</td></tr><tr><td>yuvrajsingh</td><td>2014</td><td>370</td></tr><tr><td>wpsaha</td><td>2014</td><td>362</td></tr><tr><td>atrayudu</td><td>2014</td><td>360</td></tr><tr><td>vkohli</td><td>2014</td><td>359</td></tr><tr><td>svsamson</td><td>2014</td><td>339</td></tr><tr><td>amrahane</td><td>2014</td><td>339</td></tr><tr><td>kknair</td><td>2014</td><td>330</td></tr><tr><td>kdkarthik</td><td>2014</td><td>325</td></tr><tr><td>mvohra</td><td>2014</td><td>324</td></tr><tr><td>ggambhir</td><td>2014</td><td>324</td></tr><tr><td>ajfinch</td><td>2014</td><td>308</td></tr><tr><td>fduplessis</td><td>2014</td><td>303</td></tr><tr><td>kppietersen</td><td>2014</td><td>294</td></tr><tr><td>kapollard</td><td>2014</td><td>272</td></tr><tr><td>ykpathan</td><td>2014</td><td>268</td></tr><tr><td>cjanderson</td><td>2014</td><td>265</td></tr><tr><td>gjbailey</td><td>2014</td><td>254</td></tr><tr><td>srwatson</td><td>2014</td><td>245</td></tr><tr><td>shakibalhasan</td><td>2014</td><td>228</td></tr><tr><td>nvojha</td><td>2014</td><td>226</td></tr><tr><td>mekhussey</td><td>2014</td><td>209</td></tr><tr><td>mvijay</td><td>2014</td><td>207</td></tr><tr><td>papatel</td><td>2014</td><td>205</td></tr><tr><td>chgayle</td><td>2014</td><td>196</td></tr><tr><td>jpfaulkner</td><td>2014</td><td>180</td></tr><tr><td>klrahul</td><td>2014</td><td>166</td></tr><tr><td>sayadav</td><td>2014</td><td>160</td></tr><tr><td>qdekock</td><td>2014</td><td>153</td></tr><tr><td>mktiwary</td><td>2014</td><td>152</td></tr><tr><td>jhkallis</td><td>2014</td><td>151</td></tr><tr><td>rajadeja</td><td>2014</td><td>146</td></tr><tr><td>kmjadhav</td><td>2014</td><td>146</td></tr><tr><td>spdsmith</td><td>2014</td><td>146</td></tr><tr><td>aptare</td><td>2014</td><td>126</td></tr><tr><td>capujara</td><td>2014</td><td>125</td></tr><tr><td>strbinny</td><td>2014</td><td>123</td></tr><tr><td>cmgautam</td><td>2014</td><td>121</td></tr><tr><td>djhussey</td><td>2014</td><td>116</td></tr><tr><td>maagarwal</td><td>2014</td><td>115</td></tr><tr><td>djgsammy</td><td>2014</td><td>108</td></tr><tr><td>yvtakawale</td><td>2014</td><td>104</td></tr><tr><td>bjhodge</td><td>2014</td><td>101</td></tr><tr><td>mastarc</td><td>2014</td><td>85</td></tr><tr><td>rdhawan</td><td>2014</td><td>82</td></tr><tr><td>srana</td><td>2014</td><td>71</td></tr><tr><td>yvenugopalrao</td><td>2014</td><td>71</td></tr><tr><td>semarsh</td><td>2014</td><td>70</td></tr><tr><td>rbhatia</td><td>2014</td><td>67</td></tr><tr><td>arpatel</td><td>2014</td><td>62</td></tr><tr><td>lrpltaylor</td><td>2014</td><td>59</td></tr><tr><td>calynn</td><td>2014</td><td>58</td></tr><tr><td>mgjohnson</td><td>2014</td><td>56</td></tr><tr><td>ikpathan</td><td>2014</td><td>55</td></tr><tr><td>rntendoeschate</td><td>2014</td><td>52</td></tr><tr><td>jamorkel</td><td>2014</td><td>45</td></tr><tr><td>rashwin</td><td>2014</td><td>45</td></tr><tr><td>kvsharma</td><td>2014</td><td>42</td></tr><tr><td>jdsneesham</td><td>2014</td><td>42</td></tr><tr><td>brdunk</td><td>2014</td><td>40</td></tr><tr><td>rrrossouw</td><td>2014</td><td>39</td></tr><tr><td>kkcooper</td><td>2014</td><td>39</td></tr><tr><td>amnayar</td><td>2014</td><td>39</td></tr><tr><td>mmanhas</td><td>2014</td><td>35</td></tr><tr><td>dskulkarni</td><td>2014</td><td>35</td></tr><tr><td>vraaron</td><td>2014</td><td>34</td></tr><tr><td>ankitsharma</td><td>2014</td><td>34</td></tr><tr><td>lrshukla</td><td>2014</td><td>31</td></tr><tr><td>ppchawla</td><td>2014</td><td>31</td></tr><tr><td>vhzol</td><td>2014</td><td>29</td></tr><tr><td>harbhajansingh</td><td>2014</td><td>28</td></tr><tr><td>mandeepsingh</td><td>2014</td><td>24</td></tr><tr><td>dwsteyn</td><td>2014</td><td>22</td></tr><tr><td>rshukla</td><td>2014</td><td>18</td></tr><tr><td>njmaddinson</td><td>2014</td><td>16</td></tr><tr><td>joholder</td><td>2014</td><td>16</td></tr><tr><td>rtewatia</td><td>2014</td><td>16</td></tr><tr><td>hvpatel</td><td>2014</td><td>13</td></tr><tr><td>rrampaul</td><td>2014</td><td>13</td></tr><tr><td>sgopal</td><td>2014</td><td>11</td></tr><tr><td>spnarine</td><td>2014</td><td>10</td></tr><tr><td>mchenriques</td><td>2014</td><td>9</td></tr><tr><td>zkhan</td><td>2014</td><td>8</td></tr><tr><td>djbravo</td><td>2014</td><td>8</td></tr><tr><td>bcjcutting</td><td>2014</td><td>8</td></tr><tr><td>imrantahir</td><td>2014</td><td>8</td></tr><tr><td>snadeem</td><td>2014</td><td>7</td></tr><tr><td>shivamsharma</td><td>2014</td><td>5</td></tr><tr><td>pvtambe</td><td>2014</td><td>5</td></tr><tr><td>abdinda</td><td>2014</td><td>4</td></tr><tr><td>amishra</td><td>2014</td><td>4</td></tr><tr><td>anahmed</td><td>2014</td><td>4</td></tr><tr><td>ppojha</td><td>2014</td><td>4</td></tr><tr><td>tgsouthee</td><td>2014</td><td>4</td></tr><tr><td>dhyagnik</td><td>2014</td><td>4</td></tr><tr><td>mmorkel</td><td>2014</td><td>4</td></tr><tr><td>rvinaykumar</td><td>2014</td><td>4</td></tr><tr><td>sanirudha</td><td>2014</td><td>3</td></tr><tr><td>mohammedshami</td><td>2014</td><td>3</td></tr><tr><td>msbisla</td><td>2014</td><td>3</td></tr><tr><td>sandeepsharma</td><td>2014</td><td>2</td></tr><tr><td>ubtchand</td><td>2014</td><td>2</td></tr><tr><td>wdparnell</td><td>2014</td><td>2</td></tr><tr><td>skaul</td><td>2014</td><td>2</td></tr><tr><td>adrussell</td><td>2014</td><td>2</td></tr><tr><td>utyadav</td><td>2014</td><td>2</td></tr><tr><td>slmalinga</td><td>2014</td><td>2</td></tr><tr><td>yschahal</td><td>2014</td><td>1</td></tr><tr><td>mmsharma</td><td>2014</td><td>1</td></tr><tr><td>bkumar</td><td>2014</td><td>1</td></tr><tr><td>lbalaji</td><td>2014</td><td>1</td></tr><tr><td>jjbumrah</td><td>2014</td><td>1</td></tr><tr><td>mdelange</td><td>2014</td><td>1</td></tr><tr><td>karanveersingh</td><td>2014</td><td>1</td></tr><tr><td>pkumar</td><td>2014</td><td>1</td></tr><tr><td>kwrichardson</td><td>2014</td><td>1</td></tr><tr><td>jdunadkat</td><td>2014</td><td>1</td></tr><tr><td>vsmalik</td><td>2014</td><td>1</td></tr><tr><td>behendricks</td><td>2014</td><td>0</td></tr><tr><td>dawarner</td><td>2015</td><td>554</td></tr><tr><td>amrahane</td><td>2015</td><td>540</td></tr><tr><td>lmpsimmons</td><td>2015</td><td>540</td></tr><tr><td>abdevilliers</td><td>2015</td><td>511</td></tr><tr><td>vkohli</td><td>2015</td><td>505</td></tr><tr><td>chgayle</td><td>2015</td><td>490</td></tr><tr><td>rgsharma</td><td>2015</td><td>482</td></tr><tr><td>ssiyer</td><td>2015</td><td>439</td></tr><tr><td>bbmccullum</td><td>2015</td><td>431</td></tr><tr><td>kapollard</td><td>2015</td><td>415</td></tr><tr><td>jpduminy</td><td>2015</td><td>414</td></tr><tr><td>drsmith</td><td>2015</td><td>399</td></tr><tr><td>fduplessis</td><td>2015</td><td>380</td></tr><tr><td>skraina</td><td>2015</td><td>374</td></tr><tr><td>msdhoni</td><td>2015</td><td>372</td></tr><tr><td>rvuthappa</td><td>2015</td><td>364</td></tr><tr><td>damiller</td><td>2015</td><td>357</td></tr><tr><td>sdhawan</td><td>2015</td><td>347</td></tr><tr><td>srwatson</td><td>2015</td><td>343</td></tr><tr><td>papatel</td><td>2015</td><td>339</td></tr><tr><td>ggambhir</td><td>2015</td><td>327</td></tr><tr><td>adrussell</td><td>2015</td><td>326</td></tr><tr><td>ykpathan</td><td>2015</td><td>310</td></tr><tr><td>spdsmith</td><td>2015</td><td>292</td></tr><tr><td>mchenriques</td><td>2015</td><td>283</td></tr><tr><td>atrayudu</td><td>2015</td><td>281</td></tr><tr><td>gjbailey</td><td>2015</td><td>259</td></tr><tr><td>mvijay</td><td>2015</td><td>251</td></tr><tr><td>wpsaha</td><td>2015</td><td>249</td></tr><tr><td>yuvrajsingh</td><td>2015</td><td>247</td></tr><tr><td>mkpandey</td><td>2015</td><td>225</td></tr><tr><td>maagarwal</td><td>2015</td><td>213</td></tr><tr><td>arpatel</td><td>2015</td><td>206</td></tr><tr><td>svsamson</td><td>2015</td><td>204</td></tr><tr><td>djbravo</td><td>2015</td><td>195</td></tr><tr><td>kmjadhav</td><td>2015</td><td>189</td></tr><tr><td>ejgmorgan</td><td>2015</td><td>187</td></tr><tr><td>kknair</td><td>2015</td><td>181</td></tr><tr><td>sayadav</td><td>2015</td><td>157</td></tr><tr><td>mandeepsingh</td><td>2015</td><td>157</td></tr><tr><td>djhooda</td><td>2015</td><td>151</td></tr><tr><td>gjmaxwell</td><td>2015</td><td>146</td></tr><tr><td>rsbopara</td><td>2015</td><td>145</td></tr><tr><td>admathews</td><td>2015</td><td>143</td></tr><tr><td>jpfaulkner</td><td>2015</td><td>143</td></tr><tr><td>kdkarthik</td><td>2015</td><td>141</td></tr><tr><td>klrahul</td><td>2015</td><td>141</td></tr><tr><td>nvojha</td><td>2015</td><td>137</td></tr><tr><td>rajadeja</td><td>2015</td><td>132</td></tr><tr><td>qdekock</td><td>2015</td><td>122</td></tr><tr><td>dwiese</td><td>2015</td><td>121</td></tr><tr><td>harbhajansingh</td><td>2015</td><td>116</td></tr><tr><td>pnegi</td><td>2015</td><td>115</td></tr><tr><td>cjanderson</td><td>2015</td><td>114</td></tr><tr><td>hhpandya</td><td>2015</td><td>110</td></tr><tr><td>snkhan</td><td>2015</td><td>110</td></tr><tr><td>sstiwary</td><td>2015</td><td>109</td></tr><tr><td>kvsharma</td><td>2015</td><td>104</td></tr><tr><td>ubtchand</td><td>2015</td><td>102</td></tr><tr><td>vsehwag</td><td>2015</td><td>99</td></tr><tr><td>semarsh</td><td>2015</td><td>89</td></tr><tr><td>jamorkel</td><td>2015</td><td>86</td></tr><tr><td>mvohra</td><td>2015</td><td>82</td></tr><tr><td>mekhussey</td><td>2015</td><td>77</td></tr><tr><td>strbinny</td><td>2015</td><td>73</td></tr><tr><td>aashishreddy</td><td>2015</td><td>73</td></tr><tr><td>chmorris</td><td>2015</td><td>70</td></tr><tr><td>rntendoeschate</td><td>2015</td><td>61</td></tr><tr><td>mktiwary</td><td>2015</td><td>57</td></tr><tr><td>ppchawla</td><td>2015</td><td>54</td></tr><tr><td>rashwin</td><td>2015</td><td>52</td></tr><tr><td>jsuchith</td><td>2015</td><td>48</td></tr><tr><td>ghvihari</td><td>2015</td><td>38</td></tr><tr><td>msbisla</td><td>2015</td><td>37</td></tr><tr><td>shakibalhasan</td><td>2015</td><td>36</td></tr><tr><td>rdhawan</td><td>2015</td><td>36</td></tr><tr><td>gurkeeratsingh</td><td>2015</td><td>35</td></tr><tr><td>jbotha</td><td>2015</td><td>31</td></tr><tr><td>kswilliamson</td><td>2015</td><td>31</td></tr><tr><td>mgjohnson</td><td>2015</td><td>31</td></tr><tr><td>utyadav</td><td>2015</td><td>29</td></tr><tr><td>mmsharma</td><td>2015</td><td>28</td></tr><tr><td>ajfinch</td><td>2015</td><td>23</td></tr><tr><td>nmcoulternile</td><td>2015</td><td>20</td></tr><tr><td>dwsteyn</td><td>2015</td><td>20</td></tr><tr><td>iqbalabdulla</td><td>2015</td><td>20</td></tr><tr><td>hvpatel</td><td>2015</td><td>19</td></tr><tr><td>anureetsingh</td><td>2015</td><td>18</td></tr><tr><td>bkumar</td><td>2015</td><td>17</td></tr><tr><td>pkumar</td><td>2015</td><td>17</td></tr><tr><td>saabbott</td><td>2015</td><td>15</td></tr><tr><td>aptare</td><td>2015</td><td>14</td></tr><tr><td>rrrossouw</td><td>2015</td><td>14</td></tr><tr><td>mjmcclenaghan</td><td>2015</td><td>13</td></tr><tr><td>tgsouthee</td><td>2015</td><td>13</td></tr><tr><td>djgsammy</td><td>2015</td><td>13</td></tr><tr><td>nltcperera</td><td>2015</td><td>12</td></tr><tr><td>mastarc</td><td>2015</td><td>11</td></tr><tr><td>karanveersingh</td><td>2015</td><td>11</td></tr><tr><td>anahmed</td><td>2015</td><td>10</td></tr><tr><td>sandeepsharma</td><td>2015</td><td>9</td></tr><tr><td>amishra</td><td>2015</td><td>8</td></tr><tr><td>gbhogg</td><td>2015</td><td>7</td></tr><tr><td>snthakur</td><td>2015</td><td>7</td></tr><tr><td>ankitsharma</td><td>2015</td><td>7</td></tr><tr><td>azharmahmood</td><td>2015</td><td>6</td></tr><tr><td>slmalinga</td><td>2015</td><td>6</td></tr><tr><td>vraaron</td><td>2015</td><td>6</td></tr><tr><td>imrantahir</td><td>2015</td><td>5</td></tr><tr><td>mmorkel</td><td>2015</td><td>4</td></tr><tr><td>cmgautam</td><td>2015</td><td>4</td></tr><tr><td>njmaddinson</td><td>2015</td><td>4</td></tr><tr><td>dskulkarni</td><td>2015</td><td>4</td></tr><tr><td>pvtambe</td><td>2015</td><td>3</td></tr><tr><td>snadeem</td><td>2015</td><td>2</td></tr><tr><td>parvezrasool</td><td>2015</td><td>2</td></tr><tr><td>rgmore</td><td>2015</td><td>2</td></tr><tr><td>djmuthuswami</td><td>2015</td><td>1</td></tr><tr><td>jtheron</td><td>2015</td><td>1</td></tr><tr><td>anehra</td><td>2015</td><td>1</td></tr><tr><td>yschahal</td><td>2015</td><td>1</td></tr><tr><td>sgopal</td><td>2015</td><td>1</td></tr><tr><td>bipulsharma</td><td>2015</td><td>1</td></tr><tr><td>behendricks</td><td>2015</td><td>1</td></tr><tr><td>spnarine</td><td>2015</td><td>0</td></tr><tr><td>pjcummins</td><td>2015</td><td>0</td></tr><tr><td>saravind</td><td>2015</td><td>0</td></tr><tr><td>rvinaykumar</td><td>2015</td><td>0</td></tr><tr><td>rbhatia</td><td>2015</td><td>0</td></tr><tr><td>vkohli</td><td>2016</td><td>962</td></tr><tr><td>dawarner</td><td>2016</td><td>844</td></tr><tr><td>abdevilliers</td><td>2016</td><td>682</td></tr><tr><td>ggambhir</td><td>2016</td><td>501</td></tr><tr><td>sdhawan</td><td>2016</td><td>497</td></tr><tr><td>rgsharma</td><td>2016</td><td>487</td></tr><tr><td>amrahane</td><td>2016</td><td>479</td></tr><tr><td>mvijay</td><td>2016</td><td>453</td></tr><tr><td>qdekock</td><td>2016</td><td>444</td></tr><tr><td>skraina</td><td>2016</td><td>399</td></tr><tr><td>klrahul</td><td>2016</td><td>397</td></tr><tr><td>rvuthappa</td><td>2016</td><td>394</td></tr><tr><td>ajfinch</td><td>2016</td><td>392</td></tr><tr><td>ykpathan</td><td>2016</td><td>361</td></tr><tr><td>bbmccullum</td><td>2016</td><td>354</td></tr><tr><td>kknair</td><td>2016</td><td>352</td></tr><tr><td>kdkarthik</td><td>2016</td><td>335</td></tr><tr><td>atrayudu</td><td>2016</td><td>334</td></tr><tr><td>drsmith</td><td>2016</td><td>320</td></tr><tr><td>svsamson</td><td>2016</td><td>291</td></tr><tr><td>msdhoni</td><td>2016</td><td>284</td></tr><tr><td>wpsaha</td><td>2016</td><td>270</td></tr><tr><td>spdsmith</td><td>2016</td><td>270</td></tr><tr><td>jcbuttler</td><td>2016</td><td>254</td></tr><tr><td>mkpandey</td><td>2016</td><td>248</td></tr><tr><td>khpandya</td><td>2016</td><td>237</td></tr><tr><td>yuvrajsingh</td><td>2016</td><td>236</td></tr><tr><td>chgayle</td><td>2016</td><td>227</td></tr><tr><td>kapollard</td><td>2016</td><td>208</td></tr><tr><td>fduplessis</td><td>2016</td><td>206</td></tr><tr><td>rrpant</td><td>2016</td><td>198</td></tr><tr><td>chmorris</td><td>2016</td><td>195</td></tr><tr><td>jpduminy</td><td>2016</td><td>191</td></tr><tr><td>rajadeja</td><td>2016</td><td>189</td></tr><tr><td>adrussell</td><td>2016</td><td>188</td></tr><tr><td>mchenriques</td><td>2016</td><td>182</td></tr><tr><td>sayadav</td><td>2016</td><td>180</td></tr><tr><td>gjmaxwell</td><td>2016</td><td>179</td></tr><tr><td>srwatson</td><td>2016</td><td>179</td></tr><tr><td>papatel</td><td>2016</td><td>177</td></tr><tr><td>sstiwary</td><td>2016</td><td>169</td></tr><tr><td>mvohra</td><td>2016</td><td>161</td></tr><tr><td>semarsh</td><td>2016</td><td>159</td></tr><tr><td>hmamla</td><td>2016</td><td>157</td></tr><tr><td>damiller</td><td>2016</td><td>157</td></tr><tr><td>nltcperera</td><td>2016</td><td>149</td></tr><tr><td>mpstoinis</td><td>2016</td><td>146</td></tr><tr><td>djhooda</td><td>2016</td><td>138</td></tr><tr><td>nvojha</td><td>2016</td><td>136</td></tr><tr><td>utkhawaja</td><td>2016</td><td>127</td></tr><tr><td>kswilliamson</td><td>2016</td><td>124</td></tr><tr><td>ejgmorgan</td><td>2016</td><td>123</td></tr><tr><td>sachinbaby</td><td>2016</td><td>118</td></tr><tr><td>shakibalhasan</td><td>2016</td><td>114</td></tr><tr><td>gurkeeratsingh</td><td>2016</td><td>113</td></tr><tr><td>arpatel</td><td>2016</td><td>111</td></tr><tr><td>nrana</td><td>2016</td><td>100</td></tr><tr><td>djbravo</td><td>2016</td><td>99</td></tr><tr><td>harbhajansingh</td><td>2016</td><td>92</td></tr><tr><td>swbillings</td><td>2016</td><td>88</td></tr><tr><td>gjbailey</td><td>2016</td><td>84</td></tr><tr><td>crbrathwaite</td><td>2016</td><td>83</td></tr><tr><td>jpfaulkner</td><td>2016</td><td>77</td></tr><tr><td>kppietersen</td><td>2016</td><td>73</td></tr><tr><td>snkhan</td><td>2016</td><td>66</td></tr><tr><td>bcjcutting</td><td>2016</td><td>65</td></tr><tr><td>strbinny</td><td>2016</td><td>63</td></tr><tr><td>pnegi</td><td>2016</td><td>57</td></tr><tr><td>mjguptill</td><td>2016</td><td>57</td></tr><tr><td>tmhead</td><td>2016</td><td>53</td></tr><tr><td>bipulsharma</td><td>2016</td><td>51</td></tr><tr><td>aashishreddy</td><td>2016</td><td>47</td></tr><tr><td>hhpandya</td><td>2016</td><td>44</td></tr><tr><td>bkumar</td><td>2016</td><td>43</td></tr><tr><td>ishankishan</td><td>2016</td><td>42</td></tr><tr><td>rashwin</td><td>2016</td><td>41</td></tr><tr><td>kmjadhav</td><td>2016</td><td>38</td></tr><tr><td>kvsharma</td><td>2016</td><td>36</td></tr><tr><td>iqbalabdulla</td><td>2016</td><td>36</td></tr><tr><td>rbhatia</td><td>2016</td><td>34</td></tr><tr><td>mjmcclenaghan</td><td>2016</td><td>34</td></tr><tr><td>mmsharma</td><td>2016</td><td>32</td></tr><tr><td>ssiyer</td><td>2016</td><td>30</td></tr><tr><td>tgsouthee</td><td>2016</td><td>30</td></tr><tr><td>cmunro</td><td>2016</td><td>30</td></tr><tr><td>maagarwal</td><td>2016</td><td>27</td></tr><tr><td>dskulkarni</td><td>2016</td><td>27</td></tr><tr><td>ppchawla</td><td>2016</td><td>27</td></tr><tr><td>calynn</td><td>2016</td><td>25</td></tr><tr><td>pkumar</td><td>2016</td><td>24</td></tr><tr><td>erdwivedi</td><td>2016</td><td>24</td></tr><tr><td>rsathish</td><td>2016</td><td>24</td></tr><tr><td>nsnaik</td><td>2016</td><td>23</td></tr><tr><td>joholder</td><td>2016</td><td>22</td></tr><tr><td>adnath</td><td>2016</td><td>20</td></tr><tr><td>psahu</td><td>2016</td><td>19</td></tr><tr><td>jamorkel</td><td>2016</td><td>16</td></tr><tr><td>rdhawan</td><td>2016</td><td>14</td></tr><tr><td>fbehardien</td><td>2016</td><td>14</td></tr><tr><td>kjabbott</td><td>2016</td><td>13</td></tr><tr><td>kccariappa</td><td>2016</td><td>13</td></tr><tr><td>rvinaykumar</td><td>2016</td><td>13</td></tr><tr><td>ikpathan</td><td>2016</td><td>11</td></tr><tr><td>parvezrasool</td><td>2016</td><td>10</td></tr><tr><td>nmcoulternile</td><td>2016</td><td>9</td></tr><tr><td>utyadav</td><td>2016</td><td>9</td></tr><tr><td>sandeepsharma</td><td>2016</td><td>8</td></tr><tr><td>lmpsimmons</td><td>2016</td><td>8</td></tr><tr><td>jjbumrah</td><td>2016</td><td>8</td></tr><tr><td>aptare</td><td>2016</td><td>8</td></tr><tr><td>mrmarsh</td><td>2016</td><td>7</td></tr><tr><td>pvtambe</td><td>2016</td><td>7</td></tr><tr><td>spnarine</td><td>2016</td><td>7</td></tr><tr><td>jyadav</td><td>2016</td><td>6</td></tr><tr><td>zkhan</td><td>2016</td><td>6</td></tr><tr><td>psphandscomb</td><td>2016</td><td>6</td></tr><tr><td>mgjohnson</td><td>2016</td><td>5</td></tr><tr><td>imrantahir</td><td>2016</td><td>5</td></tr><tr><td>dwiese</td><td>2016</td><td>5</td></tr><tr><td>amishra</td><td>2016</td><td>4</td></tr><tr><td>bbsran</td><td>2016</td><td>3</td></tr><tr><td>cjjordan</td><td>2016</td><td>3</td></tr><tr><td>ankitsharma</td><td>2016</td><td>3</td></tr><tr><td>mohammedshami</td><td>2016</td><td>2</td></tr><tr><td>sgopal</td><td>2016</td><td>2</td></tr><tr><td>snadeem</td><td>2016</td><td>1</td></tr><tr><td>dwsteyn</td><td>2016</td><td>1</td></tr><tr><td>sbjakati</td><td>2016</td><td>1</td></tr><tr><td>mmorkel</td><td>2016</td><td>1</td></tr><tr><td>anehra</td><td>2016</td><td>1</td></tr><tr><td>kwrichardson</td><td>2016</td><td>1</td></tr><tr><td>swapnilsingh</td><td>2016</td><td>0</td></tr><tr><td>skaushik</td><td>2016</td><td>0</td></tr><tr><td>ubtchand</td><td>2016</td><td>0</td></tr><tr><td>mashwin</td><td>2016</td><td>0</td></tr><tr><td>azampa</td><td>2016</td><td>0</td></tr><tr><td>dawarner</td><td>2017</td><td>634</td></tr><tr><td>ggambhir</td><td>2017</td><td>498</td></tr><tr><td>sdhawan</td><td>2017</td><td>478</td></tr><tr><td>spdsmith</td><td>2017</td><td>472</td></tr><tr><td>skraina</td><td>2017</td><td>438</td></tr><tr><td>hmamla</td><td>2017</td><td>418</td></tr><tr><td>papatel</td><td>2017</td><td>395</td></tr><tr><td>kapollard</td><td>2017</td><td>395</td></tr><tr><td>mkpandey</td><td>2017</td><td>391</td></tr><tr><td>ratripathi</td><td>2017</td><td>391</td></tr><tr><td>rvuthappa</td><td>2017</td><td>388</td></tr><tr><td>svsamson</td><td>2017</td><td>386</td></tr><tr><td>amrahane</td><td>2017</td><td>382</td></tr><tr><td>rrpant</td><td>2017</td><td>365</td></tr><tr><td>kdkarthik</td><td>2017</td><td>357</td></tr><tr><td>ssiyer</td><td>2017</td><td>337</td></tr><tr><td>rgsharma</td><td>2017</td><td>333</td></tr><tr><td>nrana</td><td>2017</td><td>333</td></tr><tr><td>bbmccullum</td><td>2017</td><td>320</td></tr><tr><td>mktiwary</td><td>2017</td><td>320</td></tr><tr><td>bastokes</td><td>2017</td><td>316</td></tr><tr><td>vkohli</td><td>2017</td><td>308</td></tr><tr><td>gjmaxwell</td><td>2017</td><td>306</td></tr><tr><td>ajfinch</td><td>2017</td><td>300</td></tr><tr><td>calynn</td><td>2017</td><td>293</td></tr><tr><td>msdhoni</td><td>2017</td><td>290</td></tr><tr><td>kknair</td><td>2017</td><td>281</td></tr><tr><td>ishankishan</td><td>2017</td><td>277</td></tr><tr><td>mchenriques</td><td>2017</td><td>277</td></tr><tr><td>jcbuttler</td><td>2017</td><td>273</td></tr><tr><td>kmjadhav</td><td>2017</td><td>265</td></tr><tr><td>semarsh</td><td>2017</td><td>258</td></tr><tr><td>kswilliamson</td><td>2017</td><td>256</td></tr><tr><td>hhpandya</td><td>2017</td><td>250</td></tr><tr><td>yuvrajsingh</td><td>2017</td><td>248</td></tr><tr><td>khpandya</td><td>2017</td><td>243</td></tr><tr><td>drsmith</td><td>2017</td><td>239</td></tr><tr><td>wpsaha</td><td>2017</td><td>230</td></tr><tr><td>mvohra</td><td>2017</td><td>229</td></tr><tr><td>arpatel</td><td>2017</td><td>227</td></tr><tr><td>spnarine</td><td>2017</td><td>224</td></tr><tr><td>abdevilliers</td><td>2017</td><td>216</td></tr><tr><td>chgayle</td><td>2017</td><td>200</td></tr><tr><td>mandeepsingh</td><td>2017</td><td>188</td></tr><tr><td>rajadeja</td><td>2017</td><td>158</td></tr><tr><td>chmorris</td><td>2017</td><td>154</td></tr><tr><td>tmhead</td><td>2017</td><td>151</td></tr><tr><td>pnegi</td><td>2017</td><td>144</td></tr><tr><td>ykpathan</td><td>2017</td><td>143</td></tr><tr><td>cjanderson</td><td>2017</td><td>142</td></tr><tr><td>swbillings</td><td>2017</td><td>138</td></tr><tr><td>lmpsimmons</td><td>2017</td><td>137</td></tr><tr><td>cdegrandhomme</td><td>2017</td><td>126</td></tr><tr><td>mjguptill</td><td>2017</td><td>126</td></tr><tr><td>sayadav</td><td>2017</td><td>105</td></tr><tr><td>vshankar</td><td>2017</td><td>101</td></tr><tr><td>atrayudu</td><td>2017</td><td>91</td></tr><tr><td>nvojha</td><td>2017</td><td>79</td></tr><tr><td>dtchristian</td><td>2017</td><td>79</td></tr><tr><td>djhooda</td><td>2017</td><td>78</td></tr><tr><td>strbinny</td><td>2017</td><td>78</td></tr><tr><td>pjcummins</td><td>2017</td><td>77</td></tr><tr><td>damiller</td><td>2017</td><td>77</td></tr><tr><td>srwatson</td><td>2017</td><td>71</td></tr><tr><td>ejgmorgan</td><td>2017</td><td>65</td></tr><tr><td>jjroy</td><td>2017</td><td>59</td></tr><tr><td>krabada</td><td>2017</td><td>55</td></tr><tr><td>ajtye</td><td>2017</td><td>53</td></tr><tr><td>jpfaulkner</td><td>2017</td><td>53</td></tr><tr><td>sstiwary</td><td>2017</td><td>52</td></tr><tr><td>bcjcutting</td><td>2017</td><td>51</td></tr><tr><td>mmsharma</td><td>2017</td><td>51</td></tr><tr><td>amishra</td><td>2017</td><td>49</td></tr><tr><td>kvsharma</td><td>2017</td><td>49</td></tr><tr><td>crwoakes</td><td>2017</td><td>46</td></tr><tr><td>spjackson</td><td>2017</td><td>38</td></tr><tr><td>mohammedshami</td><td>2017</td><td>36</td></tr><tr><td>irjaggi</td><td>2017</td><td>33</td></tr><tr><td>saravind</td><td>2017</td><td>32</td></tr><tr><td>admathews</td><td>2017</td><td>32</td></tr><tr><td>bipulsharma</td><td>2017</td><td>31</td></tr><tr><td>mnsamuels</td><td>2017</td><td>29</td></tr><tr><td>basilthampi</td><td>2017</td><td>28</td></tr><tr><td>maagarwal</td><td>2017</td><td>26</td></tr><tr><td>achoudhary</td><td>2017</td><td>25</td></tr><tr><td>ankitsharma</td><td>2017</td><td>25</td></tr><tr><td>mgjohnson</td><td>2017</td><td>20</td></tr><tr><td>kuldeepyadav</td><td>2017</td><td>20</td></tr><tr><td>vishnuvinod</td><td>2017</td><td>19</td></tr><tr><td>rtewatia</td><td>2017</td><td>19</td></tr><tr><td>aptare</td><td>2017</td><td>18</td></tr><tr><td>mpstoinis</td><td>2017</td><td>17</td></tr><tr><td>harbhajansingh</td><td>2017</td><td>16</td></tr><tr><td>mjmcclenaghan</td><td>2017</td><td>16</td></tr><tr><td>jjbumrah</td><td>2017</td><td>16</td></tr><tr><td>rbhatia</td><td>2017</td><td>16</td></tr><tr><td>sachinbaby</td><td>2017</td><td>15</td></tr><tr><td>anureetsingh</td><td>2017</td><td>15</td></tr><tr><td>nmcoulternile</td><td>2017</td><td>14</td></tr><tr><td>dlchahar</td><td>2017</td><td>14</td></tr><tr><td>yschahal</td><td>2017</td><td>13</td></tr><tr><td>sbadree</td><td>2017</td><td>13</td></tr><tr><td>crbrathwaite</td><td>2017</td><td>12</td></tr><tr><td>swapnilsingh</td><td>2017</td><td>12</td></tr><tr><td>arbawne</td><td>2017</td><td>12</td></tr><tr><td>rashidkhan</td><td>2017</td><td>11</td></tr><tr><td>utyadav</td><td>2017</td><td>10</td></tr><tr><td>washingtonsundar</td><td>2017</td><td>9</td></tr><tr><td>tsmills</td><td>2017</td><td>8</td></tr><tr><td>fduplessis</td><td>2017</td><td>8</td></tr><tr><td>isharma</td><td>2017</td><td>8</td></tr><tr><td>pkumar</td><td>2017</td><td>8</td></tr><tr><td>tgsouthee</td><td>2017</td><td>7</td></tr><tr><td>slmalinga</td><td>2017</td><td>7</td></tr><tr><td>ankitsoni</td><td>2017</td><td>7</td></tr><tr><td>abdinda</td><td>2017</td><td>7</td></tr><tr><td>afmilne</td><td>2017</td><td>7</td></tr><tr><td>dmbravo</td><td>2017</td><td>6</td></tr><tr><td>sandeepsharma</td><td>2017</td><td>6</td></tr><tr><td>taboult</td><td>2017</td><td>5</td></tr><tr><td>iqbalabdulla</td><td>2017</td><td>5</td></tr><tr><td>azampa</td><td>2017</td><td>5</td></tr><tr><td>zkhan</td><td>2017</td><td>4</td></tr><tr><td>asrajpoot</td><td>2017</td><td>4</td></tr><tr><td>bkumar</td><td>2017</td><td>4</td></tr><tr><td>vraaron</td><td>2017</td><td>4</td></tr><tr><td>rdchahar</td><td>2017</td><td>3</td></tr><tr><td>snadeem</td><td>2017</td><td>2</td></tr><tr><td>mohammadnabi</td><td>2017</td><td>2</td></tr><tr><td>ppchawla</td><td>2017</td><td>2</td></tr><tr><td>jdunadkat</td><td>2017</td><td>2</td></tr><tr><td>kccariappa</td><td>2017</td><td>2</td></tr><tr><td>pjsangwan</td><td>2017</td><td>2</td></tr><tr><td>ikpathan</td><td>2017</td><td>2</td></tr><tr><td>shakibalhasan</td><td>2017</td><td>1</td></tr><tr><td>dskulkarni</td><td>2017</td><td>1</td></tr><tr><td>lhferguson</td><td>2017</td><td>1</td></tr><tr><td>cjjordan</td><td>2017</td><td>0</td></tr><tr><td>skaul</td><td>2017</td><td>0</td></tr><tr><td>snthakur</td><td>2017</td><td>0</td></tr><tr><td>imrantahir</td><td>2017</td><td>0</td></tr><tr><td>adnath</td><td>2017</td><td>0</td></tr><tr><td>mmpatel</td><td>2017</td><td>0</td></tr></tbody></table></div>"
      ]
     },
     "metadata": {
      "application/vnd.databricks.v1+output": {
       "addedWidgets": {},
       "aggData": [],
       "aggError": "",
       "aggOverflow": false,
       "aggSchema": [],
       "aggSeriesLimitReached": false,
       "aggType": "",
       "arguments": {},
       "columnCustomDisplayInfos": {},
       "data": [
        [
         "semarsh",
         2008,
         614
        ],
        [
         "ggambhir",
         2008,
         532
        ],
        [
         "stjayasuriya",
         2008,
         508
        ],
        [
         "srwatson",
         2008,
         463
        ],
        [
         "gcsmith",
         2008,
         437
        ],
        [
         "acgilchrist",
         2008,
         431
        ],
        [
         "ykpathan",
         2008,
         430
        ],
        [
         "skraina",
         2008,
         420
        ],
        [
         "msdhoni",
         2008,
         414
        ],
        [
         "vsehwag",
         2008,
         399
        ],
        [
         "rgsharma",
         2008,
         399
        ],
        [
         "rdravid",
         2008,
         370
        ],
        [
         "scganguly",
         2008,
         349
        ],
        [
         "sdhawan",
         2008,
         340
        ],
        [
         "kcsangakkara",
         2008,
         319
        ],
        [
         "djhussey",
         2008,
         318
        ],
        [
         "rvuthappa",
         2008,
         316
        ],
        [
         "saasnodkar",
         2008,
         311
        ],
        [
         "yuvrajsingh",
         2008,
         299
        ],
        [
         "papatel",
         2008,
         297
        ],
        [
         "yvenugopalrao",
         2008,
         283
        ],
        [
         "jamorkel",
         2008,
         235
        ],
        [
         "mvboucher",
         2008,
         225
        ],
        [
         "jrhopes",
         2008,
         221
        ],
        [
         "amnayar",
         2008,
         205
        ],
        [
         "jhkallis",
         2008,
         199
        ],
        [
         "salmanbutt",
         2008,
         192
        ],
        [
         "sbadrinath",
         2008,
         192
        ],
        [
         "spfleming",
         2008,
         192
        ],
        [
         "srtendulkar",
         2008,
         188
        ],
        [
         "bbmccullum",
         2008,
         188
        ],
        [
         "dpmdjayawardene",
         2008,
         179
        ],
        [
         "mlhayden",
         2008,
         179
        ],
        [
         "mkaif",
         2008,
         176
        ],
        [
         "djbravo",
         2008,
         175
        ],
        [
         "mekhussey",
         2008,
         168
        ],
        [
         "hhgibbs",
         2008,
         167
        ],
        [
         "vkohli",
         2008,
         165
        ],
        [
         "asymonds",
         2008,
         161
        ],
        [
         "wpsaha",
         2008,
         159
        ],
        [
         "lrshukla",
         2008,
         157
        ],
        [
         "vvslaxman",
         2008,
         155
        ],
        [
         "lapomersbach",
         2008,
         152
        ],
        [
         "lrpltaylor",
         2008,
         149
        ],
        [
         "smpollock",
         2008,
         147
        ],
        [
         "kdkarthik",
         2008,
         145
        ],
        [
         "svidyut",
         2008,
         145
        ],
        [
         "rajadeja",
         2008,
         134
        ],
        [
         "ikpathan",
         2008,
         130
        ],
        [
         "mfmaharoof",
         2008,
         125
        ],
        [
         "kamranakmal",
         2008,
         124
        ],
        [
         "misbahulhaq",
         2008,
         117
        ],
        [
         "wjaffer",
         2008,
         115
        ],
        [
         "sbstyris",
         2008,
         112
        ],
        [
         "pkumar",
         2008,
         112
        ],
        [
         "clwhite",
         2008,
         109
        ],
        [
         "dbraviteja",
         2008,
         108
        ],
        [
         "mktiwary",
         2008,
         104
        ],
        [
         "dbdas",
         2008,
         103
        ],
        [
         "nkpatel",
         2008,
         103
        ],
        [
         "tmdilshan",
         2008,
         102
        ],
        [
         "abdevilliers",
         2008,
         95
        ],
        [
         "smkatich",
         2008,
         95
        ],
        [
         "ppchawla",
         2008,
         89
        ],
        [
         "spgoswami",
         2008,
         82
        ],
        [
         "shahidafridi",
         2008,
         81
        ],
        [
         "kgoel",
         2008,
         76
        ],
        [
         "rrsarwan",
         2008,
         73
        ],
        [
         "yvtakawale",
         2008,
         69
        ],
        [
         "skwarne",
         2008,
         69
        ],
        [
         "mohammadhafeez",
         2008,
         64
        ],
        [
         "abagarkar",
         2008,
         54
        ],
        [
         "shoaibmalik",
         2008,
         51
        ],
        [
         "utyadav",
         2008,
         49
        ],
        [
         "sbbangar",
         2008,
         47
        ],
        [
         "bakhil",
         2008,
         46
        ],
        [
         "drsmith",
         2008,
         45
        ],
        [
         "achopra",
         2008,
         42
        ],
        [
         "lpcsilva",
         2008,
         40
        ],
        [
         "djthornely",
         2008,
         39
        ],
        [
         "umargul",
         2008,
         39
        ],
        [
         "rtponting",
         2008,
         39
        ],
        [
         "amishra",
         2008,
         37
        ],
        [
         "msgony",
         2008,
         35
        ],
        [
         "sohailtanvir",
         2008,
         35
        ],
        [
         "rbhatia",
         2008,
         34
        ],
        [
         "lronchi",
         2008,
         34
        ],
        [
         "mrawat",
         2008,
         34
        ],
        [
         "dsalunkhe",
         2008,
         33
        ],
        [
         "zkhan",
         2008,
         33
        ],
        [
         "prshah",
         2008,
         32
        ],
        [
         "ttaibu",
         2008,
         31
        ],
        [
         "harbhajansingh",
         2008,
         30
        ],
        [
         "mkartik",
         2008,
         30
        ],
        [
         "rrpowar",
         2008,
         28
        ],
        [
         "rpsingh",
         2008,
         27
        ],
        [
         "sstiwary",
         2008,
         26
        ],
        [
         "wamota",
         2008,
         26
        ],
        [
         "rvinaykumar",
         2008,
         25
        ],
        [
         "schanderpaul",
         2008,
         25
        ],
        [
         "makhote",
         2008,
         24
        ],
        [
         "jarunkumar",
         2008,
         23
        ],
        [
         "bchipli",
         2008,
         20
        ],
        [
         "jdporam",
         2008,
         18
        ],
        [
         "dslehmann",
         2008,
         18
        ],
        [
         "blee",
         2008,
         17
        ],
        [
         "jogindersharma",
         2008,
         16
        ],
        [
         "ckkapugedera",
         2008,
         16
        ],
        [
         "wpujcvaas",
         2008,
         15
        ],
        [
         "vymahesh",
         2008,
         15
        ],
        [
         "dtpatil",
         2008,
         13
        ],
        [
         "akumble",
         2008,
         13
        ],
        [
         "sdchitnis",
         2008,
         12
        ],
        [
         "bjhodge",
         2008,
         12
        ],
        [
         "dntzoysa",
         2008,
         11
        ],
        [
         "isharma",
         2008,
         11
        ],
        [
         "mntini",
         2008,
         11
        ],
        [
         "tkohli",
         2008,
         10
        ],
        [
         "admascarenhas",
         2008,
         9
        ],
        [
         "aanoffke",
         2008,
         9
        ],
        [
         "rrraje",
         2008,
         8
        ],
        [
         "tmsrivastava",
         2008,
         8
        ],
        [
         "sbjoshi",
         2008,
         6
        ],
        [
         "pankajsingh",
         2008,
         5
        ],
        [
         "sktrivedi",
         2008,
         5
        ],
        [
         "amrahane",
         2008,
         4
        ],
        [
         "gdmcgrath",
         2008,
         4
        ],
        [
         "ssohal",
         2008,
         4
        ],
        [
         "vrvsingh",
         2008,
         4
        ],
        [
         "dkalyankrishna",
         2008,
         3
        ],
        [
         "mohammadasif",
         2008,
         3
        ],
        [
         "mkpandey",
         2008,
         3
        ],
        [
         "youniskhan",
         2008,
         3
        ],
        [
         "ppojha",
         2008,
         2
        ],
        [
         "anehra",
         2008,
         2
        ],
        [
         "dskulkarni",
         2008,
         2
        ],
        [
         "hdas",
         2008,
         2
        ],
        [
         "pjsangwan",
         2008,
         2
        ],
        [
         "vsyeligati",
         2008,
         2
        ],
        [
         "crdfernando",
         2008,
         2
        ],
        [
         "dwsteyn",
         2008,
         2
        ],
        [
         "abdinda",
         2008,
         2
        ],
        [
         "shoaibakhtar",
         2008,
         2
        ],
        [
         "dpvijaykumar",
         2008,
         1
        ],
        [
         "pmsarveshkumar",
         2008,
         1
        ],
        [
         "sanirudha",
         2008,
         1
        ],
        [
         "iqbalabdulla",
         2008,
         1
        ],
        [
         "ukaul",
         2008,
         0
        ],
        [
         "abdurrazzak",
         2008,
         0
        ],
        [
         "lbalaji",
         2008,
         0
        ],
        [
         "amukund",
         2008,
         0
        ],
        [
         "mmuralitharan",
         2008,
         0
        ],
        [
         "ssreesanth",
         2008,
         0
        ],
        [
         "mmpatel",
         2008,
         0
        ],
        [
         "mlhayden",
         2009,
         571
        ],
        [
         "acgilchrist",
         2009,
         486
        ],
        [
         "abdevilliers",
         2009,
         459
        ],
        [
         "skraina",
         2009,
         433
        ],
        [
         "tmdilshan",
         2009,
         414
        ],
        [
         "jpduminy",
         2009,
         372
        ],
        [
         "hhgibbs",
         2009,
         371
        ],
        [
         "bjhodge",
         2009,
         365
        ],
        [
         "srtendulkar",
         2009,
         363
        ],
        [
         "jhkallis",
         2009,
         360
        ],
        [
         "rgsharma",
         2009,
         354
        ],
        [
         "yuvrajsingh",
         2009,
         340
        ],
        [
         "msdhoni",
         2009,
         332
        ],
        [
         "kcsangakkara",
         2009,
         332
        ],
        [
         "rajadeja",
         2009,
         293
        ],
        [
         "kdkarthik",
         2009,
         288
        ],
        [
         "ggambhir",
         2009,
         284
        ],
        [
         "bbmccullum",
         2009,
         278
        ],
        [
         "lrpltaylor",
         2009,
         274
        ],
        [
         "rdravid",
         2009,
         271
        ],
        [
         "ykpathan",
         2009,
         261
        ],
        [
         "asymonds",
         2009,
         248
        ],
        [
         "vkohli",
         2009,
         246
        ],
        [
         "tlsuman",
         2009,
         237
        ],
        [
         "stjayasuriya",
         2009,
         219
        ],
        [
         "dpmdjayawardene",
         2009,
         219
        ],
        [
         "djbravo",
         2009,
         217
        ],
        [
         "drsmith",
         2009,
         215
        ],
        [
         "gcsmith",
         2009,
         208
        ],
        [
         "ikpathan",
         2009,
         196
        ],
        [
         "vsehwag",
         2009,
         195
        ],
        [
         "amnayar",
         2009,
         191
        ],
        [
         "chgayle",
         2009,
         184
        ],
        [
         "scganguly",
         2009,
         183
        ],
        [
         "sbadrinath",
         2009,
         177
        ],
        [
         "rvuthappa",
         2009,
         175
        ],
        [
         "nvojha",
         2009,
         168
        ],
        [
         "mkpandey",
         2009,
         167
        ],
        [
         "mnvanwyk",
         2009,
         163
        ],
        [
         "dawarner",
         2009,
         163
        ],
        [
         "mvboucher",
         2009,
         143
        ],
        [
         "amrahane",
         2009,
         143
        ],
        [
         "papatel",
         2009,
         142
        ],
        [
         "smkatich",
         2009,
         141
        ],
        [
         "rsbopara",
         2009,
         138
        ],
        [
         "yvenugopalrao",
         2009,
         124
        ],
        [
         "kgoel",
         2009,
         124
        ],
        [
         "revandermerwe",
         2009,
         122
        ],
        [
         "ssohal",
         2009,
         115
        ],
        [
         "skwarne",
         2009,
         108
        ],
        [
         "rjquiney",
         2009,
         103
        ],
        [
         "saasnodkar",
         2009,
         98
        ],
        [
         "jamorkel",
         2009,
         97
        ],
        [
         "djhussey",
         2009,
         93
        ],
        [
         "kppietersen",
         2009,
         92
        ],
        [
         "jdporam",
         2009,
         88
        ],
        [
         "harbhajansingh",
         2009,
         84
        ],
        [
         "lrshukla",
         2009,
         83
        ],
        [
         "lacarseldine",
         2009,
         80
        ],
        [
         "asraut",
         2009,
         78
        ],
        [
         "mmanhas",
         2009,
         75
        ],
        [
         "wpsaha",
         2009,
         72
        ],
        [
         "aabilakhia",
         2009,
         67
        ],
        [
         "abagarkar",
         2009,
         66
        ],
        [
         "dbraviteja",
         2009,
         65
        ],
        [
         "pkumar",
         2009,
         65
        ],
        [
         "aflintoff",
         2009,
         62
        ],
        [
         "mvijay",
         2009,
         60
        ],
        [
         "jdryder",
         2009,
         56
        ],
        [
         "spgoswami",
         2009,
         53
        ],
        [
         "prshah",
         2009,
         53
        ],
        [
         "rvinaykumar",
         2009,
         47
        ],
        [
         "yashpalsingh",
         2009,
         47
        ],
        [
         "jbotha",
         2009,
         46
        ],
        [
         "gjbailey",
         2009,
         45
        ],
        [
         "sdhawan",
         2009,
         40
        ],
        [
         "lapomersbach",
         2009,
         40
        ],
        [
         "admascarenhas",
         2009,
         39
        ],
        [
         "mchenriques",
         2009,
         38
        ],
        [
         "dlvettori",
         2009,
         34
        ],
        [
         "mmpatel",
         2009,
         33
        ],
        [
         "ppchawla",
         2009,
         31
        ],
        [
         "wpujcvaas",
         2009,
         30
        ],
        [
         "wamota",
         2009,
         30
        ],
        [
         "blee",
         2009,
         28
        ],
        [
         "amishra",
         2009,
         26
        ],
        [
         "rrpowar",
         2009,
         23
        ],
        [
         "rjharris",
         2009,
         21
        ],
        [
         "mkartik",
         2009,
         21
        ],
        [
         "mfmaharoof",
         2009,
         21
        ],
        [
         "sbjakati",
         2009,
         20
        ],
        [
         "jogindersharma",
         2009,
         20
        ],
        [
         "ynagar",
         2009,
         20
        ],
        [
         "vvslaxman",
         2009,
         19
        ],
        [
         "rbishnoi",
         2009,
         19
        ],
        [
         "yvtakawale",
         2009,
         18
        ],
        [
         "nkpatel",
         2009,
         18
        ],
        [
         "bakhil",
         2009,
         17
        ],
        [
         "admathews",
         2009,
         16
        ],
        [
         "mrawat",
         2009,
         16
        ],
        [
         "akumble",
         2009,
         16
        ],
        [
         "isharma",
         2009,
         16
        ],
        [
         "wjaffer",
         2009,
         15
        ],
        [
         "grnapier",
         2009,
         15
        ],
        [
         "sbstyris",
         2009,
         14
        ],
        [
         "sstiwary",
         2009,
         13
        ],
        [
         "msgony",
         2009,
         13
        ],
        [
         "rrraje",
         2009,
         12
        ],
        [
         "achopra",
         2009,
         11
        ],
        [
         "thenderson",
         2009,
         11
        ],
        [
         "ddupreez",
         2009,
         10
        ],
        [
         "dskulkarni",
         2009,
         9
        ],
        [
         "sktrivedi",
         2009,
         9
        ],
        [
         "mktiwary",
         2009,
         9
        ],
        [
         "rpsingh",
         2009,
         8
        ],
        [
         "rashwin",
         2009,
         8
        ],
        [
         "zkhan",
         2009,
         8
        ],
        [
         "mmuralitharan",
         2009,
         8
        ],
        [
         "rbhatia",
         2009,
         8
        ],
        [
         "mmorkel",
         2009,
         8
        ],
        [
         "smharwood",
         2009,
         8
        ],
        [
         "anghosh",
         2009,
         7
        ],
        [
         "ssshaikh",
         2009,
         6
        ],
        [
         "pcvalthaty",
         2009,
         6
        ],
        [
         "pjsangwan",
         2009,
         6
        ],
        [
         "sdchitnis",
         2009,
         6
        ],
        [
         "ssreesanth",
         2009,
         5
        ],
        [
         "fhedwards",
         2009,
         4
        ],
        [
         "lbalaji",
         2009,
         4
        ],
        [
         "kamrankhan",
         2009,
         3
        ],
        [
         "abmcdonald",
         2009,
         3
        ],
        [
         "mohammadashraful",
         2009,
         2
        ],
        [
         "abdinda",
         2009,
         2
        ],
        [
         "tthushara",
         2009,
         2
        ],
        [
         "mashrafemortaza",
         2009,
         2
        ],
        [
         "sbbangar",
         2009,
         2
        ],
        [
         "shoaibahmed",
         2009,
         1
        ],
        [
         "ppojha",
         2009,
         1
        ],
        [
         "kvsharma",
         2009,
         1
        ],
        [
         "pankajsingh",
         2009,
         1
        ],
        [
         "anehra",
         2009,
         1
        ],
        [
         "tkohli",
         2009,
         1
        ],
        [
         "asingh",
         2009,
         1
        ],
        [
         "slmalinga",
         2009,
         0
        ],
        [
         "dwsteyn",
         2009,
         0
        ],
        [
         "lronchi",
         2009,
         0
        ],
        [
         "cnanda",
         2009,
         0
        ],
        [
         "kpappanna",
         2009,
         0
        ],
        [
         "tmsrivastava",
         2009,
         0
        ],
        [
         "bawmendis",
         2009,
         0
        ],
        [
         "srtendulkar",
         2010,
         615
        ],
        [
         "jhkallis",
         2010,
         566
        ],
        [
         "skraina",
         2010,
         520
        ],
        [
         "scganguly",
         2010,
         493
        ],
        [
         "mvijay",
         2010,
         458
        ],
        [
         "dpmdjayawardene",
         2010,
         443
        ],
        [
         "asymonds",
         2010,
         429
        ],
        [
         "sstiwary",
         2010,
         417
        ],
        [
         "rgsharma",
         2010,
         403
        ],
        [
         "nvojha",
         2010,
         376
        ],
        [
         "rvuthappa",
         2010,
         374
        ],
        [
         "kcsangakkara",
         2010,
         357
        ],
        [
         "sbadrinath",
         2010,
         355
        ],
        [
         "atrayudu",
         2010,
         354
        ],
        [
         "vsehwag",
         2010,
         352
        ],
        [
         "mlhayden",
         2010,
         346
        ],
        [
         "ykpathan",
         2010,
         332
        ],
        [
         "tlsuman",
         2010,
         307
        ],
        [
         "vkohli",
         2010,
         306
        ],
        [
         "chgayle",
         2010,
         290
        ],
        [
         "msdhoni",
         2010,
         287
        ],
        [
         "acgilchrist",
         2010,
         285
        ],
        [
         "mjlumb",
         2010,
         278
        ],
        [
         "kdkarthik",
         2010,
         278
        ],
        [
         "ggambhir",
         2010,
         277
        ],
        [
         "ikpathan",
         2010,
         276
        ],
        [
         "dawarner",
         2010,
         276
        ],
        [
         "kapollard",
         2010,
         273
        ],
        [
         "hhgibbs",
         2010,
         267
        ],
        [
         "yuvrajsingh",
         2010,
         258
        ],
        [
         "rdravid",
         2010,
         256
        ],
        [
         "mkpandey",
         2010,
         248
        ],
        [
         "rsbopara",
         2010,
         248
        ],
        [
         "kppietersen",
         2010,
         236
        ],
        [
         "mktiwary",
         2010,
         236
        ],
        [
         "admathews",
         2010,
         232
        ],
        [
         "msbisla",
         2010,
         214
        ],
        [
         "pdcollingwood",
         2010,
         203
        ],
        [
         "jamorkel",
         2010,
         198
        ],
        [
         "sdhawan",
         2010,
         187
        ],
        [
         "aajhunjhunwala",
         2010,
         183
        ],
        [
         "srwatson",
         2010,
         181
        ],
        [
         "acvoges",
         2010,
         181
        ],
        [
         "fyfazal",
         2010,
         164
        ],
        [
         "mdmishra",
         2010,
         164
        ],
        [
         "mmanhas",
         2010,
         157
        ],
        [
         "jpduminy",
         2010,
         157
        ],
        [
         "semarsh",
         2010,
         147
        ],
        [
         "capujara",
         2010,
         122
        ],
        [
         "oashah",
         2010,
         115
        ],
        [
         "bbmccullum",
         2010,
         114
        ],
        [
         "rsathish",
         2010,
         112
        ],
        [
         "abdevilliers",
         2010,
         111
        ],
        [
         "pdogra",
         2010,
         107
        ],
        [
         "bjhodge",
         2010,
         99
        ],
        [
         "harbhajansingh",
         2010,
         97
        ],
        [
         "djhussey",
         2010,
         94
        ],
        [
         "lrpltaylor",
         2010,
         88
        ],
        [
         "kmjadhav",
         2010,
         76
        ],
        [
         "papatel",
         2010,
         72
        ],
        [
         "wpsaha",
         2010,
         67
        ],
        [
         "rmclaren",
         2010,
         66
        ],
        [
         "abmcdonald",
         2010,
         65
        ],
        [
         "vvslaxman",
         2010,
         64
        ],
        [
         "anirudhsingh",
         2010,
         63
        ],
        [
         "ppchawla",
         2010,
         62
        ],
        [
         "djbravo",
         2010,
         61
        ],
        [
         "amnayar",
         2010,
         58
        ],
        [
         "asraut",
         2010,
         56
        ],
        [
         "aptare",
         2010,
         50
        ],
        [
         "clwhite",
         2010,
         48
        ],
        [
         "rjharris",
         2010,
         45
        ],
        [
         "tmdilshan",
         2010,
         44
        ],
        [
         "gcsmith",
         2010,
         44
        ],
        [
         "abbarath",
         2010,
         42
        ],
        [
         "abagarkar",
         2010,
         39
        ],
        [
         "amishra",
         2010,
         38
        ],
        [
         "mekhussey",
         2010,
         37
        ],
        [
         "lrshukla",
         2010,
         36
        ],
        [
         "ejgmorgan",
         2010,
         35
        ],
        [
         "bsumanth",
         2010,
         35
        ],
        [
         "apdole",
         2010,
         34
        ],
        [
         "yvenugopalrao",
         2010,
         34
        ],
        [
         "stjayasuriya",
         2010,
         33
        ],
        [
         "dlvettori",
         2010,
         33
        ],
        [
         "mfmaharoof",
         2010,
         31
        ],
        [
         "sanirudha",
         2010,
         30
        ],
        [
         "rashwin",
         2010,
         30
        ],
        [
         "wpujcvaas",
         2010,
         30
        ],
        [
         "rsharma",
         2010,
         29
        ],
        [
         "mkaif",
         2010,
         28
        ],
        [
         "mrmarsh",
         2010,
         28
        ],
        [
         "rvinaykumar",
         2010,
         27
        ],
        [
         "ssriram",
         2010,
         27
        ],
        [
         "ssreesanth",
         2010,
         27
        ],
        [
         "jmkemp",
         2010,
         26
        ],
        [
         "rbhatia",
         2010,
         24
        ],
        [
         "zkhan",
         2010,
         24
        ],
        [
         "mkartik",
         2010,
         22
        ],
        [
         "anehra",
         2010,
         22
        ],
        [
         "drsmith",
         2010,
         22
        ],
        [
         "ajfinch",
         2010,
         21
        ],
        [
         "sktrivedi",
         2010,
         20
        ],
        [
         "drmartyn",
         2010,
         19
        ],
        [
         "debollinger",
         2010,
         18
        ],
        [
         "lbalaji",
         2010,
         18
        ],
        [
         "kgoel",
         2010,
         18
        ],
        [
         "gjbailey",
         2010,
         18
        ],
        [
         "snarwal",
         2010,
         14
        ],
        [
         "cmadan",
         2010,
         14
        ],
        [
         "mvboucher",
         2010,
         13
        ],
        [
         "dwsteyn",
         2010,
         13
        ],
        [
         "swtait",
         2010,
         12
        ],
        [
         "admascarenhas",
         2010,
         12
        ],
        [
         "blee",
         2010,
         11
        ],
        [
         "mchenriques",
         2010,
         11
        ],
        [
         "tthushara",
         2010,
         10
        ],
        [
         "skwarne",
         2010,
         10
        ],
        [
         "pjsangwan",
         2010,
         10
        ],
        [
         "kajroach",
         2010,
         10
        ],
        [
         "bipulsharma",
         2010,
         9
        ],
        [
         "mmorkel",
         2010,
         9
        ],
        [
         "rpsingh",
         2010,
         9
        ],
        [
         "spgoswami",
         2010,
         8
        ],
        [
         "strbinny",
         2010,
         8
        ],
        [
         "jaskaransingh",
         2010,
         8
        ],
        [
         "isharma",
         2010,
         6
        ],
        [
         "akumble",
         2010,
         6
        ],
        [
         "vsmalik",
         2010,
         6
        ],
        [
         "amithun",
         2010,
         5
        ],
        [
         "rrpowar",
         2010,
         5
        ],
        [
         "saasnodkar",
         2010,
         5
        ],
        [
         "pkumar",
         2010,
         4
        ],
        [
         "mandeepsingh",
         2010,
         4
        ],
        [
         "mmpatel",
         2010,
         4
        ],
        [
         "rssodhi",
         2010,
         4
        ],
        [
         "auniyal",
         2010,
         4
        ],
        [
         "dpnannes",
         2010,
         4
        ],
        [
         "anahmed",
         2010,
         4
        ],
        [
         "kbarunkarthik",
         2010,
         3
        ],
        [
         "styagi",
         2010,
         3
        ],
        [
         "utyadav",
         2010,
         3
        ],
        [
         "ppojha",
         2010,
         3
        ],
        [
         "kpappanna",
         2010,
         2
        ],
        [
         "rsgavaskar",
         2010,
         2
        ],
        [
         "msgony",
         2010,
         2
        ],
        [
         "jtheron",
         2010,
         2
        ],
        [
         "crdfernando",
         2010,
         2
        ],
        [
         "aabilakhia",
         2010,
         2
        ],
        [
         "revandermerwe",
         2010,
         1
        ],
        [
         "pankajsingh",
         2010,
         1
        ],
        [
         "bawmendis",
         2010,
         1
        ],
        [
         "sebond",
         2010,
         1
        ],
        [
         "sjsrivastava",
         2010,
         1
        ],
        [
         "mmuralitharan",
         2010,
         1
        ],
        [
         "slmalinga",
         2010,
         1
        ],
        [
         "ynagar",
         2010,
         1
        ],
        [
         "iqbalabdulla",
         2010,
         0
        ],
        [
         "abdinda",
         2010,
         0
        ],
        [
         "cklangeveldt",
         2010,
         0
        ],
        [
         "yaabdulla",
         2010,
         0
        ],
        [
         "agpaunikar",
         2010,
         0
        ],
        [
         "sladda",
         2010,
         0
        ],
        [
         "harmeetsingh",
         2010,
         0
        ],
        [
         "chgayle",
         2011,
         598
        ],
        [
         "vkohli",
         2011,
         557
        ],
        [
         "srtendulkar",
         2011,
         553
        ],
        [
         "semarsh",
         2011,
         500
        ],
        [
         "mekhussey",
         2011,
         492
        ],
        [
         "pcvalthaty",
         2011,
         453
        ],
        [
         "skraina",
         2011,
         437
        ],
        [
         "mvijay",
         2011,
         434
        ],
        [
         "jhkallis",
         2011,
         424
        ],
        [
         "vsehwag",
         2011,
         424
        ],
        [
         "sdhawan",
         2011,
         400
        ],
        [
         "sbadrinath",
         2011,
         394
        ],
        [
         "atrayudu",
         2011,
         394
        ],
        [
         "msdhoni",
         2011,
         391
        ],
        [
         "acgilchrist",
         2011,
         378
        ],
        [
         "ggambhir",
         2011,
         373
        ],
        [
         "rgsharma",
         2011,
         372
        ],
        [
         "kcsangakkara",
         2011,
         358
        ],
        [
         "mktiwary",
         2011,
         354
        ],
        [
         "bbmccullum",
         2011,
         351
        ],
        [
         "yuvrajsingh",
         2011,
         343
        ],
        [
         "rdravid",
         2011,
         339
        ],
        [
         "yvenugopalrao",
         2011,
         336
        ],
        [
         "srwatson",
         2011,
         329
        ],
        [
         "dawarner",
         2011,
         324
        ],
        [
         "abdevilliers",
         2011,
         306
        ],
        [
         "dpmdjayawardene",
         2011,
         299
        ],
        [
         "jdryder",
         2011,
         288
        ],
        [
         "bjhodge",
         2011,
         285
        ],
        [
         "ykpathan",
         2011,
         283
        ],
        [
         "rajadeja",
         2011,
         282
        ],
        [
         "kdkarthik",
         2011,
         282
        ],
        [
         "rvuthappa",
         2011,
         263
        ],
        [
         "ssohal",
         2011,
         249
        ],
        [
         "mkpandey",
         2011,
         246
        ],
        [
         "jbotha",
         2011,
         230
        ],
        [
         "tmdilshan",
         2011,
         226
        ],
        [
         "bchipli",
         2011,
         207
        ],
        [
         "jpduminy",
         2011,
         204
        ],
        [
         "papatel",
         2011,
         202
        ],
        [
         "jrhopes",
         2011,
         196
        ],
        [
         "sstiwary",
         2011,
         187
        ],
        [
         "dtchristian",
         2011,
         183
        ],
        [
         "dbraviteja",
         2011,
         182
        ],
        [
         "almenaria",
         2011,
         180
        ],
        [
         "lrpltaylor",
         2011,
         180
        ],
        [
         "nvojha",
         2011,
         160
        ],
        [
         "ikpathan",
         2011,
         150
        ],
        [
         "kapollard",
         2011,
         145
        ],
        [
         "maagarwal",
         2011,
         137
        ],
        [
         "ejgmorgan",
         2011,
         137
        ],
        [
         "jamorkel",
         2011,
         137
        ],
        [
         "asymonds",
         2011,
         135
        ],
        [
         "amrahane",
         2011,
         120
        ],
        [
         "acblizzard",
         2011,
         120
        ],
        [
         "mmanhas",
         2011,
         114
        ],
        [
         "ynagar",
         2011,
         111
        ],
        [
         "rntendoeschate",
         2011,
         107
        ],
        [
         "jecfranklin",
         2011,
         107
        ],
        [
         "clwhite",
         2011,
         104
        ],
        [
         "harbhajansingh",
         2011,
         103
        ],
        [
         "djjacobs",
         2011,
         92
        ],
        [
         "rmclaren",
         2011,
         90
        ],
        [
         "sanirudha",
         2011,
         83
        ],
        [
         "trbirt",
         2011,
         75
        ],
        [
         "msbisla",
         2011,
         72
        ],
        [
         "mklinger",
         2011,
         72
        ],
        [
         "wpsaha",
         2011,
         68
        ],
        [
         "amishra",
         2011,
         68
        ],
        [
         "mdmishra",
         2011,
         67
        ],
        [
         "tlsuman",
         2011,
         65
        ],
        [
         "djhussey",
         2011,
         64
        ],
        [
         "asraut",
         2011,
         60
        ],
        [
         "amnayar",
         2011,
         60
        ],
        [
         "lapomersbach",
         2011,
         51
        ],
        [
         "scganguly",
         2011,
         50
        ],
        [
         "mrmarsh",
         2011,
         50
        ],
        [
         "rvinaykumar",
         2011,
         50
        ],
        [
         "cjferguson",
         2011,
         48
        ],
        [
         "ppchawla",
         2011,
         48
        ],
        [
         "agpaunikar",
         2011,
         48
        ],
        [
         "mandeepsingh",
         2011,
         47
        ],
        [
         "ajfinch",
         2011,
         47
        ],
        [
         "rvgomez",
         2011,
         46
        ],
        [
         "sunnysingh",
         2011,
         43
        ],
        [
         "gcsmith",
         2011,
         42
        ],
        [
         "mkaif",
         2011,
         41
        ],
        [
         "vvslaxman",
         2011,
         38
        ],
        [
         "wdparnell",
         2011,
         37
        ],
        [
         "strbinny",
         2011,
         37
        ],
        [
         "mmorkel",
         2011,
         36
        ],
        [
         "dwsteyn",
         2011,
         36
        ],
        [
         "capujara",
         2011,
         34
        ],
        [
         "aukpathan",
         2011,
         33
        ],
        [
         "rjharris",
         2011,
         30
        ],
        [
         "spgoswami",
         2011,
         29
        ],
        [
         "shakibalhasan",
         2011,
         29
        ],
        [
         "irjaggi",
         2011,
         28
        ],
        [
         "amithun",
         2011,
         27
        ],
        [
         "pkumar",
         2011,
         27
        ],
        [
         "nlmccullum",
         2011,
         26
        ],
        [
         "oashah",
         2011,
         26
        ],
        [
         "rbhatia",
         2011,
         25
        ],
        [
         "rsathish",
         2011,
         25
        ],
        [
         "rsharma",
         2011,
         24
        ],
        [
         "dlvettori",
         2011,
         23
        ],
        [
         "nltcperera",
         2011,
         23
        ],
        [
         "bipulsharma",
         2011,
         23
        ],
        [
         "mswade",
         2011,
         22
        ],
        [
         "zkhan",
         2011,
         21
        ],
        [
         "caingram",
         2011,
         21
        ],
        [
         "fyfazal",
         2011,
         19
        ],
        [
         "ygnaneswararao",
         2011,
         19
        ],
        [
         "jjvanderwath",
         2011,
         18
        ],
        [
         "kmjadhav",
         2011,
         18
        ],
        [
         "anahmed",
         2011,
         18
        ],
        [
         "bjhaddin",
         2011,
         18
        ],
        [
         "srana",
         2011,
         16
        ],
        [
         "iqbalabdulla",
         2011,
         15
        ],
        [
         "jsyedmohammad",
         2011,
         15
        ],
        [
         "dhyagnik",
         2011,
         15
        ],
        [
         "harpreetsingh",
         2011,
         14
        ],
        [
         "revandermerwe",
         2011,
         14
        ],
        [
         "lrshukla",
         2011,
         14
        ],
        [
         "saravind",
         2011,
         13
        ],
        [
         "bakhil",
         2011,
         13
        ],
        [
         "djbravo",
         2011,
         11
        ],
        [
         "mkartik",
         2011,
         11
        ],
        [
         "rrpowar",
         2011,
         11
        ],
        [
         "tdpaine",
         2011,
         10
        ],
        [
         "aajhunjhunwala",
         2011,
         10
        ],
        [
         "swtait",
         2011,
         10
        ],
        [
         "skwarne",
         2011,
         10
        ],
        [
         "sdchitnis",
         2011,
         9
        ],
        [
         "saasnodkar",
         2011,
         9
        ],
        [
         "cklangeveldt",
         2011,
         8
        ],
        [
         "abmcdonald",
         2011,
         8
        ],
        [
         "slmalinga",
         2011,
         8
        ],
        [
         "kbarunkarthik",
         2011,
         7
        ],
        [
         "imalhotra",
         2011,
         7
        ],
        [
         "mvboucher",
         2011,
         6
        ],
        [
         "abagarkar",
         2011,
         6
        ],
        [
         "sbstyris",
         2011,
         5
        ],
        [
         "blee",
         2011,
         5
        ],
        [
         "mmuralitharan",
         2011,
         5
        ],
        [
         "prshah",
         2011,
         5
        ],
        [
         "lbalaji",
         2011,
         4
        ],
        [
         "ssriram",
         2011,
         4
        ],
        [
         "sjsrivastava",
         2011,
         4
        ],
        [
         "isharma",
         2011,
         4
        ],
        [
         "rninan",
         2011,
         3
        ],
        [
         "jetaylor",
         2011,
         3
        ],
        [
         "sbwagh",
         2011,
         2
        ],
        [
         "rashwin",
         2011,
         2
        ],
        [
         "srandiv",
         2011,
         2
        ],
        [
         "rpsingh",
         2011,
         2
        ],
        [
         "dskulkarni",
         2011,
         2
        ],
        [
         "agmurtaza",
         2011,
         2
        ],
        [
         "ubtchand",
         2011,
         2
        ],
        [
         "acthomas",
         2011,
         1
        ],
        [
         "bkumar",
         2011,
         1
        ],
        [
         "aachavan",
         2011,
         1
        ],
        [
         "asingh",
         2011,
         1
        ],
        [
         "utyadav",
         2011,
         1
        ],
        [
         "ssreesanth",
         2011,
         1
        ],
        [
         "njrimmington",
         2011,
         1
        ],
        [
         "pparameswaran",
         2011,
         1
        ],
        [
         "debollinger",
         2011,
         0
        ],
        [
         "jogindersharma",
         2011,
         0
        ],
        [
         "babhatt",
         2011,
         0
        ],
        [
         "sktrivedi",
         2011,
         0
        ],
        [
         "jdporam",
         2011,
         0
        ],
        [
         "vraaron",
         2011,
         0
        ],
        [
         "nddoshi",
         2011,
         0
        ],
        [
         "lablish",
         2011,
         0
        ],
        [
         "mmpatel",
         2011,
         0
        ],
        [
         "mjlumb",
         2011,
         0
        ],
        [
         "abdinda",
         2011,
         0
        ],
        [
         "msgony",
         2011,
         0
        ],
        [
         "snadeem",
         2011,
         0
        ],
        [
         "chgayle",
         2012,
         720
        ],
        [
         "ggambhir",
         2012,
         590
        ],
        [
         "sdhawan",
         2012,
         568
        ],
        [
         "amrahane",
         2012,
         560
        ],
        [
         "vsehwag",
         2012,
         495
        ],
        [
         "clwhite",
         2012,
         475
        ],
        [
         "rdravid",
         2012,
         462
        ],
        [
         "skraina",
         2012,
         440
        ],
        [
         "rgsharma",
         2012,
         432
        ],
        [
         "mandeepsingh",
         2012,
         431
        ],
        [
         "jhkallis",
         2012,
         408
        ],
        [
         "rvuthappa",
         2012,
         404
        ],
        [
         "fduplessis",
         2012,
         397
        ],
        [
         "djhussey",
         2012,
         396
        ],
        [
         "djbravo",
         2012,
         367
        ],
        [
         "vkohli",
         2012,
         358
        ],
        [
         "msdhoni",
         2012,
         354
        ],
        [
         "spdsmith",
         2012,
         350
        ],
        [
         "oashah",
         2012,
         339
        ],
        [
         "mvijay",
         2012,
         336
        ],
        [
         "semarsh",
         2012,
         336
        ],
        [
         "dpmdjayawardene",
         2012,
         335
        ],
        [
         "atrayudu",
         2012,
         333
        ],
        [
         "srtendulkar",
         2012,
         324
        ],
        [
         "abdevilliers",
         2012,
         318
        ],
        [
         "kppietersen",
         2012,
         305
        ],
        [
         "bbmccullum",
         2012,
         289
        ],
        [
         "tmdilshan",
         2012,
         283
        ],
        [
         "scganguly",
         2012,
         268
        ],
        [
         "mekhussey",
         2012,
         261
        ],
        [
         "mktiwary",
         2012,
         260
        ],
        [
         "srwatson",
         2012,
         255
        ],
        [
         "jdryder",
         2012,
         252
        ],
        [
         "dawarner",
         2012,
         252
        ],
        [
         "nvojha",
         2012,
         251
        ],
        [
         "bjhodge",
         2012,
         245
        ],
        [
         "jpduminy",
         2012,
         244
        ],
        [
         "kdkarthik",
         2012,
         238
        ],
        [
         "maagarwal",
         2012,
         225
        ],
        [
         "kapollard",
         2012,
         220
        ],
        [
         "jecfranklin",
         2012,
         214
        ],
        [
         "almenaria",
         2012,
         214
        ],
        [
         "msbisla",
         2012,
         213
        ],
        [
         "lrpltaylor",
         2012,
         197
        ],
        [
         "sbadrinath",
         2012,
         196
        ],
        [
         "kcsangakkara",
         2012,
         194
        ],
        [
         "papatel",
         2012,
         193
        ],
        [
         "ykpathan",
         2012,
         191
        ],
        [
         "rajadeja",
         2012,
         191
        ],
        [
         "azharmahmood",
         2012,
         186
        ],
        [
         "sstiwary",
         2012,
         183
        ],
        [
         "ikpathan",
         2012,
         176
        ],
        [
         "acgilchrist",
         2012,
         168
        ],
        [
         "drsmith",
         2012,
         156
        ],
        [
         "ynagar",
         2012,
         153
        ],
        [
         "dtchristian",
         2012,
         145
        ],
        [
         "nsaini",
         2012,
         140
        ],
        [
         "mkpandey",
         2012,
         138
        ],
        [
         "yvenugopalrao",
         2012,
         132
        ],
        [
         "admathews",
         2012,
         127
        ],
        [
         "dbdas",
         2012,
         126
        ],
        [
         "mnsamuels",
         2012,
         124
        ],
        [
         "mmanhas",
         2012,
         120
        ],
        [
         "djharris",
         2012,
         111
        ],
        [
         "harbhajansingh",
         2012,
         108
        ],
        [
         "jamorkel",
         2012,
         107
        ],
        [
         "ppchawla",
         2012,
         106
        ],
        [
         "mjclarke",
         2012,
         98
        ],
        [
         "damiller",
         2012,
         98
        ],
        [
         "strbinny",
         2012,
         90
        ],
        [
         "shakibalhasan",
         2012,
         89
        ],
        [
         "apmajumdar",
         2012,
         87
        ],
        [
         "gurkeeratsingh",
         2012,
         86
        ],
        [
         "relevi",
         2012,
         83
        ],
        [
         "hhgibbs",
         2012,
         81
        ],
        [
         "lrshukla",
         2012,
         75
        ],
        [
         "pareddy",
         2012,
         73
        ],
        [
         "bipulsharma",
         2012,
         72
        ],
        [
         "spgoswami",
         2012,
         69
        ],
        [
         "rvinaykumar",
         2012,
         68
        ],
        [
         "sdchitnis",
         2012,
         66
        ],
        [
         "jbotha",
         2012,
         58
        ],
        [
         "slmalinga",
         2012,
         55
        ],
        [
         "ajfinch",
         2012,
         55
        ],
        [
         "cjferguson",
         2012,
         50
        ],
        [
         "abmcdonald",
         2012,
         47
        ],
        [
         "adrussell",
         2012,
         47
        ],
        [
         "amnayar",
         2012,
         45
        ],
        [
         "blee",
         2012,
         42
        ],
        [
         "bkumar",
         2012,
         40
        ],
        [
         "bchipli",
         2012,
         37
        ],
        [
         "kkcooper",
         2012,
         37
        ],
        [
         "pnegi",
         2012,
         36
        ],
        [
         "ubtchand",
         2012,
         36
        ],
        [
         "aashishreddy",
         2012,
         35
        ],
        [
         "rbhatia",
         2012,
         35
        ],
        [
         "pkumar",
         2012,
         35
        ],
        [
         "rjpeterson",
         2012,
         32
        ],
        [
         "dlvettori",
         2012,
         31
        ],
        [
         "pcvalthaty",
         2012,
         30
        ],
        [
         "mkartik",
         2012,
         26
        ],
        [
         "dhyagnik",
         2012,
         25
        ],
        [
         "aajhunjhunwala",
         2012,
         24
        ],
        [
         "rntendoeschate",
         2012,
         21
        ],
        [
         "acthomas",
         2012,
         19
        ],
        [
         "wdparnell",
         2012,
         19
        ],
        [
         "dwsteyn",
         2012,
         19
        ],
        [
         "sanirudha",
         2012,
         19
        ],
        [
         "ankitsharma",
         2012,
         18
        ],
        [
         "rashwin",
         2012,
         18
        ],
        [
         "rjharris",
         2012,
         18
        ],
        [
         "capujara",
         2012,
         17
        ],
        [
         "amishra",
         2012,
         16
        ],
        [
         "hvpatel",
         2012,
         15
        ],
        [
         "tlsuman",
         2012,
         15
        ],
        [
         "irjaggi",
         2012,
         15
        ],
        [
         "pdogra",
         2012,
         15
        ],
        [
         "gbhogg",
         2012,
         15
        ],
        [
         "harmeetsingh",
         2012,
         15
        ],
        [
         "mkaif",
         2012,
         14
        ],
        [
         "saravind",
         2012,
         14
        ],
        [
         "jpfaulkner",
         2012,
         14
        ],
        [
         "admascarenhas",
         2012,
         14
        ],
        [
         "zkhan",
         2012,
         12
        ],
        [
         "dajbracewell",
         2012,
         12
        ],
        [
         "kupadhyay",
         2012,
         11
        ],
        [
         "anehra",
         2012,
         11
        ],
        [
         "aachavan",
         2012,
         11
        ],
        [
         "dskulkarni",
         2012,
         10
        ],
        [
         "spnarine",
         2012,
         9
        ],
        [
         "cjmckay",
         2012,
         8
        ],
        [
         "jtheron",
         2012,
         7
        ],
        [
         "sbjakati",
         2012,
         7
        ],
        [
         "harpreetsingh",
         2012,
         6
        ],
        [
         "calynn",
         2012,
         6
        ],
        [
         "aukpathan",
         2012,
         6
        ],
        [
         "rpsingh",
         2012,
         6
        ],
        [
         "mmuralitharan",
         2012,
         6
        ],
        [
         "wpsaha",
         2012,
         6
        ],
        [
         "babhatt",
         2012,
         6
        ],
        [
         "gjmaxwell",
         2012,
         6
        ],
        [
         "kmdnkulasekara",
         2012,
         5
        ],
        [
         "sktrivedi",
         2012,
         5
        ],
        [
         "mdmishra",
         2012,
         4
        ],
        [
         "ppojha",
         2012,
         4
        ],
        [
         "msgony",
         2012,
         4
        ],
        [
         "dbraviteja",
         2012,
         4
        ],
        [
         "jsyedmohammad",
         2012,
         4
        ],
        [
         "pawana",
         2012,
         4
        ],
        [
         "agmurtaza",
         2012,
         3
        ],
        [
         "nltcperera",
         2012,
         3
        ],
        [
         "debollinger",
         2012,
         3
        ],
        [
         "mmorkel",
         2012,
         3
        ],
        [
         "mmpatel",
         2012,
         2
        ],
        [
         "abdinda",
         2012,
         2
        ],
        [
         "bbsamantray",
         2012,
         2
        ],
        [
         "rsharma",
         2012,
         2
        ],
        [
         "iqbalabdulla",
         2012,
         2
        ],
        [
         "utyadav",
         2012,
         2
        ],
        [
         "vraaron",
         2012,
         1
        ],
        [
         "djjacobs",
         2012,
         0
        ],
        [
         "rrbhatkal",
         2012,
         0
        ],
        [
         "sayadav",
         2012,
         0
        ],
        [
         "vpratapsingh",
         2012,
         0
        ],
        [
         "acblizzard",
         2012,
         0
        ],
        [
         "pparameswaran",
         2012,
         0
        ],
        [
         "snadeem",
         2012,
         0
        ],
        [
         "asingh",
         2012,
         0
        ],
        [
         "achandila",
         2012,
         0
        ],
        [
         "sunnygupta",
         2012,
         0
        ],
        [
         "mekhussey",
         2013,
         732
        ],
        [
         "chgayle",
         2013,
         701
        ],
        [
         "vkohli",
         2013,
         636
        ],
        [
         "skraina",
         2013,
         546
        ],
        [
         "srwatson",
         2013,
         542
        ],
        [
         "rgsharma",
         2013,
         532
        ],
        [
         "kdkarthik",
         2013,
         505
        ],
        [
         "amrahane",
         2013,
         488
        ],
        [
         "rdravid",
         2013,
         471
        ],
        [
         "msdhoni",
         2013,
         458
        ],
        [
         "ajfinch",
         2013,
         455
        ],
        [
         "rvuthappa",
         2013,
         430
        ],
        [
         "drsmith",
         2013,
         418
        ],
        [
         "damiller",
         2013,
         417
        ],
        [
         "kapollard",
         2013,
         414
        ],
        [
         "dawarner",
         2013,
         410
        ],
        [
         "ggambhir",
         2013,
         406
        ],
        [
         "abdevilliers",
         2013,
         373
        ],
        [
         "dpmdjayawardene",
         2013,
         331
        ],
        [
         "ykpathan",
         2013,
         331
        ],
        [
         "mvijay",
         2013,
         312
        ],
        [
         "jhkallis",
         2013,
         311
        ],
        [
         "sdhawan",
         2013,
         311
        ],
        [
         "ejgmorgan",
         2013,
         307
        ],
        [
         "semarsh",
         2013,
         300
        ],
        [
         "vsehwag",
         2013,
         294
        ],
        [
         "papatel",
         2013,
         294
        ],
        [
         "acgilchrist",
         2013,
         294
        ],
        [
         "strbinny",
         2013,
         293
        ],
        [
         "bjhodge",
         2013,
         292
        ],
        [
         "srtendulkar",
         2013,
         283
        ],
        [
         "atrayudu",
         2013,
         264
        ],
        [
         "mandeepsingh",
         2013,
         260
        ],
        [
         "msbisla",
         2013,
         255
        ],
        [
         "ghvihari",
         2013,
         239
        ],
        [
         "yuvrajsingh",
         2013,
         238
        ],
        [
         "djhussey",
         2013,
         235
        ],
        [
         "nltcperera",
         2013,
         233
        ],
        [
         "clwhite",
         2013,
         226
        ],
        [
         "svsamson",
         2013,
         206
        ],
        [
         "rajadeja",
         2013,
         200
        ],
        [
         "azharmahmood",
         2013,
         196
        ],
        [
         "bjrohrer",
         2013,
         193
        ],
        [
         "djgsammy",
         2013,
         174
        ],
        [
         "admathews",
         2013,
         172
        ],
        [
         "mchenriques",
         2013,
         165
        ],
        [
         "mvohra",
         2013,
         161
        ],
        [
         "spdsmith",
         2013,
         159
        ],
        [
         "ubtchand",
         2013,
         158
        ],
        [
         "ikpathan",
         2013,
         153
        ],
        [
         "kmjadhav",
         2013,
         148
        ],
        [
         "mktiwary",
         2013,
         146
        ],
        [
         "mrmarsh",
         2013,
         140
        ],
        [
         "mkpandey",
         2013,
         136
        ],
        [
         "mcjuneja",
         2013,
         125
        ],
        [
         "aashishreddy",
         2013,
         125
        ],
        [
         "dhyagnik",
         2013,
         124
        ],
        [
         "sbadrinath",
         2013,
         124
        ],
        [
         "aptare",
         2013,
         123
        ],
        [
         "bbsamantray",
         2013,
         123
        ],
        [
         "djbravo",
         2013,
         121
        ],
        [
         "kcsangakkara",
         2013,
         120
        ],
        [
         "harbhajansingh",
         2013,
         116
        ],
        [
         "sstiwary",
         2013,
         109
        ],
        [
         "gurkeeratsingh",
         2013,
         108
        ],
        [
         "rsathish",
         2013,
         108
        ],
        [
         "ljwright",
         2013,
         102
        ],
        [
         "rbhatia",
         2013,
         99
        ],
        [
         "capujara",
         2013,
         92
        ],
        [
         "pareddy",
         2013,
         91
        ],
        [
         "amishra",
         2013,
         89
        ],
        [
         "rntendoeschate",
         2013,
         85
        ],
        [
         "kvsharma",
         2013,
         85
        ],
        [
         "dbdas",
         2013,
         75
        ],
        [
         "tmdilshan",
         2013,
         75
        ],
        [
         "rvinaykumar",
         2013,
         70
        ],
        [
         "wpsaha",
         2013,
         70
        ],
        [
         "maagarwal",
         2013,
         67
        ],
        [
         "amnayar",
         2013,
         66
        ],
        [
         "ppchawla",
         2013,
         64
        ],
        [
         "lrpltaylor",
         2013,
         63
        ],
        [
         "lapomersbach",
         2013,
         58
        ],
        [
         "mmorkel",
         2013,
         57
        ],
        [
         "jpfaulkner",
         2013,
         57
        ],
        [
         "dwsteyn",
         2013,
         53
        ],
        [
         "rtponting",
         2013,
         52
        ],
        [
         "tlsuman",
         2013,
         52
        ],
        [
         "bkumar",
         2013,
         52
        ],
        [
         "jamorkel",
         2013,
         46
        ],
        [
         "pkumar",
         2013,
         45
        ],
        [
         "msgony",
         2013,
         45
        ],
        [
         "cmgautam",
         2013,
         44
        ],
        [
         "jbotha",
         2013,
         43
        ],
        [
         "kbarunkarthik",
         2013,
         41
        ],
        [
         "kkcooper",
         2013,
         39
        ],
        [
         "mgjohnson",
         2013,
         39
        ],
        [
         "utyadav",
         2013,
         38
        ],
        [
         "rrampaul",
         2013,
         37
        ],
        [
         "gjmaxwell",
         2013,
         36
        ],
        [
         "rashwin",
         2013,
         35
        ],
        [
         "kwrichardson",
         2013,
         34
        ],
        [
         "oashah",
         2013,
         25
        ],
        [
         "bmajmendis",
         2013,
         23
        ],
        [
         "snarwal",
         2013,
         23
        ],
        [
         "revandermerwe",
         2013,
         22
        ],
        [
         "spnarine",
         2013,
         21
        ],
        [
         "blee",
         2013,
         21
        ],
        [
         "rdhawan",
         2013,
         21
        ],
        [
         "klrahul",
         2013,
         20
        ],
        [
         "amukund",
         2013,
         19
        ],
        [
         "bchipli",
         2013,
         16
        ],
        [
         "mdkjperera",
         2013,
         14
        ],
        [
         "snadeem",
         2013,
         14
        ],
        [
         "dbraviteja",
         2013,
         14
        ],
        [
         "chmorris",
         2013,
         14
        ],
        [
         "mmanhas",
         2013,
         13
        ],
        [
         "abagarkar",
         2013,
         12
        ],
        [
         "adrussell",
         2013,
         11
        ],
        [
         "rsharma",
         2013,
         11
        ],
        [
         "smsmsenanayake",
         2013,
         10
        ],
        [
         "xthalaivansargunam",
         2013,
         10
        ],
        [
         "jsyedmohammad",
         2013,
         10
        ],
        [
         "nvojha",
         2013,
         9
        ],
        [
         "abdinda",
         2013,
         9
        ],
        [
         "lbalaji",
         2013,
         9
        ],
        [
         "nmcoulternile",
         2013,
         9
        ],
        [
         "slmalinga",
         2013,
         9
        ],
        [
         "kknair",
         2013,
         9
        ],
        [
         "iqbalabdulla",
         2013,
         8
        ],
        [
         "mnsamuels",
         2013,
         8
        ],
        [
         "skaul",
         2013,
         7
        ],
        [
         "uabirla",
         2013,
         7
        ],
        [
         "bbmccullum",
         2013,
         6
        ],
        [
         "dtchristian",
         2013,
         6
        ],
        [
         "qdekock",
         2013,
         6
        ],
        [
         "pcvalthaty",
         2013,
         6
        ],
        [
         "agmurtaza",
         2013,
         5
        ],
        [
         "mrawat",
         2013,
         5
        ],
        [
         "pdogra",
         2013,
         5
        ],
        [
         "parvezrasool",
         2013,
         5
        ],
        [
         "mohammedshami",
         2013,
         5
        ],
        [
         "wdparnell",
         2013,
         5
        ],
        [
         "admascarenhas",
         2013,
         5
        ],
        [
         "pjsangwan",
         2013,
         4
        ],
        [
         "blaughlin",
         2013,
         4
        ],
        [
         "rvgomez",
         2013,
         4
        ],
        [
         "achandila",
         2013,
         4
        ],
        [
         "sktrivedi",
         2013,
         3
        ],
        [
         "sachinbaby",
         2013,
         3
        ],
        [
         "pvtambe",
         2013,
         3
        ],
        [
         "lrshukla",
         2013,
         3
        ],
        [
         "rmclaren",
         2013,
         3
        ],
        [
         "harmeetsingh",
         2013,
         3
        ],
        [
         "ppojha",
         2013,
         2
        ],
        [
         "jdunadkat",
         2013,
         2
        ],
        [
         "amithun",
         2013,
         2
        ],
        [
         "mkartik",
         2013,
         2
        ],
        [
         "bawmendis",
         2013,
         2
        ],
        [
         "asrajpoot",
         2013,
         2
        ],
        [
         "rjharris",
         2013,
         2
        ],
        [
         "rshukla",
         2013,
         1
        ],
        [
         "anehra",
         2013,
         1
        ],
        [
         "almenaria",
         2013,
         1
        ],
        [
         "kupadhyay",
         2013,
         1
        ],
        [
         "ssreesanth",
         2013,
         1
        ],
        [
         "pawana",
         2013,
         1
        ],
        [
         "swtait",
         2013,
         1
        ],
        [
         "icpandey",
         2013,
         0
        ],
        [
         "abmcdonald",
         2013,
         0
        ],
        [
         "mmsharma",
         2013,
         0
        ],
        [
         "sanirudha",
         2013,
         0
        ],
        [
         "sandeepsharma",
         2013,
         0
        ],
        [
         "rvuthappa",
         2014,
         659
        ],
        [
         "drsmith",
         2014,
         565
        ],
        [
         "gjmaxwell",
         2014,
         552
        ],
        [
         "dawarner",
         2014,
         528
        ],
        [
         "skraina",
         2014,
         519
        ],
        [
         "vsehwag",
         2014,
         455
        ],
        [
         "damiller",
         2014,
         446
        ],
        [
         "mkpandey",
         2014,
         409
        ],
        [
         "jpduminy",
         2014,
         408
        ],
        [
         "bbmccullum",
         2014,
         405
        ],
        [
         "lmpsimmons",
         2014,
         394
        ],
        [
         "rgsharma",
         2014,
         390
        ],
        [
         "abdevilliers",
         2014,
         389
        ],
        [
         "sdhawan",
         2014,
         373
        ],
        [
         "msdhoni",
         2014,
         371
        ],
        [
         "yuvrajsingh",
         2014,
         370
        ],
        [
         "wpsaha",
         2014,
         362
        ],
        [
         "atrayudu",
         2014,
         360
        ],
        [
         "vkohli",
         2014,
         359
        ],
        [
         "svsamson",
         2014,
         339
        ],
        [
         "amrahane",
         2014,
         339
        ],
        [
         "kknair",
         2014,
         330
        ],
        [
         "kdkarthik",
         2014,
         325
        ],
        [
         "mvohra",
         2014,
         324
        ],
        [
         "ggambhir",
         2014,
         324
        ],
        [
         "ajfinch",
         2014,
         308
        ],
        [
         "fduplessis",
         2014,
         303
        ],
        [
         "kppietersen",
         2014,
         294
        ],
        [
         "kapollard",
         2014,
         272
        ],
        [
         "ykpathan",
         2014,
         268
        ],
        [
         "cjanderson",
         2014,
         265
        ],
        [
         "gjbailey",
         2014,
         254
        ],
        [
         "srwatson",
         2014,
         245
        ],
        [
         "shakibalhasan",
         2014,
         228
        ],
        [
         "nvojha",
         2014,
         226
        ],
        [
         "mekhussey",
         2014,
         209
        ],
        [
         "mvijay",
         2014,
         207
        ],
        [
         "papatel",
         2014,
         205
        ],
        [
         "chgayle",
         2014,
         196
        ],
        [
         "jpfaulkner",
         2014,
         180
        ],
        [
         "klrahul",
         2014,
         166
        ],
        [
         "sayadav",
         2014,
         160
        ],
        [
         "qdekock",
         2014,
         153
        ],
        [
         "mktiwary",
         2014,
         152
        ],
        [
         "jhkallis",
         2014,
         151
        ],
        [
         "rajadeja",
         2014,
         146
        ],
        [
         "kmjadhav",
         2014,
         146
        ],
        [
         "spdsmith",
         2014,
         146
        ],
        [
         "aptare",
         2014,
         126
        ],
        [
         "capujara",
         2014,
         125
        ],
        [
         "strbinny",
         2014,
         123
        ],
        [
         "cmgautam",
         2014,
         121
        ],
        [
         "djhussey",
         2014,
         116
        ],
        [
         "maagarwal",
         2014,
         115
        ],
        [
         "djgsammy",
         2014,
         108
        ],
        [
         "yvtakawale",
         2014,
         104
        ],
        [
         "bjhodge",
         2014,
         101
        ],
        [
         "mastarc",
         2014,
         85
        ],
        [
         "rdhawan",
         2014,
         82
        ],
        [
         "srana",
         2014,
         71
        ],
        [
         "yvenugopalrao",
         2014,
         71
        ],
        [
         "semarsh",
         2014,
         70
        ],
        [
         "rbhatia",
         2014,
         67
        ],
        [
         "arpatel",
         2014,
         62
        ],
        [
         "lrpltaylor",
         2014,
         59
        ],
        [
         "calynn",
         2014,
         58
        ],
        [
         "mgjohnson",
         2014,
         56
        ],
        [
         "ikpathan",
         2014,
         55
        ],
        [
         "rntendoeschate",
         2014,
         52
        ],
        [
         "jamorkel",
         2014,
         45
        ],
        [
         "rashwin",
         2014,
         45
        ],
        [
         "kvsharma",
         2014,
         42
        ],
        [
         "jdsneesham",
         2014,
         42
        ],
        [
         "brdunk",
         2014,
         40
        ],
        [
         "rrrossouw",
         2014,
         39
        ],
        [
         "kkcooper",
         2014,
         39
        ],
        [
         "amnayar",
         2014,
         39
        ],
        [
         "mmanhas",
         2014,
         35
        ],
        [
         "dskulkarni",
         2014,
         35
        ],
        [
         "vraaron",
         2014,
         34
        ],
        [
         "ankitsharma",
         2014,
         34
        ],
        [
         "lrshukla",
         2014,
         31
        ],
        [
         "ppchawla",
         2014,
         31
        ],
        [
         "vhzol",
         2014,
         29
        ],
        [
         "harbhajansingh",
         2014,
         28
        ],
        [
         "mandeepsingh",
         2014,
         24
        ],
        [
         "dwsteyn",
         2014,
         22
        ],
        [
         "rshukla",
         2014,
         18
        ],
        [
         "njmaddinson",
         2014,
         16
        ],
        [
         "joholder",
         2014,
         16
        ],
        [
         "rtewatia",
         2014,
         16
        ],
        [
         "hvpatel",
         2014,
         13
        ],
        [
         "rrampaul",
         2014,
         13
        ],
        [
         "sgopal",
         2014,
         11
        ],
        [
         "spnarine",
         2014,
         10
        ],
        [
         "mchenriques",
         2014,
         9
        ],
        [
         "zkhan",
         2014,
         8
        ],
        [
         "djbravo",
         2014,
         8
        ],
        [
         "bcjcutting",
         2014,
         8
        ],
        [
         "imrantahir",
         2014,
         8
        ],
        [
         "snadeem",
         2014,
         7
        ],
        [
         "shivamsharma",
         2014,
         5
        ],
        [
         "pvtambe",
         2014,
         5
        ],
        [
         "abdinda",
         2014,
         4
        ],
        [
         "amishra",
         2014,
         4
        ],
        [
         "anahmed",
         2014,
         4
        ],
        [
         "ppojha",
         2014,
         4
        ],
        [
         "tgsouthee",
         2014,
         4
        ],
        [
         "dhyagnik",
         2014,
         4
        ],
        [
         "mmorkel",
         2014,
         4
        ],
        [
         "rvinaykumar",
         2014,
         4
        ],
        [
         "sanirudha",
         2014,
         3
        ],
        [
         "mohammedshami",
         2014,
         3
        ],
        [
         "msbisla",
         2014,
         3
        ],
        [
         "sandeepsharma",
         2014,
         2
        ],
        [
         "ubtchand",
         2014,
         2
        ],
        [
         "wdparnell",
         2014,
         2
        ],
        [
         "skaul",
         2014,
         2
        ],
        [
         "adrussell",
         2014,
         2
        ],
        [
         "utyadav",
         2014,
         2
        ],
        [
         "slmalinga",
         2014,
         2
        ],
        [
         "yschahal",
         2014,
         1
        ],
        [
         "mmsharma",
         2014,
         1
        ],
        [
         "bkumar",
         2014,
         1
        ],
        [
         "lbalaji",
         2014,
         1
        ],
        [
         "jjbumrah",
         2014,
         1
        ],
        [
         "mdelange",
         2014,
         1
        ],
        [
         "karanveersingh",
         2014,
         1
        ],
        [
         "pkumar",
         2014,
         1
        ],
        [
         "kwrichardson",
         2014,
         1
        ],
        [
         "jdunadkat",
         2014,
         1
        ],
        [
         "vsmalik",
         2014,
         1
        ],
        [
         "behendricks",
         2014,
         0
        ],
        [
         "dawarner",
         2015,
         554
        ],
        [
         "amrahane",
         2015,
         540
        ],
        [
         "lmpsimmons",
         2015,
         540
        ],
        [
         "abdevilliers",
         2015,
         511
        ],
        [
         "vkohli",
         2015,
         505
        ],
        [
         "chgayle",
         2015,
         490
        ],
        [
         "rgsharma",
         2015,
         482
        ],
        [
         "ssiyer",
         2015,
         439
        ],
        [
         "bbmccullum",
         2015,
         431
        ],
        [
         "kapollard",
         2015,
         415
        ],
        [
         "jpduminy",
         2015,
         414
        ],
        [
         "drsmith",
         2015,
         399
        ],
        [
         "fduplessis",
         2015,
         380
        ],
        [
         "skraina",
         2015,
         374
        ],
        [
         "msdhoni",
         2015,
         372
        ],
        [
         "rvuthappa",
         2015,
         364
        ],
        [
         "damiller",
         2015,
         357
        ],
        [
         "sdhawan",
         2015,
         347
        ],
        [
         "srwatson",
         2015,
         343
        ],
        [
         "papatel",
         2015,
         339
        ],
        [
         "ggambhir",
         2015,
         327
        ],
        [
         "adrussell",
         2015,
         326
        ],
        [
         "ykpathan",
         2015,
         310
        ],
        [
         "spdsmith",
         2015,
         292
        ],
        [
         "mchenriques",
         2015,
         283
        ],
        [
         "atrayudu",
         2015,
         281
        ],
        [
         "gjbailey",
         2015,
         259
        ],
        [
         "mvijay",
         2015,
         251
        ],
        [
         "wpsaha",
         2015,
         249
        ],
        [
         "yuvrajsingh",
         2015,
         247
        ],
        [
         "mkpandey",
         2015,
         225
        ],
        [
         "maagarwal",
         2015,
         213
        ],
        [
         "arpatel",
         2015,
         206
        ],
        [
         "svsamson",
         2015,
         204
        ],
        [
         "djbravo",
         2015,
         195
        ],
        [
         "kmjadhav",
         2015,
         189
        ],
        [
         "ejgmorgan",
         2015,
         187
        ],
        [
         "kknair",
         2015,
         181
        ],
        [
         "sayadav",
         2015,
         157
        ],
        [
         "mandeepsingh",
         2015,
         157
        ],
        [
         "djhooda",
         2015,
         151
        ],
        [
         "gjmaxwell",
         2015,
         146
        ],
        [
         "rsbopara",
         2015,
         145
        ],
        [
         "admathews",
         2015,
         143
        ],
        [
         "jpfaulkner",
         2015,
         143
        ],
        [
         "kdkarthik",
         2015,
         141
        ],
        [
         "klrahul",
         2015,
         141
        ],
        [
         "nvojha",
         2015,
         137
        ],
        [
         "rajadeja",
         2015,
         132
        ],
        [
         "qdekock",
         2015,
         122
        ],
        [
         "dwiese",
         2015,
         121
        ],
        [
         "harbhajansingh",
         2015,
         116
        ],
        [
         "pnegi",
         2015,
         115
        ],
        [
         "cjanderson",
         2015,
         114
        ],
        [
         "hhpandya",
         2015,
         110
        ],
        [
         "snkhan",
         2015,
         110
        ],
        [
         "sstiwary",
         2015,
         109
        ],
        [
         "kvsharma",
         2015,
         104
        ],
        [
         "ubtchand",
         2015,
         102
        ],
        [
         "vsehwag",
         2015,
         99
        ],
        [
         "semarsh",
         2015,
         89
        ],
        [
         "jamorkel",
         2015,
         86
        ],
        [
         "mvohra",
         2015,
         82
        ],
        [
         "mekhussey",
         2015,
         77
        ],
        [
         "strbinny",
         2015,
         73
        ],
        [
         "aashishreddy",
         2015,
         73
        ],
        [
         "chmorris",
         2015,
         70
        ],
        [
         "rntendoeschate",
         2015,
         61
        ],
        [
         "mktiwary",
         2015,
         57
        ],
        [
         "ppchawla",
         2015,
         54
        ],
        [
         "rashwin",
         2015,
         52
        ],
        [
         "jsuchith",
         2015,
         48
        ],
        [
         "ghvihari",
         2015,
         38
        ],
        [
         "msbisla",
         2015,
         37
        ],
        [
         "shakibalhasan",
         2015,
         36
        ],
        [
         "rdhawan",
         2015,
         36
        ],
        [
         "gurkeeratsingh",
         2015,
         35
        ],
        [
         "jbotha",
         2015,
         31
        ],
        [
         "kswilliamson",
         2015,
         31
        ],
        [
         "mgjohnson",
         2015,
         31
        ],
        [
         "utyadav",
         2015,
         29
        ],
        [
         "mmsharma",
         2015,
         28
        ],
        [
         "ajfinch",
         2015,
         23
        ],
        [
         "nmcoulternile",
         2015,
         20
        ],
        [
         "dwsteyn",
         2015,
         20
        ],
        [
         "iqbalabdulla",
         2015,
         20
        ],
        [
         "hvpatel",
         2015,
         19
        ],
        [
         "anureetsingh",
         2015,
         18
        ],
        [
         "bkumar",
         2015,
         17
        ],
        [
         "pkumar",
         2015,
         17
        ],
        [
         "saabbott",
         2015,
         15
        ],
        [
         "aptare",
         2015,
         14
        ],
        [
         "rrrossouw",
         2015,
         14
        ],
        [
         "mjmcclenaghan",
         2015,
         13
        ],
        [
         "tgsouthee",
         2015,
         13
        ],
        [
         "djgsammy",
         2015,
         13
        ],
        [
         "nltcperera",
         2015,
         12
        ],
        [
         "mastarc",
         2015,
         11
        ],
        [
         "karanveersingh",
         2015,
         11
        ],
        [
         "anahmed",
         2015,
         10
        ],
        [
         "sandeepsharma",
         2015,
         9
        ],
        [
         "amishra",
         2015,
         8
        ],
        [
         "gbhogg",
         2015,
         7
        ],
        [
         "snthakur",
         2015,
         7
        ],
        [
         "ankitsharma",
         2015,
         7
        ],
        [
         "azharmahmood",
         2015,
         6
        ],
        [
         "slmalinga",
         2015,
         6
        ],
        [
         "vraaron",
         2015,
         6
        ],
        [
         "imrantahir",
         2015,
         5
        ],
        [
         "mmorkel",
         2015,
         4
        ],
        [
         "cmgautam",
         2015,
         4
        ],
        [
         "njmaddinson",
         2015,
         4
        ],
        [
         "dskulkarni",
         2015,
         4
        ],
        [
         "pvtambe",
         2015,
         3
        ],
        [
         "snadeem",
         2015,
         2
        ],
        [
         "parvezrasool",
         2015,
         2
        ],
        [
         "rgmore",
         2015,
         2
        ],
        [
         "djmuthuswami",
         2015,
         1
        ],
        [
         "jtheron",
         2015,
         1
        ],
        [
         "anehra",
         2015,
         1
        ],
        [
         "yschahal",
         2015,
         1
        ],
        [
         "sgopal",
         2015,
         1
        ],
        [
         "bipulsharma",
         2015,
         1
        ],
        [
         "behendricks",
         2015,
         1
        ],
        [
         "spnarine",
         2015,
         0
        ],
        [
         "pjcummins",
         2015,
         0
        ],
        [
         "saravind",
         2015,
         0
        ],
        [
         "rvinaykumar",
         2015,
         0
        ],
        [
         "rbhatia",
         2015,
         0
        ],
        [
         "vkohli",
         2016,
         962
        ],
        [
         "dawarner",
         2016,
         844
        ],
        [
         "abdevilliers",
         2016,
         682
        ],
        [
         "ggambhir",
         2016,
         501
        ],
        [
         "sdhawan",
         2016,
         497
        ],
        [
         "rgsharma",
         2016,
         487
        ],
        [
         "amrahane",
         2016,
         479
        ],
        [
         "mvijay",
         2016,
         453
        ],
        [
         "qdekock",
         2016,
         444
        ],
        [
         "skraina",
         2016,
         399
        ],
        [
         "klrahul",
         2016,
         397
        ],
        [
         "rvuthappa",
         2016,
         394
        ],
        [
         "ajfinch",
         2016,
         392
        ],
        [
         "ykpathan",
         2016,
         361
        ],
        [
         "bbmccullum",
         2016,
         354
        ],
        [
         "kknair",
         2016,
         352
        ],
        [
         "kdkarthik",
         2016,
         335
        ],
        [
         "atrayudu",
         2016,
         334
        ],
        [
         "drsmith",
         2016,
         320
        ],
        [
         "svsamson",
         2016,
         291
        ],
        [
         "msdhoni",
         2016,
         284
        ],
        [
         "wpsaha",
         2016,
         270
        ],
        [
         "spdsmith",
         2016,
         270
        ],
        [
         "jcbuttler",
         2016,
         254
        ],
        [
         "mkpandey",
         2016,
         248
        ],
        [
         "khpandya",
         2016,
         237
        ],
        [
         "yuvrajsingh",
         2016,
         236
        ],
        [
         "chgayle",
         2016,
         227
        ],
        [
         "kapollard",
         2016,
         208
        ],
        [
         "fduplessis",
         2016,
         206
        ],
        [
         "rrpant",
         2016,
         198
        ],
        [
         "chmorris",
         2016,
         195
        ],
        [
         "jpduminy",
         2016,
         191
        ],
        [
         "rajadeja",
         2016,
         189
        ],
        [
         "adrussell",
         2016,
         188
        ],
        [
         "mchenriques",
         2016,
         182
        ],
        [
         "sayadav",
         2016,
         180
        ],
        [
         "gjmaxwell",
         2016,
         179
        ],
        [
         "srwatson",
         2016,
         179
        ],
        [
         "papatel",
         2016,
         177
        ],
        [
         "sstiwary",
         2016,
         169
        ],
        [
         "mvohra",
         2016,
         161
        ],
        [
         "semarsh",
         2016,
         159
        ],
        [
         "hmamla",
         2016,
         157
        ],
        [
         "damiller",
         2016,
         157
        ],
        [
         "nltcperera",
         2016,
         149
        ],
        [
         "mpstoinis",
         2016,
         146
        ],
        [
         "djhooda",
         2016,
         138
        ],
        [
         "nvojha",
         2016,
         136
        ],
        [
         "utkhawaja",
         2016,
         127
        ],
        [
         "kswilliamson",
         2016,
         124
        ],
        [
         "ejgmorgan",
         2016,
         123
        ],
        [
         "sachinbaby",
         2016,
         118
        ],
        [
         "shakibalhasan",
         2016,
         114
        ],
        [
         "gurkeeratsingh",
         2016,
         113
        ],
        [
         "arpatel",
         2016,
         111
        ],
        [
         "nrana",
         2016,
         100
        ],
        [
         "djbravo",
         2016,
         99
        ],
        [
         "harbhajansingh",
         2016,
         92
        ],
        [
         "swbillings",
         2016,
         88
        ],
        [
         "gjbailey",
         2016,
         84
        ],
        [
         "crbrathwaite",
         2016,
         83
        ],
        [
         "jpfaulkner",
         2016,
         77
        ],
        [
         "kppietersen",
         2016,
         73
        ],
        [
         "snkhan",
         2016,
         66
        ],
        [
         "bcjcutting",
         2016,
         65
        ],
        [
         "strbinny",
         2016,
         63
        ],
        [
         "pnegi",
         2016,
         57
        ],
        [
         "mjguptill",
         2016,
         57
        ],
        [
         "tmhead",
         2016,
         53
        ],
        [
         "bipulsharma",
         2016,
         51
        ],
        [
         "aashishreddy",
         2016,
         47
        ],
        [
         "hhpandya",
         2016,
         44
        ],
        [
         "bkumar",
         2016,
         43
        ],
        [
         "ishankishan",
         2016,
         42
        ],
        [
         "rashwin",
         2016,
         41
        ],
        [
         "kmjadhav",
         2016,
         38
        ],
        [
         "kvsharma",
         2016,
         36
        ],
        [
         "iqbalabdulla",
         2016,
         36
        ],
        [
         "rbhatia",
         2016,
         34
        ],
        [
         "mjmcclenaghan",
         2016,
         34
        ],
        [
         "mmsharma",
         2016,
         32
        ],
        [
         "ssiyer",
         2016,
         30
        ],
        [
         "tgsouthee",
         2016,
         30
        ],
        [
         "cmunro",
         2016,
         30
        ],
        [
         "maagarwal",
         2016,
         27
        ],
        [
         "dskulkarni",
         2016,
         27
        ],
        [
         "ppchawla",
         2016,
         27
        ],
        [
         "calynn",
         2016,
         25
        ],
        [
         "pkumar",
         2016,
         24
        ],
        [
         "erdwivedi",
         2016,
         24
        ],
        [
         "rsathish",
         2016,
         24
        ],
        [
         "nsnaik",
         2016,
         23
        ],
        [
         "joholder",
         2016,
         22
        ],
        [
         "adnath",
         2016,
         20
        ],
        [
         "psahu",
         2016,
         19
        ],
        [
         "jamorkel",
         2016,
         16
        ],
        [
         "rdhawan",
         2016,
         14
        ],
        [
         "fbehardien",
         2016,
         14
        ],
        [
         "kjabbott",
         2016,
         13
        ],
        [
         "kccariappa",
         2016,
         13
        ],
        [
         "rvinaykumar",
         2016,
         13
        ],
        [
         "ikpathan",
         2016,
         11
        ],
        [
         "parvezrasool",
         2016,
         10
        ],
        [
         "nmcoulternile",
         2016,
         9
        ],
        [
         "utyadav",
         2016,
         9
        ],
        [
         "sandeepsharma",
         2016,
         8
        ],
        [
         "lmpsimmons",
         2016,
         8
        ],
        [
         "jjbumrah",
         2016,
         8
        ],
        [
         "aptare",
         2016,
         8
        ],
        [
         "mrmarsh",
         2016,
         7
        ],
        [
         "pvtambe",
         2016,
         7
        ],
        [
         "spnarine",
         2016,
         7
        ],
        [
         "jyadav",
         2016,
         6
        ],
        [
         "zkhan",
         2016,
         6
        ],
        [
         "psphandscomb",
         2016,
         6
        ],
        [
         "mgjohnson",
         2016,
         5
        ],
        [
         "imrantahir",
         2016,
         5
        ],
        [
         "dwiese",
         2016,
         5
        ],
        [
         "amishra",
         2016,
         4
        ],
        [
         "bbsran",
         2016,
         3
        ],
        [
         "cjjordan",
         2016,
         3
        ],
        [
         "ankitsharma",
         2016,
         3
        ],
        [
         "mohammedshami",
         2016,
         2
        ],
        [
         "sgopal",
         2016,
         2
        ],
        [
         "snadeem",
         2016,
         1
        ],
        [
         "dwsteyn",
         2016,
         1
        ],
        [
         "sbjakati",
         2016,
         1
        ],
        [
         "mmorkel",
         2016,
         1
        ],
        [
         "anehra",
         2016,
         1
        ],
        [
         "kwrichardson",
         2016,
         1
        ],
        [
         "swapnilsingh",
         2016,
         0
        ],
        [
         "skaushik",
         2016,
         0
        ],
        [
         "ubtchand",
         2016,
         0
        ],
        [
         "mashwin",
         2016,
         0
        ],
        [
         "azampa",
         2016,
         0
        ],
        [
         "dawarner",
         2017,
         634
        ],
        [
         "ggambhir",
         2017,
         498
        ],
        [
         "sdhawan",
         2017,
         478
        ],
        [
         "spdsmith",
         2017,
         472
        ],
        [
         "skraina",
         2017,
         438
        ],
        [
         "hmamla",
         2017,
         418
        ],
        [
         "papatel",
         2017,
         395
        ],
        [
         "kapollard",
         2017,
         395
        ],
        [
         "mkpandey",
         2017,
         391
        ],
        [
         "ratripathi",
         2017,
         391
        ],
        [
         "rvuthappa",
         2017,
         388
        ],
        [
         "svsamson",
         2017,
         386
        ],
        [
         "amrahane",
         2017,
         382
        ],
        [
         "rrpant",
         2017,
         365
        ],
        [
         "kdkarthik",
         2017,
         357
        ],
        [
         "ssiyer",
         2017,
         337
        ],
        [
         "rgsharma",
         2017,
         333
        ],
        [
         "nrana",
         2017,
         333
        ],
        [
         "bbmccullum",
         2017,
         320
        ],
        [
         "mktiwary",
         2017,
         320
        ],
        [
         "bastokes",
         2017,
         316
        ],
        [
         "vkohli",
         2017,
         308
        ],
        [
         "gjmaxwell",
         2017,
         306
        ],
        [
         "ajfinch",
         2017,
         300
        ],
        [
         "calynn",
         2017,
         293
        ],
        [
         "msdhoni",
         2017,
         290
        ],
        [
         "kknair",
         2017,
         281
        ],
        [
         "ishankishan",
         2017,
         277
        ],
        [
         "mchenriques",
         2017,
         277
        ],
        [
         "jcbuttler",
         2017,
         273
        ],
        [
         "kmjadhav",
         2017,
         265
        ],
        [
         "semarsh",
         2017,
         258
        ],
        [
         "kswilliamson",
         2017,
         256
        ],
        [
         "hhpandya",
         2017,
         250
        ],
        [
         "yuvrajsingh",
         2017,
         248
        ],
        [
         "khpandya",
         2017,
         243
        ],
        [
         "drsmith",
         2017,
         239
        ],
        [
         "wpsaha",
         2017,
         230
        ],
        [
         "mvohra",
         2017,
         229
        ],
        [
         "arpatel",
         2017,
         227
        ],
        [
         "spnarine",
         2017,
         224
        ],
        [
         "abdevilliers",
         2017,
         216
        ],
        [
         "chgayle",
         2017,
         200
        ],
        [
         "mandeepsingh",
         2017,
         188
        ],
        [
         "rajadeja",
         2017,
         158
        ],
        [
         "chmorris",
         2017,
         154
        ],
        [
         "tmhead",
         2017,
         151
        ],
        [
         "pnegi",
         2017,
         144
        ],
        [
         "ykpathan",
         2017,
         143
        ],
        [
         "cjanderson",
         2017,
         142
        ],
        [
         "swbillings",
         2017,
         138
        ],
        [
         "lmpsimmons",
         2017,
         137
        ],
        [
         "cdegrandhomme",
         2017,
         126
        ],
        [
         "mjguptill",
         2017,
         126
        ],
        [
         "sayadav",
         2017,
         105
        ],
        [
         "vshankar",
         2017,
         101
        ],
        [
         "atrayudu",
         2017,
         91
        ],
        [
         "nvojha",
         2017,
         79
        ],
        [
         "dtchristian",
         2017,
         79
        ],
        [
         "djhooda",
         2017,
         78
        ],
        [
         "strbinny",
         2017,
         78
        ],
        [
         "pjcummins",
         2017,
         77
        ],
        [
         "damiller",
         2017,
         77
        ],
        [
         "srwatson",
         2017,
         71
        ],
        [
         "ejgmorgan",
         2017,
         65
        ],
        [
         "jjroy",
         2017,
         59
        ],
        [
         "krabada",
         2017,
         55
        ],
        [
         "ajtye",
         2017,
         53
        ],
        [
         "jpfaulkner",
         2017,
         53
        ],
        [
         "sstiwary",
         2017,
         52
        ],
        [
         "bcjcutting",
         2017,
         51
        ],
        [
         "mmsharma",
         2017,
         51
        ],
        [
         "amishra",
         2017,
         49
        ],
        [
         "kvsharma",
         2017,
         49
        ],
        [
         "crwoakes",
         2017,
         46
        ],
        [
         "spjackson",
         2017,
         38
        ],
        [
         "mohammedshami",
         2017,
         36
        ],
        [
         "irjaggi",
         2017,
         33
        ],
        [
         "saravind",
         2017,
         32
        ],
        [
         "admathews",
         2017,
         32
        ],
        [
         "bipulsharma",
         2017,
         31
        ],
        [
         "mnsamuels",
         2017,
         29
        ],
        [
         "basilthampi",
         2017,
         28
        ],
        [
         "maagarwal",
         2017,
         26
        ],
        [
         "achoudhary",
         2017,
         25
        ],
        [
         "ankitsharma",
         2017,
         25
        ],
        [
         "mgjohnson",
         2017,
         20
        ],
        [
         "kuldeepyadav",
         2017,
         20
        ],
        [
         "vishnuvinod",
         2017,
         19
        ],
        [
         "rtewatia",
         2017,
         19
        ],
        [
         "aptare",
         2017,
         18
        ],
        [
         "mpstoinis",
         2017,
         17
        ],
        [
         "harbhajansingh",
         2017,
         16
        ],
        [
         "mjmcclenaghan",
         2017,
         16
        ],
        [
         "jjbumrah",
         2017,
         16
        ],
        [
         "rbhatia",
         2017,
         16
        ],
        [
         "sachinbaby",
         2017,
         15
        ],
        [
         "anureetsingh",
         2017,
         15
        ],
        [
         "nmcoulternile",
         2017,
         14
        ],
        [
         "dlchahar",
         2017,
         14
        ],
        [
         "yschahal",
         2017,
         13
        ],
        [
         "sbadree",
         2017,
         13
        ],
        [
         "crbrathwaite",
         2017,
         12
        ],
        [
         "swapnilsingh",
         2017,
         12
        ],
        [
         "arbawne",
         2017,
         12
        ],
        [
         "rashidkhan",
         2017,
         11
        ],
        [
         "utyadav",
         2017,
         10
        ],
        [
         "washingtonsundar",
         2017,
         9
        ],
        [
         "tsmills",
         2017,
         8
        ],
        [
         "fduplessis",
         2017,
         8
        ],
        [
         "isharma",
         2017,
         8
        ],
        [
         "pkumar",
         2017,
         8
        ],
        [
         "tgsouthee",
         2017,
         7
        ],
        [
         "slmalinga",
         2017,
         7
        ],
        [
         "ankitsoni",
         2017,
         7
        ],
        [
         "abdinda",
         2017,
         7
        ],
        [
         "afmilne",
         2017,
         7
        ],
        [
         "dmbravo",
         2017,
         6
        ],
        [
         "sandeepsharma",
         2017,
         6
        ],
        [
         "taboult",
         2017,
         5
        ],
        [
         "iqbalabdulla",
         2017,
         5
        ],
        [
         "azampa",
         2017,
         5
        ],
        [
         "zkhan",
         2017,
         4
        ],
        [
         "asrajpoot",
         2017,
         4
        ],
        [
         "bkumar",
         2017,
         4
        ],
        [
         "vraaron",
         2017,
         4
        ],
        [
         "rdchahar",
         2017,
         3
        ],
        [
         "snadeem",
         2017,
         2
        ],
        [
         "mohammadnabi",
         2017,
         2
        ],
        [
         "ppchawla",
         2017,
         2
        ],
        [
         "jdunadkat",
         2017,
         2
        ],
        [
         "kccariappa",
         2017,
         2
        ],
        [
         "pjsangwan",
         2017,
         2
        ],
        [
         "ikpathan",
         2017,
         2
        ],
        [
         "shakibalhasan",
         2017,
         1
        ],
        [
         "dskulkarni",
         2017,
         1
        ],
        [
         "lhferguson",
         2017,
         1
        ],
        [
         "cjjordan",
         2017,
         0
        ],
        [
         "skaul",
         2017,
         0
        ],
        [
         "snthakur",
         2017,
         0
        ],
        [
         "imrantahir",
         2017,
         0
        ],
        [
         "adnath",
         2017,
         0
        ],
        [
         "mmpatel",
         2017,
         0
        ]
       ],
       "datasetInfos": [],
       "dbfsResultPath": null,
       "isJsonSchema": true,
       "metadata": {},
       "overflow": false,
       "plotOptions": {
        "customPlotOptions": {},
        "displayType": "table",
        "pivotAggregation": null,
        "pivotColumns": null,
        "xColumns": null,
        "yColumns": null
       },
       "removedWidgets": [],
       "schema": [
        {
         "metadata": "{}",
         "name": "player_name",
         "type": "\"string\""
        },
        {
         "metadata": "{}",
         "name": "season_year",
         "type": "\"integer\""
        },
        {
         "metadata": "{}",
         "name": "total_runs",
         "type": "\"long\""
        }
       ],
       "type": "table"
      }
     },
     "output_type": "display_data"
    }
   ],
   "source": [
    "top_scorers_peryear = spark.sql(\"\"\"\n",
    "    SELECT\n",
    "        p.player_name,\n",
    "        m.season_year,\n",
    "        SUM(b.runs_scored) AS total_runs\n",
    "    FROM\n",
    "        ball_by_ball b\n",
    "    JOIN\n",
    "        match AS m ON b.match_id = m.match_id\n",
    "    JOIN\n",
    "        player AS p ON b.striker = p.player_id\n",
    "    GROUP BY\n",
    "        p.player_name,\n",
    "        m.season_year\n",
    "    ORDER BY\n",
    "        m.season_year,\n",
    "        total_runs DESC\n",
    "\"\"\")\n",
    "display(top_scorers_peryear)"
   ]
  },
  {
   "cell_type": "code",
   "execution_count": 0,
   "metadata": {
    "application/vnd.databricks.v1+cell": {
     "cellMetadata": {
      "byteLimit": 2048000,
      "rowLimit": 10000
     },
     "inputWidgets": {},
     "nuid": "8c97cc0b-b166-4d1b-a7ef-4eb127686704",
     "showTitle": false,
     "tableResultSettingsMap": {},
     "title": ""
    }
   },
   "outputs": [
    {
     "name": "stdout",
     "output_type": "stream",
     "text": [
      "+-------------+-----------+----------+\n",
      "|  player_name|season_year|total_runs|\n",
      "+-------------+-----------+----------+\n",
      "|      semarsh|       2008|       614|\n",
      "|     ggambhir|       2008|       532|\n",
      "| stjayasuriya|       2008|       508|\n",
      "|     srwatson|       2008|       463|\n",
      "|      gcsmith|       2008|       437|\n",
      "|  acgilchrist|       2008|       431|\n",
      "|     ykpathan|       2008|       430|\n",
      "|      skraina|       2008|       420|\n",
      "|      msdhoni|       2008|       414|\n",
      "|      vsehwag|       2008|       399|\n",
      "|     rgsharma|       2008|       399|\n",
      "|      rdravid|       2008|       370|\n",
      "|    scganguly|       2008|       349|\n",
      "|      sdhawan|       2008|       340|\n",
      "| kcsangakkara|       2008|       319|\n",
      "|     djhussey|       2008|       318|\n",
      "|    rvuthappa|       2008|       316|\n",
      "|   saasnodkar|       2008|       311|\n",
      "|  yuvrajsingh|       2008|       299|\n",
      "|      papatel|       2008|       297|\n",
      "|yvenugopalrao|       2008|       283|\n",
      "|     jamorkel|       2008|       235|\n",
      "|    mvboucher|       2008|       225|\n",
      "|      jrhopes|       2008|       221|\n",
      "|      amnayar|       2008|       205|\n",
      "|     jhkallis|       2008|       199|\n",
      "|   salmanbutt|       2008|       192|\n",
      "|   sbadrinath|       2008|       192|\n",
      "|    spfleming|       2008|       192|\n",
      "|   bbmccullum|       2008|       188|\n",
      "+-------------+-----------+----------+\n",
      "only showing top 30 rows\n",
      "\n"
     ]
    }
   ],
   "source": [
    "top_scorers_peryear.show(30)"
   ]
  },
  {
   "cell_type": "code",
   "execution_count": 0,
   "metadata": {
    "application/vnd.databricks.v1+cell": {
     "cellMetadata": {
      "byteLimit": 2048000,
      "rowLimit": 10000
     },
     "inputWidgets": {},
     "nuid": "f029ac15-1d20-4b7f-ae86-6cc433ad6bdc",
     "showTitle": false,
     "tableResultSettingsMap": {},
     "title": ""
    }
   },
   "outputs": [
    {
     "name": "stdout",
     "output_type": "stream",
     "text": [
      "+-----------+------------------+-------------+\n",
      "|player_name| avg_runs_per_ball|total_wickets|\n",
      "+-----------+------------------+-------------+\n",
      "|  smharwood|0.3333333333333333|           18|\n",
      "|  aveshkhan|               0.5|           12|\n",
      "|   grnapier|               0.5|            6|\n",
      "|  ankitsoni|               0.5|            6|\n",
      "|     azampa|               0.5|            6|\n",
      "+-----------+------------------+-------------+\n",
      "only showing top 5 rows\n",
      "\n"
     ]
    }
   ],
   "source": [
    "economical_bowlers_powerplay = spark.sql(\"\"\"\n",
    "SELECT \n",
    "p.player_name, \n",
    "AVG(b.runs_scored) AS avg_runs_per_ball, \n",
    "COUNT(b.bowler_wicket) AS total_wickets\n",
    "FROM ball_by_ball b\n",
    "JOIN player_match pm ON b.match_id = pm.match_id AND b.bowler = pm.player_id\n",
    "JOIN player p ON pm.player_id = p.player_id\n",
    "WHERE b.over_id <= 6\n",
    "GROUP BY p.player_name\n",
    "HAVING COUNT(*) >= 1\n",
    "ORDER BY avg_runs_per_ball, total_wickets DESC\n",
    "\"\"\")\n",
    "economical_bowlers_powerplay.show(5)"
   ]
  },
  {
   "cell_type": "code",
   "execution_count": 0,
   "metadata": {
    "application/vnd.databricks.v1+cell": {
     "cellMetadata": {
      "byteLimit": 2048000,
      "rowLimit": 10000
     },
     "inputWidgets": {},
     "nuid": "ecd33e5e-dfc1-4751-81de-1684237996cf",
     "showTitle": false,
     "tableResultSettingsMap": {},
     "title": ""
    }
   },
   "outputs": [
    {
     "name": "stdout",
     "output_type": "stream",
     "text": [
      "+--------+--------------------+---------+--------------------+-------------+\n",
      "|match_id|         toss_winner|toss_name|        match_winner|match_outcome|\n",
      "+--------+--------------------+---------+--------------------+-------------+\n",
      "|  335987|Royal Challengers...|    field|Kolkata Knight Ri...|         Lost|\n",
      "|  335988| Chennai Super Kings|      bat| Chennai Super Kings|          Won|\n",
      "|  335989|    Rajasthan Royals|      bat|    Delhi Daredevils|         Lost|\n",
      "|  335990|      Mumbai Indians|      bat|Royal Challengers...|         Lost|\n",
      "|  335991|     Deccan Chargers|      bat|Kolkata Knight Ri...|         Lost|\n",
      "+--------+--------------------+---------+--------------------+-------------+\n",
      "only showing top 5 rows\n",
      "\n"
     ]
    }
   ],
   "source": [
    "toss_impact = spark.sql(\"\"\"\n",
    "SELECT m.match_id, m.toss_winner, m.toss_name, m.match_winner,\n",
    "       CASE WHEN m.toss_winner = m.match_winner THEN 'Won' ELSE 'Lost' END AS match_outcome\n",
    "FROM match m\n",
    "WHERE m.toss_name IS NOT NULL\n",
    "ORDER BY m.match_id\n",
    "\"\"\")\n",
    "toss_impact.show(5)"
   ]
  },
  {
   "cell_type": "code",
   "execution_count": 0,
   "metadata": {
    "application/vnd.databricks.v1+cell": {
     "cellMetadata": {
      "byteLimit": 2048000,
      "rowLimit": 10000
     },
     "inputWidgets": {},
     "nuid": "efc347f0-1de7-4c40-ae93-71eda75c3027",
     "showTitle": false,
     "tableResultSettingsMap": {},
     "title": ""
    }
   },
   "outputs": [],
   "source": [
    "import matplotlib.pyplot as plt\n",
    "import seaborn as sns"
   ]
  },
  {
   "cell_type": "code",
   "execution_count": 0,
   "metadata": {
    "application/vnd.databricks.v1+cell": {
     "cellMetadata": {
      "byteLimit": 2048000,
      "rowLimit": 10000
     },
     "inputWidgets": {},
     "nuid": "cc35c3e9-1891-4101-ae43-f6c5aa6e7b97",
     "showTitle": false,
     "tableResultSettingsMap": {},
     "title": ""
    }
   },
   "outputs": [
    {
     "data": {
      "image/png": "[encoded data removed]",
      "text/plain": [
       "<Figure size 1500x1000 with 1 Axes>"
      ]
     },
     "metadata": {},
     "output_type": "display_data"
    }
   ],
   "source": [
    "#Convert spark dataframe to pandas for matplotlib\n",
    "economical_bowlers_pd = economical_bowlers_powerplay.toPandas()\n",
    "plt.figure(figsize=(15,10))\n",
    "top_bowlers = economical_bowlers_pd.nsmallest(20,'avg_runs_per_ball')\n",
    "plt.bar(top_bowlers['player_name'],top_bowlers['avg_runs_per_ball'],color = \"blue\")\n",
    "plt.xticks(rotation=40)\n",
    "plt.xlabel(\"Bowler Name\")\n",
    "plt.ylabel(\"Average Runs per Ball\")\n",
    "plt.title(\"Top 20 Economical bowlers in the Powerplay\")\n",
    "plt.tight_layout()\n",
    "plt.show()"
   ]
  },
  {
   "cell_type": "code",
   "execution_count": 0,
   "metadata": {
    "application/vnd.databricks.v1+cell": {
     "cellMetadata": {
      "byteLimit": 2048000,
      "rowLimit": 10000
     },
     "inputWidgets": {},
     "nuid": "123dda54-7581-48eb-9f84-6442333522f8",
     "showTitle": false,
     "tableResultSettingsMap": {},
     "title": ""
    }
   },
   "outputs": [
    {
     "data": {
      "image/png": "[encoded data removed]",
      "text/plain": [
       "<Figure size 1000x600 with 1 Axes>"
      ]
     },
     "metadata": {},
     "output_type": "display_data"
    }
   ],
   "source": [
    "#toss impact visualization\n",
    "toss_impact_id = toss_impact.toPandas()\n",
    "plt.figure(figsize=(10, 6))\n",
    "sns.countplot(x='toss_winner', hue ='match_outcome', data=toss_impact_id)\n",
    "plt.title('Impact of Winning Toss on Match Outcomes')\n",
    "plt.xlabel('Toss Winner')\n",
    "plt.ylabel('Number of Matches')\n",
    "plt.legend(title='Match Outcome')\n",
    "plt.xticks(rotation=50)\n",
    "plt.tight_layout()\n",
    "plt.show()\n",
    "\n"
   ]
  },
  {
   "cell_type": "code",
   "execution_count": 0,
   "metadata": {
    "application/vnd.databricks.v1+cell": {
     "cellMetadata": {
      "byteLimit": 2048000,
      "rowLimit": 10000
     },
     "inputWidgets": {},
     "nuid": "da5e7d80-6bfd-46b6-a6de-cd47bc1536c2",
     "showTitle": false,
     "tableResultSettingsMap": {},
     "title": ""
    }
   },
   "outputs": [],
   "source": [
    "scores_by_venue = spark.sql(\"\"\"\n",
    "SELECT venue_name, AVG(total_runs) AS average_score, MAX(total_runs) AS highest_score\n",
    "FROM (\n",
    "    SELECT ball_by_ball.match_id, match.venue_name, SUM(runs_scored) AS total_runs\n",
    "    FROM ball_by_ball\n",
    "    JOIN match ON ball_by_ball.match_id = match.match_id\n",
    "    GROUP BY ball_by_ball.match_id, match.venue_name\n",
    ")\n",
    "GROUP BY venue_name\n",
    "ORDER BY average_score DESC\n",
    "\"\"\")\n"
   ]
  },
  {
   "cell_type": "code",
   "execution_count": 0,
   "metadata": {
    "application/vnd.databricks.v1+cell": {
     "cellMetadata": {
      "byteLimit": 2048000,
      "rowLimit": 10000
     },
     "inputWidgets": {},
     "nuid": "c3431856-7f1b-4d13-8480-ea318db670bc",
     "showTitle": false,
     "tableResultSettingsMap": {},
     "title": ""
    }
   },
   "outputs": [
    {
     "data": {
      "image/png": "[encoded data removed]",
      "text/plain": [
       "<Figure size 1500x1000 with 1 Axes>"
      ]
     },
     "metadata": {},
     "output_type": "display_data"
    }
   ],
   "source": [
    "scores_pd = scores_by_venue.toPandas()\n",
    "plt.figure(figsize=(15, 10))\n",
    "sns.barplot(x='average_score', y='venue_name', data=scores_pd)\n",
    "plt.title('Distribution of Scores by Venue')\n",
    "plt.xlabel('Average Score')\n",
    "plt.ylabel('Venue')\n",
    "plt.show()\n"
   ]
  },
  {
   "cell_type": "code",
   "execution_count": 0,
   "metadata": {
    "application/vnd.databricks.v1+cell": {
     "cellMetadata": {
      "byteLimit": 2048000,
      "rowLimit": 10000
     },
     "inputWidgets": {},
     "nuid": "47c826e7-19e3-4595-be2c-227dbe952ade",
     "showTitle": false,
     "tableResultSettingsMap": {},
     "title": ""
    }
   },
   "outputs": [],
   "source": [
    "dismissal_types = spark.sql(\"\"\"\n",
    "SELECT out_type, COUNT(*) AS frequency\n",
    "FROM ball_by_ball\n",
    "WHERE out_type IS NOT NULL\n",
    "GROUP BY out_type\n",
    "ORDER BY frequency DESC\n",
    "\"\"\")\n"
   ]
  },
  {
   "cell_type": "code",
   "execution_count": 0,
   "metadata": {
    "application/vnd.databricks.v1+cell": {
     "cellMetadata": {
      "byteLimit": 2048000,
      "rowLimit": 10000
     },
     "inputWidgets": {},
     "nuid": "59d0935d-57e8-420a-8677-74c433cb6cde",
     "showTitle": false,
     "tableResultSettingsMap": {},
     "title": ""
    }
   },
   "outputs": [
    {
     "data": {
      "image/png": "[encoded data removed]",
      "text/plain": [
       "<Figure size 1200x800 with 1 Axes>"
      ]
     },
     "metadata": {},
     "output_type": "display_data"
    }
   ],
   "source": [
    "dismissal_pd = dismissal_types.toPandas()\n",
    "plt.figure(figsize = (12,8))\n",
    "sns.barplot(x = 'frequency',y = 'out_type',data = dismissal_pd)\n",
    "plt.title('Most Frequent Dismissal Types')\n",
    "plt.xlabel('Frequency')\n",
    "plt.ylabel('Dismissal Type')\n",
    "plt.show()"
   ]
  },
  {
   "cell_type": "code",
   "execution_count": 0,
   "metadata": {
    "application/vnd.databricks.v1+cell": {
     "cellMetadata": {
      "byteLimit": 2048000,
      "rowLimit": 10000
     },
     "inputWidgets": {},
     "nuid": "958e6c05-ed38-4706-99a4-edfac2295a6d",
     "showTitle": false,
     "tableResultSettingsMap": {},
     "title": ""
    }
   },
   "outputs": [],
   "source": [
    "team_toss_win_performance = spark.sql(\"\"\"\n",
    "SELECT team1, COUNT(*) AS matches_played, SUM(\n",
    "    CASE WHEN toss_winner = match_winner THEN 1 ELSE 0 END\n",
    "    ) AS wins_after_toss\n",
    "FROM match\n",
    "WHERE toss_winner = team1\n",
    "GROUP BY team1\n",
    "ORDER BY wins_after_toss DESC\n",
    "\"\"\")\n"
   ]
  },
  {
   "cell_type": "code",
   "execution_count": 0,
   "metadata": {
    "application/vnd.databricks.v1+cell": {
     "cellMetadata": {
      "byteLimit": 2048000,
      "rowLimit": 10000
     },
     "inputWidgets": {},
     "nuid": "2b38ad79-332b-4fd2-ba85-b597f9afe0da",
     "showTitle": false,
     "tableResultSettingsMap": {},
     "title": ""
    }
   },
   "outputs": [
    {
     "data": {
      "image/png": "[encoded data removed]",
      "text/plain": [
       "<Figure size 1200x800 with 1 Axes>"
      ]
     },
     "metadata": {},
     "output_type": "display_data"
    }
   ],
   "source": [
    "team_pd = team_toss_win_performance.toPandas()\n",
    "plt.figure(figsize = (12,8))\n",
    "sns.barplot(x = 'wins_after_toss' , y = 'team1', data = team_pd)\n",
    "plt.title('Team performnace after winning the Toss')\n",
    "plt.xlabel('Wins after toss')\n",
    "plt.ylabel('Teams')\n",
    "plt.show()"
   ]
  },
  {
   "cell_type": "code",
   "execution_count": 0,
   "metadata": {
    "application/vnd.databricks.v1+cell": {
     "cellMetadata": {
      "byteLimit": 2048000,
      "rowLimit": 10000
     },
     "inputWidgets": {},
     "nuid": "f82fe7e5-c48a-4fee-b2e4-7d551f18f21b",
     "showTitle": false,
     "tableResultSettingsMap": {},
     "title": ""
    }
   },
   "outputs": [
    {
     "name": "stdout",
     "output_type": "stream",
     "text": [
      "Requirement already satisfied: azure-cosmos in /local_disk0/.ephemeral_nfs/envs/pythonEnv-2396b74a-d7a2-40f9-be89-30c18f7b8690/lib/python3.11/site-packages (4.9.0)\n",
      "Requirement already satisfied: azure-core>=1.30.0 in /databricks/python3/lib/python3.11/site-packages (from azure-cosmos) (1.30.2)\n",
      "Requirement already satisfied: typing-extensions>=4.6.0 in /databricks/python3/lib/python3.11/site-packages (from azure-cosmos) (4.10.0)\n",
      "Requirement already satisfied: requests>=2.21.0 in /databricks/python3/lib/python3.11/site-packages (from azure-core>=1.30.0->azure-cosmos) (2.31.0)\n",
      "Requirement already satisfied: six>=1.11.0 in /usr/lib/python3/dist-packages (from azure-core>=1.30.0->azure-cosmos) (1.16.0)\n",
      "Requirement already satisfied: charset-normalizer<4,>=2 in /databricks/python3/lib/python3.11/site-packages (from requests>=2.21.0->azure-core>=1.30.0->azure-cosmos) (2.0.4)\n",
      "Requirement already satisfied: idna<4,>=2.5 in /databricks/python3/lib/python3.11/site-packages (from requests>=2.21.0->azure-core>=1.30.0->azure-cosmos) (3.4)\n",
      "Requirement already satisfied: urllib3<3,>=1.21.1 in /databricks/python3/lib/python3.11/site-packages (from requests>=2.21.0->azure-core>=1.30.0->azure-cosmos) (1.26.16)\n",
      "Requirement already satisfied: certifi>=2017.4.17 in /databricks/python3/lib/python3.11/site-packages (from requests>=2.21.0->azure-core>=1.30.0->azure-cosmos) (2023.7.22)\n",
      "\u001b[43mNote: you may need to restart the kernel using %restart_python or dbutils.library.restartPython() to use updated packages.\u001b[0m\n"
     ]
    }
   ],
   "source": [
    "%pip install azure-cosmos"
   ]
  },
  {
   "cell_type": "code",
   "execution_count": 0,
   "metadata": {
    "application/vnd.databricks.v1+cell": {
     "cellMetadata": {
      "byteLimit": 2048000,
      "rowLimit": 10000
     },
     "inputWidgets": {},
     "nuid": "254766e5-b73b-4580-907c-176a7ffced8a",
     "showTitle": false,
     "tableResultSettingsMap": {},
     "title": ""
    }
   },
   "outputs": [],
   "source": [
    "%restart_python"
   ]
  },
  {
   "cell_type": "code",
   "execution_count": 0,
   "metadata": {
    "application/vnd.databricks.v1+cell": {
     "cellMetadata": {
      "byteLimit": 2048000,
      "rowLimit": 10000
     },
     "inputWidgets": {},
     "nuid": "a8606bc5-aecd-4aba-afd3-521b1a6be016",
     "showTitle": false,
     "tableResultSettingsMap": {},
     "title": ""
    }
   },
   "outputs": [
    {
     "name": "stdout",
     "output_type": "stream",
     "text": [
      "[Error] ballcontainer1: (BadRequest) Message: {\"Errors\":[\"There was an error in parsing the JSON for the request. Ensure that the JSON string is properly constructed.\"]}\r\n",
      "ActivityId: 070b99a4-fe33-45cd-bded-5dee0333abbe, Request URI: /apps/f43dea62-0f8f-41b8-b3f2-6d16fc4be622/services/1f70bd2a-a18f-47c0-b7d3-64f17ee3a46c/partitions/a1ea141c-ae6b-40f4-8058-4d9f14aea7cb/replicas/133957104026295977p, RequestStats: \r\n",
      "RequestStartTime: 2025-07-03T09:29:11.3170790Z, RequestEndTime: 2025-07-03T09:29:11.3186018Z,  Number of regions attempted:1\r\n",
      "{\"systemHistory\":[{\"dateUtc\":\"2025-07-03T09:28:16.4028013Z\",\"cpu\":0.384,\"memory\":467797436.000,\"threadInfo\":{\"isThreadStarving\":\"False\",\"threadWaitIntervalInMs\":0.0929,\"availableThreads\":32765,\"minThreads\":104,\"maxThreads\":32767},\"numberOfOpenTcpConnection\":758},{\"dateUtc\":\"2025-07-03T09:28:26.4129312Z\",\"cpu\":0.549,\"memory\":467459096.000,\"threadInfo\":{\"isThreadStarving\":\"False\",\"threadWaitIntervalInMs\":0.042,\"availableThreads\":32765,\"minThreads\":104,\"maxThreads\":32767},\"numberOfOpenTcpConnection\":758},{\"dateUtc\":\"2025-07-03T09:28:36.4231536Z\",\"cpu\":0.517,\"memory\":467238320.000,\"threadInfo\":{\"isThreadStarving\":\"False\",\"threadWaitIntervalInMs\":0.1689,\"availableThreads\":32765,\"minThreads\":104,\"maxThreads\":32767},\"numberOfOpenTcpConnection\":758},{\"dateUtc\":\"2025-07-03T09:28:46.4333676Z\",\"cpu\":0.438,\"memory\":467239912.000,\"threadInfo\":{\"isThreadStarving\":\"False\",\"threadWaitIntervalInMs\":0.3644,\"availableThreads\":32765,\"minThreads\":104,\"maxThreads\":32767},\"numberOfOpenTcpConnection\":757},{\"dateUtc\":\"2025-07-03T09:28:56.4435906Z\",\"cpu\":0.420,\"memory\":467246576.000,\"threadInfo\":{\"isThreadStarving\":\"False\",\"threadWaitIntervalInMs\":0.0521,\"availableThreads\":32765,\"minThreads\":104,\"maxThreads\":32767},\"numberOfOpenTcpConnection\":758},{\"dateUtc\":\"2025-07-03T09:29:06.4536663Z\",\"cpu\":0.357,\"memory\":467245580.000,\"threadInfo\":{\"isThreadStarving\":\"False\",\"threadWaitIntervalInMs\":0.0908,\"availableThreads\":32765,\"minThreads\":104,\"maxThreads\":32767},\"numberOfOpenTcpConnection\":758}]}\r\n",
      "RequestStart: 2025-07-03T09:29:11.3172225Z; ResponseTime: 2025-07-03T09:29:11.3186018Z; StoreResult: StorePhysicalAddress: rntbd://10.0.2.107:14300/apps/f43dea62-0f8f-41b8-b3f2-6d16fc4be622/services/1f70bd2a-a18f-47c0-b7d3-64f17ee3a46c/partitions/a1ea141c-ae6b-40f4-8058-4d9f14aea7cb/replicas/133957104026295977p, LSN: 98617, GlobalCommittedLsn: 98617, PartitionKeyRangeId: 0, IsValid: True, StatusCode: 400, SubStatusCode: 0, RequestCharge: 0, ItemLSN: -1, SessionToken: -1#98617, UsingLocalLSN: False, TransportException: null, BELatencyMs: 0.38, ActivityId: 070b99a4-fe33-45cd-bded-5dee0333abbe, RetryAfterInMs: , ReplicaHealthStatuses: [(port: 14300 | status: Connected | lkt: 7/3/2025 9:18:48 AM)], TransportRequestTimeline: {\"requestTimeline\":[{\"event\": \"Created\", \"startTimeUtc\": \"2025-07-03T09:29:11.3172235Z\", \"durationInMs\": 0.0265},{\"event\": \"ChannelAcquisitionStarted\", \"startTimeUtc\": \"2025-07-03T09:29:11.3172500Z\", \"durationInMs\": 0.0109},{\"event\": \"Pipelined\", \"startTimeUtc\": \"2025-07-03T09:29:11.3172609Z\", \"durationInMs\": 0.0741},{\"event\": \"Transit Time\", \"startTimeUtc\": \"2025-07-03T09:29:11.3173350Z\", \"durationInMs\": 0.9918},{\"event\": \"Received\", \"startTimeUtc\": \"2025-07-03T09:29:11.3183268Z\", \"durationInMs\": 0.063},{\"event\": \"Completed\", \"startTimeUtc\": \"2025-07-03T09:29:11.3183898Z\", \"durationInMs\": 0}],\"serviceEndpointStats\":{\"inflightRequests\":1,\"openConnections\":1},\"connectionStats\":{\"waitforConnectionInit\":\"False\",\"callsPendingReceive\":0,\"lastSendAttempt\":\"2025-07-03T09:28:37.5692900Z\",\"lastSend\":\"2025-07-03T09:28:37.5693204Z\",\"lastReceive\":\"2025-07-03T09:28:37.5699663Z\"},\"requestSizeInBytes\":1478,\"requestBodySizeInBytes\":893,\"responseMetadataSizeInBytes\":186,\"responseBodySizeInBytes\":123};\r\n",
      " ResourceType: Document, OperationType: Upsert\r\n",
      ", SDK: Microsoft.Azure.Documents.Common/2.14.0\n",
      "Code: BadRequest\n",
      "Message: Message: {\"Errors\":[\"There was an error in parsing the JSON for the request. Ensure that the JSON string is properly constructed.\"]}\r\n",
      "ActivityId: 070b99a4-fe33-45cd-bded-5dee0333abbe, Request URI: /apps/f43dea62-0f8f-41b8-b3f2-6d16fc4be622/services/1f70bd2a-a18f-47c0-b7d3-64f17ee3a46c/partitions/a1ea141c-ae6b-40f4-8058-4d9f14aea7cb/replicas/133957104026295977p, RequestStats: \r\n",
      "RequestStartTime: 2025-07-03T09:29:11.3170790Z, RequestEndTime: 2025-07-03T09:29:11.3186018Z,  Number of regions attempted:1\r\n",
      "{\"systemHistory\":[{\"dateUtc\":\"2025-07-03T09:28:16.4028013Z\",\"cpu\":0.384,\"memory\":467797436.000,\"threadInfo\":{\"isThreadStarving\":\"False\",\"threadWaitIntervalInMs\":0.0929,\"availableThreads\":32765,\"minThreads\":104,\"maxThreads\":32767},\"numberOfOpenTcpConnection\":758},{\"dateUtc\":\"2025-07-03T09:28:26.4129312Z\",\"cpu\":0.549,\"memory\":467459096.000,\"threadInfo\":{\"isThreadStarving\":\"False\",\"threadWaitIntervalInMs\":0.042,\"availableThreads\":32765,\"minThreads\":104,\"maxThreads\":32767},\"numberOfOpenTcpConnection\":758},{\"dateUtc\":\"2025-07-03T09:28:36.4231536Z\",\"cpu\":0.517,\"memory\":467238320.000,\"threadInfo\":{\"isThreadStarving\":\"False\",\"threadWaitIntervalInMs\":0.1689,\"availableThreads\":32765,\"minThreads\":104,\"maxThreads\":32767},\"numberOfOpenTcpConnection\":758},{\"dateUtc\":\"2025-07-03T09:28:46.4333676Z\",\"cpu\":0.438,\"memory\":467239912.000,\"threadInfo\":{\"isThreadStarving\":\"False\",\"threadWaitIntervalInMs\":0.3644,\"availableThreads\":32765,\"minThreads\":104,\"maxThreads\":32767},\"numberOfOpenTcpConnection\":757},{\"dateUtc\":\"2025-07-03T09:28:56.4435906Z\",\"cpu\":0.420,\"memory\":467246576.000,\"threadInfo\":{\"isThreadStarving\":\"False\",\"threadWaitIntervalInMs\":0.0521,\"availableThreads\":32765,\"minThreads\":104,\"maxThreads\":32767},\"numberOfOpenTcpConnection\":758},{\"dateUtc\":\"2025-07-03T09:29:06.4536663Z\",\"cpu\":0.357,\"memory\":467245580.000,\"threadInfo\":{\"isThreadStarving\":\"False\",\"threadWaitIntervalInMs\":0.0908,\"availableThreads\":32765,\"minThreads\":104,\"maxThreads\":32767},\"numberOfOpenTcpConnection\":758}]}\r\n",
      "RequestStart: 2025-07-03T09:29:11.3172225Z; ResponseTime: 2025-07-03T09:29:11.3186018Z; StoreResult: StorePhysicalAddress: rntbd://10.0.2.107:14300/apps/f43dea62-0f8f-41b8-b3f2-6d16fc4be622/services/1f70bd2a-a18f-47c0-b7d3-64f17ee3a46c/partitions/a1ea141c-ae6b-40f4-8058-4d9f14aea7cb/replicas/133957104026295977p, LSN: 98617, GlobalCommittedLsn: 98617, PartitionKeyRangeId: 0, IsValid: True, StatusCode: 400, SubStatusCode: 0, RequestCharge: 0, ItemLSN: -1, SessionToken: -1#98617, UsingLocalLSN: False, TransportException: null, BELatencyMs: 0.38, ActivityId: 070b99a4-fe33-45cd-bded-5dee0333abbe, RetryAfterInMs: , ReplicaHealthStatuses: [(port: 14300 | status: Connected | lkt: 7/3/2025 9:18:48 AM)], TransportRequestTimeline: {\"requestTimeline\":[{\"event\": \"Created\", \"startTimeUtc\": \"2025-07-03T09:29:11.3172235Z\", \"durationInMs\": 0.0265},{\"event\": \"ChannelAcquisitionStarted\", \"startTimeUtc\": \"2025-07-03T09:29:11.3172500Z\", \"durationInMs\": 0.0109},{\"event\": \"Pipelined\", \"startTimeUtc\": \"2025-07-03T09:29:11.3172609Z\", \"durationInMs\": 0.0741},{\"event\": \"Transit Time\", \"startTimeUtc\": \"2025-07-03T09:29:11.3173350Z\", \"durationInMs\": 0.9918},{\"event\": \"Received\", \"startTimeUtc\": \"2025-07-03T09:29:11.3183268Z\", \"durationInMs\": 0.063},{\"event\": \"Completed\", \"startTimeUtc\": \"2025-07-03T09:29:11.3183898Z\", \"durationInMs\": 0}],\"serviceEndpointStats\":{\"inflightRequests\":1,\"openConnections\":1},\"connectionStats\":{\"waitforConnectionInit\":\"False\",\"callsPendingReceive\":0,\"lastSendAttempt\":\"2025-07-03T09:28:37.5692900Z\",\"lastSend\":\"2025-07-03T09:28:37.5693204Z\",\"lastReceive\":\"2025-07-03T09:28:37.5699663Z\"},\"requestSizeInBytes\":1478,\"requestBodySizeInBytes\":893,\"responseMetadataSizeInBytes\":186,\"responseBodySizeInBytes\":123};\r\n",
      " ResourceType: Document, OperationType: Upsert\r\n",
      ", SDK: Microsoft.Azure.Documents.Common/2.14.0\n",
      "Row: {'MatcH_id': 335987, 'Over_id': 1, 'Ball_id': 1, 'Innings_No': 1, 'Team_Batting': '1', 'Team_Bowling': '2', 'Striker_Batting_Position': 1.0, 'Extra_Type': 'legbyes', 'Runs_Scored': 0, 'Extra_runs': 1, 'Wides': 0, 'Legbyes': 1, 'Byes': 0, 'Noballs': 0, 'Penalty': 0, 'Bowler_Extras': 0, 'Out_type': 'Not Applicable', 'Caught': 0, 'Bowled': 0, 'Run_out': 0, 'LBW': 0, 'Retired_hurt': 0, 'Stumped': 0, 'caught_and_bowled': 0, 'hit_wicket': 0, 'ObstructingFeild': 0, 'Bowler_Wicket': 0, 'Match_Date': '4/18/2008', 'Season': 2008, 'Striker': 1, 'Non_Striker': 2, 'Bowler': 14, 'Player_Out': nan, 'Fielders': nan, 'Striker_match_SK': 12705, 'StrikerSK': 0, 'NonStriker_match_SK': 12706, 'NONStriker_SK': 1, 'Fielder_match_SK': -1, 'Fielder_SK': -1, 'Bowler_match_SK': 12702, 'BOWLER_SK': 13, 'PlayerOut_match_SK': -1, 'BattingTeam_SK': 0, 'BowlingTeam_SK': 1, 'Keeper_Catch': 0, 'Player_out_sk': 0, 'MatchDateSK': 20080418, 'running_total_runs': 0, 'id': '07a408f4-f8ec-48a2-b339-c666e92023b8'}\n",
      "[Error] ballcontainer1: (BadRequest) Message: {\"Errors\":[\"There was an error in parsing the JSON for the request. Ensure that the JSON string is properly constructed.\"]}\r\n",
      "ActivityId: 2b2bf555-6b9d-4700-ad8a-a76b215c32aa, Request URI: /apps/f43dea62-0f8f-41b8-b3f2-6d16fc4be622/services/1f70bd2a-a18f-47c0-b7d3-64f17ee3a46c/partitions/a1ea141c-ae6b-40f4-8058-4d9f14aea7cb/replicas/133957104026295977p, RequestStats: \r\n",
      "RequestStartTime: 2025-07-03T09:29:11.3254887Z, RequestEndTime: 2025-07-03T09:29:11.3265524Z,  Number of regions attempted:1\r\n",
      "{\"systemHistory\":[{\"dateUtc\":\"2025-07-03T09:28:16.4028013Z\",\"cpu\":0.384,\"memory\":467797436.000,\"threadInfo\":{\"isThreadStarving\":\"False\",\"threadWaitIntervalInMs\":0.0929,\"availableThreads\":32765,\"minThreads\":104,\"maxThreads\":32767},\"numberOfOpenTcpConnection\":758},{\"dateUtc\":\"2025-07-03T09:28:26.4129312Z\",\"cpu\":0.549,\"memory\":467459096.000,\"threadInfo\":{\"isThreadStarving\":\"False\",\"threadWaitIntervalInMs\":0.042,\"availableThreads\":32765,\"minThreads\":104,\"maxThreads\":32767},\"numberOfOpenTcpConnection\":758},{\"dateUtc\":\"2025-07-03T09:28:36.4231536Z\",\"cpu\":0.517,\"memory\":467238320.000,\"threadInfo\":{\"isThreadStarving\":\"False\",\"threadWaitIntervalInMs\":0.1689,\"availableThreads\":32765,\"minThreads\":104,\"maxThreads\":32767},\"numberOfOpenTcpConnection\":758},{\"dateUtc\":\"2025-07-03T09:28:46.4333676Z\",\"cpu\":0.438,\"memory\":467239912.000,\"threadInfo\":{\"isThreadStarving\":\"False\",\"threadWaitIntervalInMs\":0.3644,\"availableThreads\":32765,\"minThreads\":104,\"maxThreads\":32767},\"numberOfOpenTcpConnection\":757},{\"dateUtc\":\"2025-07-03T09:28:56.4435906Z\",\"cpu\":0.420,\"memory\":467246576.000,\"threadInfo\":{\"isThreadStarving\":\"False\",\"threadWaitIntervalInMs\":0.0521,\"availableThreads\":32765,\"minThreads\":104,\"maxThreads\":32767},\"numberOfOpenTcpConnection\":758},{\"dateUtc\":\"2025-07-03T09:29:06.4536663Z\",\"cpu\":0.357,\"memory\":467245580.000,\"threadInfo\":{\"isThreadStarving\":\"False\",\"threadWaitIntervalInMs\":0.0908,\"availableThreads\":32765,\"minThreads\":104,\"maxThreads\":32767},\"numberOfOpenTcpConnection\":758}]}\r\n",
      "RequestStart: 2025-07-03T09:29:11.3255569Z; ResponseTime: 2025-07-03T09:29:11.3265524Z; StoreResult: StorePhysicalAddress: rntbd://10.0.2.107:14300/apps/f43dea62-0f8f-41b8-b3f2-6d16fc4be622/services/1f70bd2a-a18f-47c0-b7d3-64f17ee3a46c/partitions/a1ea141c-ae6b-40f4-8058-4d9f14aea7cb/replicas/133957104026295977p, LSN: 98617, GlobalCommittedLsn: 98617, PartitionKeyRangeId: 0, IsValid: True, StatusCode: 400, SubStatusCode: 0, RequestCharge: 0, ItemLSN: -1, SessionToken: -1#98617, UsingLocalLSN: False, TransportException: null, BELatencyMs: 0.301, ActivityId: 2b2bf555-6b9d-4700-ad8a-a76b215c32aa, RetryAfterInMs: , ReplicaHealthStatuses: [(port: 14300 | status: Connected | lkt: 7/3/2025 9:18:48 AM)], TransportRequestTimeline: {\"requestTimeline\":[{\"event\": \"Created\", \"startTimeUtc\": \"2025-07-03T09:29:11.3255578Z\", \"durationInMs\": 0.0172},{\"event\": \"ChannelAcquisitionStarted\", \"startTimeUtc\": \"2025-07-03T09:29:11.3255750Z\", \"durationInMs\": 0.0021},{\"event\": \"Pipelined\", \"startTimeUtc\": \"2025-07-03T09:29:11.3255771Z\", \"durationInMs\": 0.0592},{\"event\": \"Transit Time\", \"startTimeUtc\": \"2025-07-03T09:29:11.3256363Z\", \"durationInMs\": 0.7041},{\"event\": \"Received\", \"startTimeUtc\": \"2025-07-03T09:29:11.3263404Z\", \"durationInMs\": 0.0425},{\"event\": \"Completed\", \"startTimeUtc\": \"2025-07-03T09:29:11.3263829Z\", \"durationInMs\": 0}],\"serviceEndpointStats\":{\"inflightRequests\":1,\"openConnections\":1},\"connectionStats\":{\"waitforConnectionInit\":\"False\",\"callsPendingReceive\":0,\"lastSendAttempt\":\"2025-07-03T09:29:11.3172989Z\",\"lastSend\":\"2025-07-03T09:29:11.3173349Z\",\"lastReceive\":\"2025-07-03T09:29:11.3183243Z\"},\"requestSizeInBytes\":1497,\"requestBodySizeInBytes\":895,\"responseMetadataSizeInBytes\":186,\"responseBodySizeInBytes\":123};\r\n",
      " ResourceType: Document, OperationType: Upsert\r\n",
      ", SDK: Microsoft.Azure.Documents.Common/2.14.0\n",
      "Code: BadRequest\n",
      "Message: Message: {\"Errors\":[\"There was an error in parsing the JSON for the request. Ensure that the JSON string is properly constructed.\"]}\r\n",
      "ActivityId: 2b2bf555-6b9d-4700-ad8a-a76b215c32aa, Request URI: /apps/f43dea62-0f8f-41b8-b3f2-6d16fc4be622/services/1f70bd2a-a18f-47c0-b7d3-64f17ee3a46c/partitions/a1ea141c-ae6b-40f4-8058-4d9f14aea7cb/replicas/133957104026295977p, RequestStats: \r\n",
      "RequestStartTime: 2025-07-03T09:29:11.3254887Z, RequestEndTime: 2025-07-03T09:29:11.3265524Z,  Number of regions attempted:1\r\n",
      "{\"systemHistory\":[{\"dateUtc\":\"2025-07-03T09:28:16.4028013Z\",\"cpu\":0.384,\"memory\":467797436.000,\"threadInfo\":{\"isThreadStarving\":\"False\",\"threadWaitIntervalInMs\":0.0929,\"availableThreads\":32765,\"minThreads\":104,\"maxThreads\":32767},\"numberOfOpenTcpConnection\":758},{\"dateUtc\":\"2025-07-03T09:28:26.4129312Z\",\"cpu\":0.549,\"memory\":467459096.000,\"threadInfo\":{\"isThreadStarving\":\"False\",\"threadWaitIntervalInMs\":0.042,\"availableThreads\":32765,\"minThreads\":104,\"maxThreads\":32767},\"numberOfOpenTcpConnection\":758},{\"dateUtc\":\"2025-07-03T09:28:36.4231536Z\",\"cpu\":0.517,\"memory\":467238320.000,\"threadInfo\":{\"isThreadStarving\":\"False\",\"threadWaitIntervalInMs\":0.1689,\"availableThreads\":32765,\"minThreads\":104,\"maxThreads\":32767},\"numberOfOpenTcpConnection\":758},{\"dateUtc\":\"2025-07-03T09:28:46.4333676Z\",\"cpu\":0.438,\"memory\":467239912.000,\"threadInfo\":{\"isThreadStarving\":\"False\",\"threadWaitIntervalInMs\":0.3644,\"availableThreads\":32765,\"minThreads\":104,\"maxThreads\":32767},\"numberOfOpenTcpConnection\":757},{\"dateUtc\":\"2025-07-03T09:28:56.4435906Z\",\"cpu\":0.420,\"memory\":467246576.000,\"threadInfo\":{\"isThreadStarving\":\"False\",\"threadWaitIntervalInMs\":0.0521,\"availableThreads\":32765,\"minThreads\":104,\"maxThreads\":32767},\"numberOfOpenTcpConnection\":758},{\"dateUtc\":\"2025-07-03T09:29:06.4536663Z\",\"cpu\":0.357,\"memory\":467245580.000,\"threadInfo\":{\"isThreadStarving\":\"False\",\"threadWaitIntervalInMs\":0.0908,\"availableThreads\":32765,\"minThreads\":104,\"maxThreads\":32767},\"numberOfOpenTcpConnection\":758}]}\r\n",
      "RequestStart: 2025-07-03T09:29:11.3255569Z; ResponseTime: 2025-07-03T09:29:11.3265524Z; StoreResult: StorePhysicalAddress: rntbd://10.0.2.107:14300/apps/f43dea62-0f8f-41b8-b3f2-6d16fc4be622/services/1f70bd2a-a18f-47c0-b7d3-64f17ee3a46c/partitions/a1ea141c-ae6b-40f4-8058-4d9f14aea7cb/replicas/133957104026295977p, LSN: 98617, GlobalCommittedLsn: 98617, PartitionKeyRangeId: 0, IsValid: True, StatusCode: 400, SubStatusCode: 0, RequestCharge: 0, ItemLSN: -1, SessionToken: -1#98617, UsingLocalLSN: False, TransportException: null, BELatencyMs: 0.301, ActivityId: 2b2bf555-6b9d-4700-ad8a-a76b215c32aa, RetryAfterInMs: , ReplicaHealthStatuses: [(port: 14300 | status: Connected | lkt: 7/3/2025 9:18:48 AM)], TransportRequestTimeline: {\"requestTimeline\":[{\"event\": \"Created\", \"startTimeUtc\": \"2025-07-03T09:29:11.3255578Z\", \"durationInMs\": 0.0172},{\"event\": \"ChannelAcquisitionStarted\", \"startTimeUtc\": \"2025-07-03T09:29:11.3255750Z\", \"durationInMs\": 0.0021},{\"event\": \"Pipelined\", \"startTimeUtc\": \"2025-07-03T09:29:11.3255771Z\", \"durationInMs\": 0.0592},{\"event\": \"Transit Time\", \"startTimeUtc\": \"2025-07-03T09:29:11.3256363Z\", \"durationInMs\": 0.7041},{\"event\": \"Received\", \"startTimeUtc\": \"2025-07-03T09:29:11.3263404Z\", \"durationInMs\": 0.0425},{\"event\": \"Completed\", \"startTimeUtc\": \"2025-07-03T09:29:11.3263829Z\", \"durationInMs\": 0}],\"serviceEndpointStats\":{\"inflightRequests\":1,\"openConnections\":1},\"connectionStats\":{\"waitforConnectionInit\":\"False\",\"callsPendingReceive\":0,\"lastSendAttempt\":\"2025-07-03T09:29:11.3172989Z\",\"lastSend\":\"2025-07-03T09:29:11.3173349Z\",\"lastReceive\":\"2025-07-03T09:29:11.3183243Z\"},\"requestSizeInBytes\":1497,\"requestBodySizeInBytes\":895,\"responseMetadataSizeInBytes\":186,\"responseBodySizeInBytes\":123};\r\n",
      " ResourceType: Document, OperationType: Upsert\r\n",
      ", SDK: Microsoft.Azure.Documents.Common/2.14.0\n",
      "Row: {'MatcH_id': 335987, 'Over_id': 1, 'Ball_id': 2, 'Innings_No': 1, 'Team_Batting': '1', 'Team_Bowling': '2', 'Striker_Batting_Position': 2.0, 'Extra_Type': 'No Extras', 'Runs_Scored': 0, 'Extra_runs': 0, 'Wides': 0, 'Legbyes': 0, 'Byes': 0, 'Noballs': 0, 'Penalty': 0, 'Bowler_Extras': 0, 'Out_type': 'Not Applicable', 'Caught': 0, 'Bowled': 0, 'Run_out': 0, 'LBW': 0, 'Retired_hurt': 0, 'Stumped': 0, 'caught_and_bowled': 0, 'hit_wicket': 0, 'ObstructingFeild': 0, 'Bowler_Wicket': 0, 'Match_Date': '4/18/2008', 'Season': 2008, 'Striker': 2, 'Non_Striker': 1, 'Bowler': 14, 'Player_Out': nan, 'Fielders': nan, 'Striker_match_SK': 12706, 'StrikerSK': 1, 'NonStriker_match_SK': 12705, 'NONStriker_SK': 0, 'Fielder_match_SK': -1, 'Fielder_SK': -1, 'Bowler_match_SK': 12702, 'BOWLER_SK': 13, 'PlayerOut_match_SK': -1, 'BattingTeam_SK': 0, 'BowlingTeam_SK': 1, 'Keeper_Catch': 0, 'Player_out_sk': 0, 'MatchDateSK': 20080418, 'running_total_runs': 0, 'id': '4d3c4869-98fd-4922-9965-7ed46bc5acf3'}\n",
      "[Error] ballcontainer1: (BadRequest) Message: {\"Errors\":[\"There was an error in parsing the JSON for the request. Ensure that the JSON string is properly constructed.\"]}\r\n",
      "ActivityId: c2fef086-0420-42be-b8bc-46a9aa5f44c5, Request URI: /apps/f43dea62-0f8f-41b8-b3f2-6d16fc4be622/services/1f70bd2a-a18f-47c0-b7d3-64f17ee3a46c/partitions/a1ea141c-ae6b-40f4-8058-4d9f14aea7cb/replicas/133957104026295977p, RequestStats: \r\n",
      "RequestStartTime: 2025-07-03T09:29:11.3329395Z, RequestEndTime: 2025-07-03T09:29:11.3339679Z,  Number of regions attempted:1\r\n",
      "{\"systemHistory\":[{\"dateUtc\":\"2025-07-03T09:28:16.4028013Z\",\"cpu\":0.384,\"memory\":467797436.000,\"threadInfo\":{\"isThreadStarving\":\"False\",\"threadWaitIntervalInMs\":0.0929,\"availableThreads\":32765,\"minThreads\":104,\"maxThreads\":32767},\"numberOfOpenTcpConnection\":758},{\"dateUtc\":\"2025-07-03T09:28:26.4129312Z\",\"cpu\":0.549,\"memory\":467459096.000,\"threadInfo\":{\"isThreadStarving\":\"False\",\"threadWaitIntervalInMs\":0.042,\"availableThreads\":32765,\"minThreads\":104,\"maxThreads\":32767},\"numberOfOpenTcpConnection\":758},{\"dateUtc\":\"2025-07-03T09:28:36.4231536Z\",\"cpu\":0.517,\"memory\":467238320.000,\"threadInfo\":{\"isThreadStarving\":\"False\",\"threadWaitIntervalInMs\":0.1689,\"availableThreads\":32765,\"minThreads\":104,\"maxThreads\":32767},\"numberOfOpenTcpConnection\":758},{\"dateUtc\":\"2025-07-03T09:28:46.4333676Z\",\"cpu\":0.438,\"memory\":467239912.000,\"threadInfo\":{\"isThreadStarving\":\"False\",\"threadWaitIntervalInMs\":0.3644,\"availableThreads\":32765,\"minThreads\":104,\"maxThreads\":32767},\"numberOfOpenTcpConnection\":757},{\"dateUtc\":\"2025-07-03T09:28:56.4435906Z\",\"cpu\":0.420,\"memory\":467246576.000,\"threadInfo\":{\"isThreadStarving\":\"False\",\"threadWaitIntervalInMs\":0.0521,\"availableThreads\":32765,\"minThreads\":104,\"maxThreads\":32767},\"numberOfOpenTcpConnection\":758},{\"dateUtc\":\"2025-07-03T09:29:06.4536663Z\",\"cpu\":0.357,\"memory\":467245580.000,\"threadInfo\":{\"isThreadStarving\":\"False\",\"threadWaitIntervalInMs\":0.0908,\"availableThreads\":32765,\"minThreads\":104,\"maxThreads\":32767},\"numberOfOpenTcpConnection\":758}]}\r\n",
      "RequestStart: 2025-07-03T09:29:11.3330007Z; ResponseTime: 2025-07-03T09:29:11.3339679Z; StoreResult: StorePhysicalAddress: rntbd://10.0.2.107:14300/apps/f43dea62-0f8f-41b8-b3f2-6d16fc4be622/services/1f70bd2a-a18f-47c0-b7d3-64f17ee3a46c/partitions/a1ea141c-ae6b-40f4-8058-4d9f14aea7cb/replicas/133957104026295977p, LSN: 98617, GlobalCommittedLsn: 98617, PartitionKeyRangeId: 0, IsValid: True, StatusCode: 400, SubStatusCode: 0, RequestCharge: 0, ItemLSN: -1, SessionToken: -1#98617, UsingLocalLSN: False, TransportException: null, BELatencyMs: 0.274, ActivityId: c2fef086-0420-42be-b8bc-46a9aa5f44c5, RetryAfterInMs: , ReplicaHealthStatuses: [(port: 14300 | status: Connected | lkt: 7/3/2025 9:18:48 AM)], TransportRequestTimeline: {\"requestTimeline\":[{\"event\": \"Created\", \"startTimeUtc\": \"2025-07-03T09:29:11.3330015Z\", \"durationInMs\": 0.0142},{\"event\": \"ChannelAcquisitionStarted\", \"startTimeUtc\": \"2025-07-03T09:29:11.3330157Z\", \"durationInMs\": 0.0015},{\"event\": \"Pipelined\", \"startTimeUtc\": \"2025-07-03T09:29:11.3330172Z\", \"durationInMs\": 0.0553},{\"event\": \"Transit Time\", \"startTimeUtc\": \"2025-07-03T09:29:11.3330725Z\", \"durationInMs\": 0.6879},{\"event\": \"Received\", \"startTimeUtc\": \"2025-07-03T09:29:11.3337604Z\", \"durationInMs\": 0.0333},{\"event\": \"Completed\", \"startTimeUtc\": \"2025-07-03T09:29:11.3337937Z\", \"durationInMs\": 0}],\"serviceEndpointStats\":{\"inflightRequests\":1,\"openConnections\":1},\"connectionStats\":{\"waitforConnectionInit\":\"False\",\"callsPendingReceive\":0,\"lastSendAttempt\":\"2025-07-03T09:29:11.3256069Z\",\"lastSend\":\"2025-07-03T09:29:11.3256361Z\",\"lastReceive\":\"2025-07-03T09:29:11.3263394Z\"},\"requestSizeInBytes\":1497,\"requestBodySizeInBytes\":895,\"responseMetadataSizeInBytes\":186,\"responseBodySizeInBytes\":123};\r\n",
      " ResourceType: Document, OperationType: Upsert\r\n",
      ", SDK: Microsoft.Azure.Documents.Common/2.14.0\n",
      "Code: BadRequest\n",
      "Message: Message: {\"Errors\":[\"There was an error in parsing the JSON for the request. Ensure that the JSON string is properly constructed.\"]}\r\n",
      "ActivityId: c2fef086-0420-42be-b8bc-46a9aa5f44c5, Request URI: /apps/f43dea62-0f8f-41b8-b3f2-6d16fc4be622/services/1f70bd2a-a18f-47c0-b7d3-64f17ee3a46c/partitions/a1ea141c-ae6b-40f4-8058-4d9f14aea7cb/replicas/133957104026295977p, RequestStats: \r\n",
      "RequestStartTime: 2025-07-03T09:29:11.3329395Z, RequestEndTime: 2025-07-03T09:29:11.3339679Z,  Number of regions attempted:1\r\n",
      "{\"systemHistory\":[{\"dateUtc\":\"2025-07-03T09:28:16.4028013Z\",\"cpu\":0.384,\"memory\":467797436.000,\"threadInfo\":{\"isThreadStarving\":\"False\",\"threadWaitIntervalInMs\":0.0929,\"availableThreads\":32765,\"minThreads\":104,\"maxThreads\":32767},\"numberOfOpenTcpConnection\":758},{\"dateUtc\":\"2025-07-03T09:28:26.4129312Z\",\"cpu\":0.549,\"memory\":467459096.000,\"threadInfo\":{\"isThreadStarving\":\"False\",\"threadWaitIntervalInMs\":0.042,\"availableThreads\":32765,\"minThreads\":104,\"maxThreads\":32767},\"numberOfOpenTcpConnection\":758},{\"dateUtc\":\"2025-07-03T09:28:36.4231536Z\",\"cpu\":0.517,\"memory\":467238320.000,\"threadInfo\":{\"isThreadStarving\":\"False\",\"threadWaitIntervalInMs\":0.1689,\"availableThreads\":32765,\"minThreads\":104,\"maxThreads\":32767},\"numberOfOpenTcpConnection\":758},{\"dateUtc\":\"2025-07-03T09:28:46.4333676Z\",\"cpu\":0.438,\"memory\":467239912.000,\"threadInfo\":{\"isThreadStarving\":\"False\",\"threadWaitIntervalInMs\":0.3644,\"availableThreads\":32765,\"minThreads\":104,\"maxThreads\":32767},\"numberOfOpenTcpConnection\":757},{\"dateUtc\":\"2025-07-03T09:28:56.4435906Z\",\"cpu\":0.420,\"memory\":467246576.000,\"threadInfo\":{\"isThreadStarving\":\"False\",\"threadWaitIntervalInMs\":0.0521,\"availableThreads\":32765,\"minThreads\":104,\"maxThreads\":32767},\"numberOfOpenTcpConnection\":758},{\"dateUtc\":\"2025-07-03T09:29:06.4536663Z\",\"cpu\":0.357,\"memory\":467245580.000,\"threadInfo\":{\"isThreadStarving\":\"False\",\"threadWaitIntervalInMs\":0.0908,\"availableThreads\":32765,\"minThreads\":104,\"maxThreads\":32767},\"numberOfOpenTcpConnection\":758}]}\r\n",
      "RequestStart: 2025-07-03T09:29:11.3330007Z; ResponseTime: 2025-07-03T09:29:11.3339679Z; StoreResult: StorePhysicalAddress: rntbd://10.0.2.107:14300/apps/f43dea62-0f8f-41b8-b3f2-6d16fc4be622/services/1f70bd2a-a18f-47c0-b7d3-64f17ee3a46c/partitions/a1ea141c-ae6b-40f4-8058-4d9f14aea7cb/replicas/133957104026295977p, LSN: 98617, GlobalCommittedLsn: 98617, PartitionKeyRangeId: 0, IsValid: True, StatusCode: 400, SubStatusCode: 0, RequestCharge: 0, ItemLSN: -1, SessionToken: -1#98617, UsingLocalLSN: False, TransportException: null, BELatencyMs: 0.274, ActivityId: c2fef086-0420-42be-b8bc-46a9aa5f44c5, RetryAfterInMs: , ReplicaHealthStatuses: [(port: 14300 | status: Connected | lkt: 7/3/2025 9:18:48 AM)], TransportRequestTimeline: {\"requestTimeline\":[{\"event\": \"Created\", \"startTimeUtc\": \"2025-07-03T09:29:11.3330015Z\", \"durationInMs\": 0.0142},{\"event\": \"ChannelAcquisitionStarted\", \"startTimeUtc\": \"2025-07-03T09:29:11.3330157Z\", \"durationInMs\": 0.0015},{\"event\": \"Pipelined\", \"startTimeUtc\": \"2025-07-03T09:29:11.3330172Z\", \"durationInMs\": 0.0553},{\"event\": \"Transit Time\", \"startTimeUtc\": \"2025-07-03T09:29:11.3330725Z\", \"durationInMs\": 0.6879},{\"event\": \"Received\", \"startTimeUtc\": \"2025-07-03T09:29:11.3337604Z\", \"durationInMs\": 0.0333},{\"event\": \"Completed\", \"startTimeUtc\": \"2025-07-03T09:29:11.3337937Z\", \"durationInMs\": 0}],\"serviceEndpointStats\":{\"inflightRequests\":1,\"openConnections\":1},\"connectionStats\":{\"waitforConnectionInit\":\"False\",\"callsPendingReceive\":0,\"lastSendAttempt\":\"2025-07-03T09:29:11.3256069Z\",\"lastSend\":\"2025-07-03T09:29:11.3256361Z\",\"lastReceive\":\"2025-07-03T09:29:11.3263394Z\"},\"requestSizeInBytes\":1497,\"requestBodySizeInBytes\":895,\"responseMetadataSizeInBytes\":186,\"response\n",
      "\n",
      "*** WARNING: max output size exceeded, skipping output. ***\n",
      "\n",
      "s/133959546009696793p/, RequestStats: \r\n",
      "RequestStartTime: 2025-07-03T09:53:30.3412860Z, RequestEndTime: 2025-07-03T09:53:30.3431467Z,  Number of regions attempted:1\r\n",
      "{\"systemHistory\":[{\"dateUtc\":\"2025-07-03T09:52:37.8892853Z\",\"cpu\":1.008,\"memory\":474684724.000,\"threadInfo\":{\"isThreadStarving\":\"False\",\"threadWaitIntervalInMs\":0.2863,\"availableThreads\":32765,\"minThreads\":104,\"maxThreads\":32767},\"numberOfOpenTcpConnection\":741},{\"dateUtc\":\"2025-07-03T09:52:47.8995085Z\",\"cpu\":1.167,\"memory\":474773172.000,\"threadInfo\":{\"isThreadStarving\":\"False\",\"threadWaitIntervalInMs\":0.0433,\"availableThreads\":32765,\"minThreads\":104,\"maxThreads\":32767},\"numberOfOpenTcpConnection\":739},{\"dateUtc\":\"2025-07-03T09:52:57.9097171Z\",\"cpu\":1.053,\"memory\":474636984.000,\"threadInfo\":{\"isThreadStarving\":\"False\",\"threadWaitIntervalInMs\":0.0276,\"availableThreads\":32762,\"minThreads\":104,\"maxThreads\":32767},\"numberOfOpenTcpConnection\":739},{\"dateUtc\":\"2025-07-03T09:53:07.9198894Z\",\"cpu\":1.042,\"memory\":474789472.000,\"threadInfo\":{\"isThreadStarving\":\"False\",\"threadWaitIntervalInMs\":0.0284,\"availableThreads\":32761,\"minThreads\":104,\"maxThreads\":32767},\"numberOfOpenTcpConnection\":739},{\"dateUtc\":\"2025-07-03T09:53:17.9300825Z\",\"cpu\":0.787,\"memory\":474666060.000,\"threadInfo\":{\"isThreadStarving\":\"False\",\"threadWaitIntervalInMs\":0.0347,\"availableThreads\":32762,\"minThreads\":104,\"maxThreads\":32767},\"numberOfOpenTcpConnection\":736},{\"dateUtc\":\"2025-07-03T09:53:27.9403728Z\",\"cpu\":0.753,\"memory\":474674424.000,\"threadInfo\":{\"isThreadStarving\":\"False\",\"threadWaitIntervalInMs\":0.381,\"availableThreads\":32765,\"minThreads\":104,\"maxThreads\":32767},\"numberOfOpenTcpConnection\":739}]}\r\n",
      "RequestStart: 2025-07-03T09:53:30.3413535Z; ResponseTime: 2025-07-03T09:53:30.3431467Z; StoreResult: StorePhysicalAddress: rntbd://cdb-ms-prod-centralindia1-be48.documents.azure.com:14387/apps/555b4f7f-5e80-4b69-a0d1-99fe6a5c0ef1/services/b2ad91fb-9163-4b3a-ba96-99c849e7dfed/partitions/0d68b9fd-8850-4a47-8528-cf5f31bb9ff9/replicas/133959546009696793p/, LSN: 1, GlobalCommittedLsn: 1, PartitionKeyRangeId: 0, IsValid: True, StatusCode: 400, SubStatusCode: 0, RequestCharge: 0, ItemLSN: -1, SessionToken: -1#1, UsingLocalLSN: False, TransportException: null, BELatencyMs: 0.262, ActivityId: b82a03f0-bec9-44b0-b9fb-1810c26719ad, RetryAfterInMs: , ReplicaHealthStatuses: [(port: 14387 | status: Connected | lkt: 7/3/2025 8:11:31 AM)], TransportRequestTimeline: {\"requestTimeline\":[{\"event\": \"Created\", \"startTimeUtc\": \"2025-07-03T09:53:30.3413542Z\", \"durationInMs\": 0.0159},{\"event\": \"ChannelAcquisitionStarted\", \"startTimeUtc\": \"2025-07-03T09:53:30.3413701Z\", \"durationInMs\": 0.0018},{\"event\": \"Pipelined\", \"startTimeUtc\": \"2025-07-03T09:53:30.3413719Z\", \"durationInMs\": 0.0589},{\"event\": \"Transit Time\", \"startTimeUtc\": \"2025-07-03T09:53:30.3414308Z\", \"durationInMs\": 1.2671},{\"event\": \"Received\", \"startTimeUtc\": \"2025-07-03T09:53:30.3426979Z\", \"durationInMs\": 0.0773},{\"event\": \"Completed\", \"startTimeUtc\": \"2025-07-03T09:53:30.3427752Z\", \"durationInMs\": 0}],\"serviceEndpointStats\":{\"inflightRequests\":1,\"openConnections\":1},\"connectionStats\":{\"waitforConnectionInit\":\"False\",\"callsPendingReceive\":0,\"lastSendAttempt\":\"2025-07-03T09:53:30.3338483Z\",\"lastSend\":\"2025-07-03T09:53:30.3338842Z\",\"lastReceive\":\"2025-07-03T09:53:30.3353533Z\"},\"requestSizeInBytes\":1231,\"requestBodySizeInBytes\":622,\"responseMetadataSizeInBytes\":182,\"responseBodySizeInBytes\":123};\r\n",
      " ResourceType: Document, OperationType: Upsert\r\n",
      ", SDK: Microsoft.Azure.Documents.Common/2.14.0\n",
      "Code: BadRequest\n",
      "Message: Message: {\"Errors\":[\"There was an error in parsing the JSON for the request. Ensure that the JSON string is properly constructed.\"]}\r\n",
      "ActivityId: b82a03f0-bec9-44b0-b9fb-1810c26719ad, Request URI: /apps/555b4f7f-5e80-4b69-a0d1-99fe6a5c0ef1/services/b2ad91fb-9163-4b3a-ba96-99c849e7dfed/partitions/0d68b9fd-8850-4a47-8528-cf5f31bb9ff9/replicas/133959546009696793p/, RequestStats: \r\n",
      "RequestStartTime: 2025-07-03T09:53:30.3412860Z, RequestEndTime: 2025-07-03T09:53:30.3431467Z,  Number of regions attempted:1\r\n",
      "{\"systemHistory\":[{\"dateUtc\":\"2025-07-03T09:52:37.8892853Z\",\"cpu\":1.008,\"memory\":474684724.000,\"threadInfo\":{\"isThreadStarving\":\"False\",\"threadWaitIntervalInMs\":0.2863,\"availableThreads\":32765,\"minThreads\":104,\"maxThreads\":32767},\"numberOfOpenTcpConnection\":741},{\"dateUtc\":\"2025-07-03T09:52:47.8995085Z\",\"cpu\":1.167,\"memory\":474773172.000,\"threadInfo\":{\"isThreadStarving\":\"False\",\"threadWaitIntervalInMs\":0.0433,\"availableThreads\":32765,\"minThreads\":104,\"maxThreads\":32767},\"numberOfOpenTcpConnection\":739},{\"dateUtc\":\"2025-07-03T09:52:57.9097171Z\",\"cpu\":1.053,\"memory\":474636984.000,\"threadInfo\":{\"isThreadStarving\":\"False\",\"threadWaitIntervalInMs\":0.0276,\"availableThreads\":32762,\"minThreads\":104,\"maxThreads\":32767},\"numberOfOpenTcpConnection\":739},{\"dateUtc\":\"2025-07-03T09:53:07.9198894Z\",\"cpu\":1.042,\"memory\":474789472.000,\"threadInfo\":{\"isThreadStarving\":\"False\",\"threadWaitIntervalInMs\":0.0284,\"availableThreads\":32761,\"minThreads\":104,\"maxThreads\":32767},\"numberOfOpenTcpConnection\":739},{\"dateUtc\":\"2025-07-03T09:53:17.9300825Z\",\"cpu\":0.787,\"memory\":474666060.000,\"threadInfo\":{\"isThreadStarving\":\"False\",\"threadWaitIntervalInMs\":0.0347,\"availableThreads\":32762,\"minThreads\":104,\"maxThreads\":32767},\"numberOfOpenTcpConnection\":736},{\"dateUtc\":\"2025-07-03T09:53:27.9403728Z\",\"cpu\":0.753,\"memory\":474674424.000,\"threadInfo\":{\"isThreadStarving\":\"False\",\"threadWaitIntervalInMs\":0.381,\"availableThreads\":32765,\"minThreads\":104,\"maxThreads\":32767},\"numberOfOpenTcpConnection\":739}]}\r\n",
      "RequestStart: 2025-07-03T09:53:30.3413535Z; ResponseTime: 2025-07-03T09:53:30.3431467Z; StoreResult: StorePhysicalAddress: rntbd://cdb-ms-prod-centralindia1-be48.documents.azure.com:14387/apps/555b4f7f-5e80-4b69-a0d1-99fe6a5c0ef1/services/b2ad91fb-9163-4b3a-ba96-99c849e7dfed/partitions/0d68b9fd-8850-4a47-8528-cf5f31bb9ff9/replicas/133959546009696793p/, LSN: 1, GlobalCommittedLsn: 1, PartitionKeyRangeId: 0, IsValid: True, StatusCode: 400, SubStatusCode: 0, RequestCharge: 0, ItemLSN: -1, SessionToken: -1#1, UsingLocalLSN: False, TransportException: null, BELatencyMs: 0.262, ActivityId: b82a03f0-bec9-44b0-b9fb-1810c26719ad, RetryAfterInMs: , ReplicaHealthStatuses: [(port: 14387 | status: Connected | lkt: 7/3/2025 8:11:31 AM)], TransportRequestTimeline: {\"requestTimeline\":[{\"event\": \"Created\", \"startTimeUtc\": \"2025-07-03T09:53:30.3413542Z\", \"durationInMs\": 0.0159},{\"event\": \"ChannelAcquisitionStarted\", \"startTimeUtc\": \"2025-07-03T09:53:30.3413701Z\", \"durationInMs\": 0.0018},{\"event\": \"Pipelined\", \"startTimeUtc\": \"2025-07-03T09:53:30.3413719Z\", \"durationInMs\": 0.0589},{\"event\": \"Transit Time\", \"startTimeUtc\": \"2025-07-03T09:53:30.3414308Z\", \"durationInMs\": 1.2671},{\"event\": \"Received\", \"startTimeUtc\": \"2025-07-03T09:53:30.3426979Z\", \"durationInMs\": 0.0773},{\"event\": \"Completed\", \"startTimeUtc\": \"2025-07-03T09:53:30.3427752Z\", \"durationInMs\": 0}],\"serviceEndpointStats\":{\"inflightRequests\":1,\"openConnections\":1},\"connectionStats\":{\"waitforConnectionInit\":\"False\",\"callsPendingReceive\":0,\"lastSendAttempt\":\"2025-07-03T09:53:30.3338483Z\",\"lastSend\":\"2025-07-03T09:53:30.3338842Z\",\"lastReceive\":\"2025-07-03T09:53:30.3353533Z\"},\"requestSizeInBytes\":1231,\"requestBodySizeInBytes\":622,\"responseMetadataSizeInBytes\":182,\"responseBodySizeInBytes\":123};\r\n",
      " ResourceType: Document, OperationType: Upsert\r\n",
      ", SDK: Microsoft.Azure.Documents.Common/2.14.0\n",
      "Row: {'Player_match_SK': 26683, 'PlayerMatch_key': 108265000000.0, 'Match_Id': 1082650, 'Player_Id': 483, 'Player_Name': 'LH Ferguson', 'DOB': '6/13/1991', 'Batting_hand': 'Right-hand bat', 'Bowling_skill': 'Right-arm fast', 'Country_Name': 'New Zealand', 'Role_Desc': 'Player', 'Player_team': 'Rising Pune Supergiants', 'Opposit_Team': 'Mumbai Indians', 'Season_year': 2017.0, 'is_manofThematch': 0.0, 'Age_As_on_match': 26.0, 'IsPlayers_Team_won': 0.0, 'Batting_Status': nan, 'Bowling_Status': nan, 'Player_Captain': 'SPD Smith', 'Opposit_captain': 'RG Sharma', 'Player_keeper': 'MS Dhoni', 'Opposit_keeper': 'PA Patel', 'id': '3f6cde8a-07af-4a2e-b361-d310fbdf7f66'}\n",
      "[Error] playermatchcontainer3: (BadRequest) Message: {\"Errors\":[\"There was an error in parsing the JSON for the request. Ensure that the JSON string is properly constructed.\"]}\r\n",
      "ActivityId: 3c33c765-df27-4bc0-b03d-aac792d79581, Request URI: /apps/555b4f7f-5e80-4b69-a0d1-99fe6a5c0ef1/services/b2ad91fb-9163-4b3a-ba96-99c849e7dfed/partitions/0d68b9fd-8850-4a47-8528-cf5f31bb9ff9/replicas/133959546009696793p/, RequestStats: \r\n",
      "RequestStartTime: 2025-07-03T09:53:30.3496027Z, RequestEndTime: 2025-07-03T09:53:30.3512922Z,  Number of regions attempted:1\r\n",
      "{\"systemHistory\":[{\"dateUtc\":\"2025-07-03T09:52:37.8892853Z\",\"cpu\":1.008,\"memory\":474684724.000,\"threadInfo\":{\"isThreadStarving\":\"False\",\"threadWaitIntervalInMs\":0.2863,\"availableThreads\":32765,\"minThreads\":104,\"maxThreads\":32767},\"numberOfOpenTcpConnection\":741},{\"dateUtc\":\"2025-07-03T09:52:47.8995085Z\",\"cpu\":1.167,\"memory\":474773172.000,\"threadInfo\":{\"isThreadStarving\":\"False\",\"threadWaitIntervalInMs\":0.0433,\"availableThreads\":32765,\"minThreads\":104,\"maxThreads\":32767},\"numberOfOpenTcpConnection\":739},{\"dateUtc\":\"2025-07-03T09:52:57.9097171Z\",\"cpu\":1.053,\"memory\":474636984.000,\"threadInfo\":{\"isThreadStarving\":\"False\",\"threadWaitIntervalInMs\":0.0276,\"availableThreads\":32762,\"minThreads\":104,\"maxThreads\":32767},\"numberOfOpenTcpConnection\":739},{\"dateUtc\":\"2025-07-03T09:53:07.9198894Z\",\"cpu\":1.042,\"memory\":474789472.000,\"threadInfo\":{\"isThreadStarving\":\"False\",\"threadWaitIntervalInMs\":0.0284,\"availableThreads\":32761,\"minThreads\":104,\"maxThreads\":32767},\"numberOfOpenTcpConnection\":739},{\"dateUtc\":\"2025-07-03T09:53:17.9300825Z\",\"cpu\":0.787,\"memory\":474666060.000,\"threadInfo\":{\"isThreadStarving\":\"False\",\"threadWaitIntervalInMs\":0.0347,\"availableThreads\":32762,\"minThreads\":104,\"maxThreads\":32767},\"numberOfOpenTcpConnection\":736},{\"dateUtc\":\"2025-07-03T09:53:27.9403728Z\",\"cpu\":0.753,\"memory\":474674424.000,\"threadInfo\":{\"isThreadStarving\":\"False\",\"threadWaitIntervalInMs\":0.381,\"availableThreads\":32765,\"minThreads\":104,\"maxThreads\":32767},\"numberOfOpenTcpConnection\":739}]}\r\n",
      "RequestStart: 2025-07-03T09:53:30.3496793Z; ResponseTime: 2025-07-03T09:53:30.3512922Z; StoreResult: StorePhysicalAddress: rntbd://cdb-ms-prod-centralindia1-be48.documents.azure.com:14387/apps/555b4f7f-5e80-4b69-a0d1-99fe6a5c0ef1/services/b2ad91fb-9163-4b3a-ba96-99c849e7dfed/partitions/0d68b9fd-8850-4a47-8528-cf5f31bb9ff9/replicas/133959546009696793p/, LSN: 1, GlobalCommittedLsn: 1, PartitionKeyRangeId: 0, IsValid: True, StatusCode: 400, SubStatusCode: 0, RequestCharge: 0, ItemLSN: -1, SessionToken: -1#1, UsingLocalLSN: False, TransportException: null, BELatencyMs: 0.26, ActivityId: 3c33c765-df27-4bc0-b03d-aac792d79581, RetryAfterInMs: , ReplicaHealthStatuses: [(port: 14387 | status: Connected | lkt: 7/3/2025 8:11:31 AM)], TransportRequestTimeline: {\"requestTimeline\":[{\"event\": \"Created\", \"startTimeUtc\": \"2025-07-03T09:53:30.3496802Z\", \"durationInMs\": 0.0181},{\"event\": \"ChannelAcquisitionStarted\", \"startTimeUtc\": \"2025-07-03T09:53:30.3496983Z\", \"durationInMs\": 0.0021},{\"event\": \"Pipelined\", \"startTimeUtc\": \"2025-07-03T09:53:30.3497004Z\", \"durationInMs\": 0.0716},{\"event\": \"Transit Time\", \"startTimeUtc\": \"2025-07-03T09:53:30.3497720Z\", \"durationInMs\": 1.3187},{\"event\": \"Received\", \"startTimeUtc\": \"2025-07-03T09:53:30.3510907Z\", \"durationInMs\": 0.0396},{\"event\": \"Completed\", \"startTimeUtc\": \"2025-07-03T09:53:30.3511303Z\", \"durationInMs\": 0}],\"serviceEndpointStats\":{\"inflightRequests\":1,\"openConnections\":1},\"connectionStats\":{\"waitforConnectionInit\":\"False\",\"callsPendingReceive\":0,\"lastSendAttempt\":\"2025-07-03T09:53:30.3414005Z\",\"lastSend\":\"2025-07-03T09:53:30.3414307Z\",\"lastReceive\":\"2025-07-03T09:53:30.3426953Z\"},\"requestSizeInBytes\":1232,\"requestBodySizeInBytes\":623,\"responseMetadataSizeInBytes\":182,\"responseBodySizeInBytes\":123};\r\n",
      " ResourceType: Document, OperationType: Upsert\r\n",
      ", SDK: Microsoft.Azure.Documents.Common/2.14.0\n",
      "Code: BadRequest\n",
      "Message: Message: {\"Errors\":[\"There was an error in parsing the JSON for the request. Ensure that the JSON string is properly constructed.\"]}\r\n",
      "ActivityId: 3c33c765-df27-4bc0-b03d-aac792d79581, Request URI: /apps/555b4f7f-5e80-4b69-a0d1-99fe6a5c0ef1/services/b2ad91fb-9163-4b3a-ba96-99c849e7dfed/partitions/0d68b9fd-8850-4a47-8528-cf5f31bb9ff9/replicas/133959546009696793p/, RequestStats: \r\n",
      "RequestStartTime: 2025-07-03T09:53:30.3496027Z, RequestEndTime: 2025-07-03T09:53:30.3512922Z,  Number of regions attempted:1\r\n",
      "{\"systemHistory\":[{\"dateUtc\":\"2025-07-03T09:52:37.8892853Z\",\"cpu\":1.008,\"memory\":474684724.000,\"threadInfo\":{\"isThreadStarving\":\"False\",\"threadWaitIntervalInMs\":0.2863,\"availableThreads\":32765,\"minThreads\":104,\"maxThreads\":32767},\"numberOfOpenTcpConnection\":741},{\"dateUtc\":\"2025-07-03T09:52:47.8995085Z\",\"cpu\":1.167,\"memory\":474773172.000,\"threadInfo\":{\"isThreadStarving\":\"False\",\"threadWaitIntervalInMs\":0.0433,\"availableThreads\":32765,\"minThreads\":104,\"maxThreads\":32767},\"numberOfOpenTcpConnection\":739},{\"dateUtc\":\"2025-07-03T09:52:57.9097171Z\",\"cpu\":1.053,\"memory\":474636984.000,\"threadInfo\":{\"isThreadStarving\":\"False\",\"threadWaitIntervalInMs\":0.0276,\"availableThreads\":32762,\"minThreads\":104,\"maxThreads\":32767},\"numberOfOpenTcpConnection\":739},{\"dateUtc\":\"2025-07-03T09:53:07.9198894Z\",\"cpu\":1.042,\"memory\":474789472.000,\"threadInfo\":{\"isThreadStarving\":\"False\",\"threadWaitIntervalInMs\":0.0284,\"availableThreads\":32761,\"minThreads\":104,\"maxThreads\":32767},\"numberOfOpenTcpConnection\":739},{\"dateUtc\":\"2025-07-03T09:53:17.9300825Z\",\"cpu\":0.787,\"memory\":474666060.000,\"threadInfo\":{\"isThreadStarving\":\"False\",\"threadWaitIntervalInMs\":0.0347,\"availableThreads\":32762,\"minThreads\":104,\"maxThreads\":32767},\"numberOfOpenTcpConnection\":736},{\"dateUtc\":\"2025-07-03T09:53:27.9403728Z\",\"cpu\":0.753,\"memory\":474674424.000,\"threadInfo\":{\"isThreadStarving\":\"False\",\"threadWaitIntervalInMs\":0.381,\"availableThreads\":32765,\"minThreads\":104,\"maxThreads\":32767},\"numberOfOpenTcpConnection\":739}]}\r\n",
      "RequestStart: 2025-07-03T09:53:30.3496793Z; ResponseTime: 2025-07-03T09:53:30.3512922Z; StoreResult: StorePhysicalAddress: rntbd://cdb-ms-prod-centralindia1-be48.documents.azure.com:14387/apps/555b4f7f-5e80-4b69-a0d1-99fe6a5c0ef1/services/b2ad91fb-9163-4b3a-ba96-99c849e7dfed/partitions/0d68b9fd-8850-4a47-8528-cf5f31bb9ff9/replicas/133959546009696793p/, LSN: 1, GlobalCommittedLsn: 1, PartitionKeyRangeId: 0, IsValid: True, StatusCode: 400, SubStatusCode: 0, RequestCharge: 0, ItemLSN: -1, SessionToken: -1#1, UsingLocalLSN: False, TransportException: null, BELatencyMs: 0.26, ActivityId: 3c33c765-df27-4bc0-b03d-aac792d79581, RetryAfterInMs: , ReplicaHealthStatuses: [(port: 14387 | status: Connected | lkt: 7/3/2025 8:11:31 AM)], TransportRequestTimeline: {\"requestTimeline\":[{\"event\": \"Created\", \"startTimeUtc\": \"2025-07-03T09:53:30.3496802Z\", \"durationInMs\": 0.0181},{\"event\": \"ChannelAcquisitionStarted\", \"startTimeUtc\": \"2025-07-03T09:53:30.3496983Z\", \"durationInMs\": 0.0021},{\"event\": \"Pipelined\", \"startTimeUtc\": \"2025-07-03T09:53:30.3497004Z\", \"durationInMs\": 0.0716},{\"event\": \"Transit Time\", \"startTimeUtc\": \"2025-07-03T09:53:30.3497720Z\", \"durationInMs\": 1.3187},{\"event\": \"Received\", \"startTimeUtc\": \"2025-07-03T09:53:30.3510907Z\", \"durationInMs\": 0.0396},{\"event\": \"Completed\", \"startTimeUtc\": \"2025-07-03T09:53:30.3511303Z\", \"durationInMs\": 0}],\"serviceEndpointStats\":{\"inflightRequests\":1,\"openConnections\":1},\"connectionStats\":{\"waitforConnectionInit\":\"False\",\"callsPendingReceive\":0,\"lastSendAttempt\":\"2025-07-03T09:53:30.3414005Z\",\"lastSend\":\"2025-07-03T09:53:30.3414307Z\",\"lastReceive\":\"2025-07-03T09:53:30.3426953Z\"},\"requestSizeInBytes\":1232,\"requestBodySizeInBytes\":623,\"responseMetadataSizeInBytes\":182,\"responseBodySizeInBytes\":123};\r\n",
      " ResourceType: Document, OperationType: Upsert\r\n",
      ", SDK: Microsoft.Azure.Documents.Common/2.14.0\n",
      "Row: {'Player_match_SK': 26684, 'PlayerMatch_key': 108265000000.0, 'Match_Id': 1082650, 'Player_Id': 488, 'Player_Name': 'RA Tripathi', 'DOB': '3/2/1991', 'Batting_hand': '�Right-hand bat', 'Bowling_skill': 'Right-arm medium', 'Country_Name': 'India', 'Role_Desc': 'Player', 'Player_team': 'Rising Pune Supergiants', 'Opposit_Team': 'Mumbai Indians', 'Season_year': 2017.0, 'is_manofThematch': 0.0, 'Age_As_on_match': 26.0, 'IsPlayers_Team_won': 0.0, 'Batting_Status': nan, 'Bowling_Status': nan, 'Player_Captain': 'SPD Smith', 'Opposit_captain': 'RG Sharma', 'Player_keeper': 'MS Dhoni', 'Opposit_keeper': 'PA Patel', 'id': '610d8e33-25fe-4133-a5e4-cebb362e4c1a'}\n",
      "[Error] playermatchcontainer3: (BadRequest) Message: {\"Errors\":[\"There was an error in parsing the JSON for the request. Ensure that the JSON string is properly constructed.\"]}\r\n",
      "ActivityId: a1713b57-77b3-4723-856c-f6babba5c4f4, Request URI: /apps/555b4f7f-5e80-4b69-a0d1-99fe6a5c0ef1/services/b2ad91fb-9163-4b3a-ba96-99c849e7dfed/partitions/0d68b9fd-8850-4a47-8528-cf5f31bb9ff9/replicas/133959546009696793p/, RequestStats: \r\n",
      "RequestStartTime: 2025-07-03T09:53:30.3577823Z, RequestEndTime: 2025-07-03T09:53:30.3596803Z,  Number of regions attempted:1\r\n",
      "{\"systemHistory\":[{\"dateUtc\":\"2025-07-03T09:52:37.8892853Z\",\"cpu\":1.008,\"memory\":474684724.000,\"threadInfo\":{\"isThreadStarving\":\"False\",\"threadWaitIntervalInMs\":0.2863,\"availableThreads\":32765,\"minThreads\":104,\"maxThreads\":32767},\"numberOfOpenTcpConnection\":741},{\"dateUtc\":\"2025-07-03T09:52:47.8995085Z\",\"cpu\":1.167,\"memory\":474773172.000,\"threadInfo\":{\"isThreadStarving\":\"False\",\"threadWaitIntervalInMs\":0.0433,\"availableThreads\":32765,\"minThreads\":104,\"maxThreads\":32767},\"numberOfOpenTcpConnection\":739},{\"dateUtc\":\"2025-07-03T09:52:57.9097171Z\",\"cpu\":1.053,\"memory\":474636984.000,\"threadInfo\":{\"isThreadStarving\":\"False\",\"threadWaitIntervalInMs\":0.0276,\"availableThreads\":32762,\"minThreads\":104,\"maxThreads\":32767},\"numberOfOpenTcpConnection\":739},{\"dateUtc\":\"2025-07-03T09:53:07.9198894Z\",\"cpu\":1.042,\"memory\":474789472.000,\"threadInfo\":{\"isThreadStarving\":\"False\",\"threadWaitIntervalInMs\":0.0284,\"availableThreads\":32761,\"minThreads\":104,\"maxThreads\":32767},\"numberOfOpenTcpConnection\":739},{\"dateUtc\":\"2025-07-03T09:53:17.9300825Z\",\"cpu\":0.787,\"memory\":474666060.000,\"threadInfo\":{\"isThreadStarving\":\"False\",\"threadWaitIntervalInMs\":0.0347,\"availableThreads\":32762,\"minThreads\":104,\"maxThreads\":32767},\"numberOfOpenTcpConnection\":736},{\"dateUtc\":\"2025-07-03T09:53:27.9403728Z\",\"cpu\":0.753,\"memory\":474674424.000,\"threadInfo\":{\"isThreadStarving\":\"False\",\"threadWaitIntervalInMs\":0.381,\"availableThreads\":32765,\"minThreads\":104,\"maxThreads\":32767},\"numberOfOpenTcpConnection\":739}]}\r\n",
      "RequestStart: 2025-07-03T09:53:30.3578591Z; ResponseTime: 2025-07-03T09:53:30.3596803Z; StoreResult: StorePhysicalAddress: rntbd://cdb-ms-prod-centralindia1-be48.documents.azure.com:14387/apps/555b4f7f-5e80-4b69-a0d1-99fe6a5c0ef1/services/b2ad91fb-9163-4b3a-ba96-99c849e7dfed/partitions/0d68b9fd-8850-4a47-8528-cf5f31bb9ff9/replicas/133959546009696793p/, LSN: 1, GlobalCommittedLsn: 1, PartitionKeyRangeId: 0, IsValid: True, StatusCode: 400, SubStatusCode: 0, RequestCharge: 0, ItemLSN: -1, SessionToken: -1#1, UsingLocalLSN: False, TransportException: null, BELatencyMs: 0.25, ActivityId: a1713b57-77b3-4723-856c-f6babba5c4f4, RetryAfterInMs: , ReplicaHealthStatuses: [(port: 14387 | status: Connected | lkt: 7/3/2025 8:11:31 AM)], TransportRequestTimeline: {\"requestTimeline\":[{\"event\": \"Created\", \"startTimeUtc\": \"2025-07-03T09:53:30.3578599Z\", \"durationInMs\": 0.0203},{\"event\": \"ChannelAcquisitionStarted\", \"startTimeUtc\": \"2025-07-03T09:53:30.3578802Z\", \"durationInMs\": 0.002},{\"event\": \"Pipelined\", \"startTimeUtc\": \"2025-07-03T09:53:30.3578822Z\", \"durationInMs\": 0.07},{\"event\": \"Transit Time\", \"startTimeUtc\": \"2025-07-03T09:53:30.3579522Z\", \"durationInMs\": 1.2892},{\"event\": \"Received\", \"startTimeUtc\": \"2025-07-03T09:53:30.3592414Z\", \"durationInMs\": 0.0691},{\"event\": \"Completed\", \"startTimeUtc\": \"2025-07-03T09:53:30.3593105Z\", \"durationInMs\": 0}],\"serviceEndpointStats\":{\"inflightRequests\":1,\"openConnections\":1},\"connectionStats\":{\"waitforConnectionInit\":\"False\",\"callsPendingReceive\":0,\"lastSendAttempt\":\"2025-07-03T09:53:30.3497363Z\",\"lastSend\":\"2025-07-03T09:53:30.3497717Z\",\"lastReceive\":\"2025-07-03T09:53:30.3510895Z\"},\"requestSizeInBytes\":1246,\"requestBodySizeInBytes\":637,\"responseMetadataSizeInBytes\":182,\"responseBodySizeInBytes\":123};\r\n",
      " ResourceType: Document, OperationType: Upsert\r\n",
      ", SDK: Microsoft.Azure.Documents.Common/2.14.0\n",
      "Code: BadRequest\n",
      "Message: Message: {\"Errors\":[\"There was an error in parsing the JSON for the request. Ensure that the JSON string is properly constructed.\"]}\r\n",
      "ActivityId: a1713b57-77b3-4723-856c-f6babba5c4f4, Request URI: /apps/555b4f7f-5e80-4b69-a0d1-99fe6a5c0ef1/services/b2ad91fb-9163-4b3a-ba96-99c849e7dfed/partitions/0d68b9fd-8850-4a47-8528-cf5f31bb9ff9/replicas/133959546009696793p/, RequestStats: \r\n",
      "RequestStartTime: 2025-07-03T09:53:30.3577823Z, RequestEndTime: 2025-07-03T09:53:30.3596803Z,  Number of regions attempted:1\r\n",
      "{\"systemHistory\":[{\"dateUtc\":\"2025-07-03T09:52:37.8892853Z\",\"cpu\":1.008,\"memory\":474684724.000,\"threadInfo\":{\"isThreadStarving\":\"False\",\"threadWaitIntervalInMs\":0.2863,\"availableThreads\":32765,\"minThreads\":104,\"maxThreads\":32767},\"numberOfOpenTcpConnection\":741},{\"dateUtc\":\"2025-07-03T09:52:47.8995085Z\",\"cpu\":1.167,\"memory\":474773172.000,\"threadInfo\":{\"isThreadStarving\":\"False\",\"threadWaitIntervalInMs\":0.0433,\"availableThreads\":32765,\"minThreads\":104,\"maxThreads\":32767},\"numberOfOpenTcpConnection\":739},{\"dateUtc\":\"2025-07-03T09:52:57.9097171Z\",\"cpu\":1.053,\"memory\":474636984.000,\"threadInfo\":{\"isThreadStarving\":\"False\",\"threadWaitIntervalInMs\":0.0276,\"availableThreads\":32762,\"minThreads\":104,\"maxThreads\":32767},\"numberOfOpenTcpConnection\":739},{\"dateUtc\":\"2025-07-03T09:53:07.9198894Z\",\"cpu\":1.042,\"memory\":474789472.000,\"threadInfo\":{\"isThreadStarving\":\"False\",\"threadWaitIntervalInMs\":0.0284,\"availableThreads\":32761,\"minThreads\":104,\"maxThreads\":32767},\"numberOfOpenTcpConnection\":739},{\"dateUtc\":\"2025-07-03T09:53:17.9300825Z\",\"cpu\":0.787,\"memory\":474666060.000,\"threadInfo\":{\"isThreadStarving\":\"False\",\"threadWaitIntervalInMs\":0.0347,\"availableThreads\":32762,\"minThreads\":104,\"maxThreads\":32767},\"numberOfOpenTcpConnection\":736},{\"dateUtc\":\"2025-07-03T09:53:27.9403728Z\",\"cpu\":0.753,\"memory\":474674424.000,\"threadInfo\":{\"isThreadStarving\":\"False\",\"threadWaitIntervalInMs\":0.381,\"availableThreads\":32765,\"minThreads\":104,\"maxThreads\":32767},\"numberOfOpenTcpConnection\":739}]}\r\n",
      "RequestStart: 2025-07-03T09:53:30.3578591Z; ResponseTime: 2025-07-03T09:53:30.3596803Z; StoreResult: StorePhysicalAddress: rntbd://cdb-ms-prod-centralindia1-be48.documents.azure.com:14387/apps/555b4f7f-5e80-4b69-a0d1-99fe6a5c0ef1/services/b2ad91fb-9163-4b3a-ba96-99c849e7dfed/partitions/0d68b9fd-8850-4a47-8528-cf5f31bb9ff9/replicas/133959546009696793p/, LSN: 1, GlobalCommittedLsn: 1, PartitionKeyRangeId: 0, IsValid: True, StatusCode: 400, SubStatusCode: 0, RequestCharge: 0, ItemLSN: -1, SessionToken: -1#1, UsingLocalLSN: False, TransportException: null, BELatencyMs: 0.25, ActivityId: a1713b57-77b3-4723-856c-f6babba5c4f4, RetryAfterInMs: , ReplicaHealthStatuses: [(port: 14387 | status: Connected | lkt: 7/3/2025 8:11:31 AM)], TransportRequestTimeline: {\"requestTimeline\":[{\"event\": \"Created\", \"startTimeUtc\": \"2025-07-03T09:53:30.3578599Z\", \"durationInMs\": 0.0203},{\"event\": \"ChannelAcquisitionStarted\", \"startTimeUtc\": \"2025-07-03T09:53:30.3578802Z\", \"durationInMs\": 0.002},{\"event\": \"Pipelined\", \"startTimeUtc\": \"2025-07-03T09:53:30.3578822Z\", \"durationInMs\": 0.07},{\"event\": \"Transit Time\", \"startTimeUtc\": \"2025-07-03T09:53:30.3579522Z\", \"durationInMs\": 1.2892},{\"event\": \"Received\", \"startTimeUtc\": \"2025-07-03T09:53:30.3592414Z\", \"durationInMs\": 0.0691},{\"event\": \"Completed\", \"startTimeUtc\": \"2025-07-03T09:53:30.3593105Z\", \"durationInMs\": 0}],\"serviceEndpointStats\":{\"inflightRequests\":1,\"openConnections\":1},\"connectionStats\":{\"waitforConnectionInit\":\"False\",\"callsPendingReceive\":0,\"lastSendAttempt\":\"2025-07-03T09:53:30.3497363Z\",\"lastSend\":\"2025-07-03T09:53:30.3497717Z\",\"lastReceive\":\"2025-07-03T09:53:30.3510895Z\"},\"requestSizeInBytes\":1246,\"requestBodySizeInBytes\":637,\"responseMetadataSizeInBytes\":182,\"responseBodySizeInBytes\":123};\r\n",
      " ResourceType: Document, OperationType: Upsert\r\n",
      ", SDK: Microsoft.Azure.Documents.Common/2.14.0\n",
      "Row: {'Player_match_SK': 26685, 'PlayerMatch_key': 108265000000.0, 'Match_Id': 1082650, 'Player_Id': 497, 'Player_Name': 'Washington Sundar', 'DOB': '10/5/1999', 'Batting_hand': '�Left-hand bat', 'Bowling_skill': '�Right-arm offbreak', 'Country_Name': 'India', 'Role_Desc': 'Player', 'Player_team': 'Rising Pune Supergiants', 'Opposit_Team': 'Mumbai Indians', 'Season_year': 2017.0, 'is_manofThematch': 0.0, 'Age_As_on_match': 18.0, 'IsPlayers_Team_won': 0.0, 'Batting_Status': nan, 'Bowling_Status': nan, 'Player_Captain': 'SPD Smith', 'Opposit_captain': 'RG Sharma', 'Player_keeper': 'MS Dhoni', 'Opposit_keeper': 'PA Patel', 'id': 'fb2b68b7-20fc-48c3-8e89-c0a7c1d416bb'}\n",
      "✅ [playermatchcontainer3] Uploaded: 0, Failed: 13993\n"
     ]
    }
   ],
   "source": [
    "#Upload the transformed dataframes to Azure Cosmos DB\n",
    "from azure.cosmos import CosmosClient\n",
    "from pyspark.sql.functions import col\n",
    "from pyspark.sql.types import TimestampType, DecimalType, ArrayType, StructType\n",
    "import uuid\n",
    "\n",
    "# Cosmos DB connection details\n",
    "cosmos_endpoint = \"https://outputdatabase.documents.azure.com:443/\"\n",
    "cosmos_key = \"SUECwUYFI9RgrpcA9e3JTy1M2n3RHFMOvTAdP7njdlcBo0sdX7o0Ex0T5YyRKcOnZHPl3tXSD3M7ACDbj20S4g==\"\n",
    "cosmos_database = \"outputdatabase\"\n",
    "\n",
    "# Initialize Cosmos DB client and database\n",
    "client = CosmosClient(cosmos_endpoint, cosmos_key)\n",
    "database = client.get_database_client(cosmos_database)\n",
    "\n",
    "# ✅ Use Cosmos container names (not DataFrame names) as keys\n",
    "datasets = {\n",
    "    \"ballcontainer1\": ball_by_ball_df,\n",
    "    \"matchcontainer2\": match_df,\n",
    "    \"playercontainer4\": player_df,\n",
    "    \"teamcontainer5\": team_df,\n",
    "    \"playermatchcontainer3\": player_match_df\n",
    "}\n",
    "\n",
    "# Clean DataFrame: convert illegal types and fill nulls\n",
    "def clean_df(df):\n",
    "    for field in df.schema.fields:\n",
    "        if isinstance(field.dataType, (TimestampType, DecimalType, ArrayType, StructType)):\n",
    "            df = df.withColumn(field.name, col(field.name).cast(\"string\"))\n",
    "    return df.na.fill(\"NA\")  # or use \"\" if you prefer\n",
    "\n",
    "# Upload cleaned rows to Cosmos DB container\n",
    "def upload_to_cosmos(container_name, df):\n",
    "    container = database.get_container_client(container_name)\n",
    "    df_clean = clean_df(df)\n",
    "    pdf = df_clean.toPandas()\n",
    "\n",
    "    success, failed = 0, 0\n",
    "    for _, row in pdf.iterrows():\n",
    "        doc = row.to_dict()\n",
    "        if \"id\" not in doc or not doc[\"id\"]:\n",
    "            doc[\"id\"] = str(uuid.uuid4())  # Generate a unique id\n",
    "        try:\n",
    "            container.upsert_item(doc)\n",
    "            success += 1\n",
    "        except Exception as e:\n",
    "            failed += 1\n",
    "            print(f\"[Error] {container_name}: {e}\\nRow: {doc}\")\n",
    "    \n",
    "    print(f\" [{container_name}] Uploaded: {success}, Failed: {failed}\")\n",
    "\n",
    "# 🔁 Upload all DataFrames to corresponding containers\n",
    "for container_name, df in datasets.items():\n",
    "    upload_to_cosmos(container_name, df)\n"
   ]
  },
  {
   "cell_type": "code",
   "execution_count": 0,
   "metadata": {
    "application/vnd.databricks.v1+cell": {
     "cellMetadata": {
      "byteLimit": 2048000,
      "rowLimit": 10000
     },
     "inputWidgets": {},
     "nuid": "1b6357c7-08fa-49ce-a1a8-3c136ca5518e",
     "showTitle": false,
     "tableResultSettingsMap": {},
     "title": ""
    }
   },
   "outputs": [],
   "source": [
    "container_name2 = \"imagescontainer\"\n",
    "storage_account_name2 = \"bhushanrkashyap\"\n",
    "sas_token2 = \"sp=r&st=2025-07-03T05:07:00Z&se=2035-07-03T13:07:00Z&spr=https&sv=2024-11-04&sr=c&sig=x9vjunOI7quRyoRg7cRWOo52N5MNyUNyP3r4ZOF1h34%3D\""
   ]
  },
  {
   "cell_type": "code",
   "execution_count": 0,
   "metadata": {
    "application/vnd.databricks.v1+cell": {
     "cellMetadata": {
      "byteLimit": 2048000,
      "rowLimit": 10000
     },
     "inputWidgets": {},
     "nuid": "44449a38-de9e-4d91-99c9-6598ebe9fb55",
     "showTitle": false,
     "tableResultSettingsMap": {},
     "title": ""
    }
   },
   "outputs": [],
   "source": [
    "#Storing the graph's URLs i cosmos DB by storing them in a Blob. \n",
    "image_filenames = [\n",
    "    \"graph1.png\",\n",
    "    \"graph2.png\",\n",
    "    \"graph3.png\",\n",
    "    \"graph4.png\",\n",
    "    \"graph5.png\"\n",
    "]\n",
    "\n",
    "# Use your provided values\n",
    "storage_account_name2 = \"bhushanrkashyap\"\n",
    "container_name2 = \"imagescontainer\"\n",
    "sas_token2 = \"sp=r&st=2025-07-03T05:07:00Z&se=2035-07-03T13:07:00Z&spr=https&sv=2024-11-04&sr=c&sig=x9vjunOI7quRyoRg7cRWOo52N5MNyUNyP3r4ZOF1h34%3D\"\n",
    "\n",
    "image_urls = [\n",
    "    f\"https://{storage_account_name2}.blob.core.windows.net/{container_name2}/{filename}?{sas_token2}\"\n",
    "    for filename in image_filenames\n",
    "]\n"
   ]
  },
  {
   "cell_type": "code",
   "execution_count": 0,
   "metadata": {
    "application/vnd.databricks.v1+cell": {
     "cellMetadata": {
      "byteLimit": 2048000,
      "rowLimit": 10000
     },
     "inputWidgets": {},
     "nuid": "9d7ace7d-d437-4419-b0e3-3eaff72edaf6",
     "showTitle": false,
     "tableResultSettingsMap": {},
     "title": ""
    }
   },
   "outputs": [],
   "source": [
    "#Upload the blob container to Azure Cosmos DB\n",
    "from azure.cosmos import CosmosClient, PartitionKey\n",
    "import uuid\n",
    "\n",
    "# Cosmos DB setup\n",
    "cosmos_endpoint = \"https://outputdatabase.documents.azure.com:443/\"\n",
    "cosmos_key = \"SUECwUYFI9RgrpcA9e3JTy1M2n3RHFMOvTAdP7njdlcBo0sdX7o0Ex0T5YyRKcOnZHPl3tXSD3M7ACDbj20S4g==\" \n",
    "database_name = \"outputdatabase\"\n",
    "container_name = \"graphcontainer1\"\n",
    "\n",
    "# Connect to Cosmos DB\n",
    "client = CosmosClient(cosmos_endpoint, cosmos_key)\n",
    "database = client.get_database_client(database_name)\n",
    "\n",
    "# Create container if it doesn’t exist\n",
    "container = database.create_container_if_not_exists(\n",
    "    id=container_name,\n",
    "    partition_key=PartitionKey(path=\"/id\")\n",
    ")\n",
    "\n",
    "# Upload the image URLs\n",
    "for i, image_url in enumerate(image_urls):\n",
    "    doc = {\n",
    "        \"id\": str(uuid.uuid4()),\n",
    "        \"filename\": image_filenames[i],\n",
    "        \"image_url\": image_url,\n",
    "        \"source\": \"AzureBlobGraph\",\n",
    "    }\n",
    "    container.upsert_item(doc)\n",
    "\n",
    "print(\" All 5 graph image URLs uploaded to Cosmos DB.\")\n"
   ]
  }
 ],
 "metadata": {
  "application/vnd.databricks.v1+notebook": {
   "computePreferences": null,
   "dashboards": [],
   "environmentMetadata": {
    "base_environment": "",
    "environment_version": "2"
   },
   "inputWidgetPreferences": null,
   "language": "python",
   "notebookMetadata": {
    "pythonIndentUnit": 4
   },
   "notebookName": "analysis notebook",
   "widgets": {}
  },
  "language_info": {
   "name": "python"
  }
 },
 "nbformat": 4,
 "nbformat_minor": 0
}
